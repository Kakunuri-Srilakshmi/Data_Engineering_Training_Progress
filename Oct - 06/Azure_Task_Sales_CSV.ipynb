{
 "cells": [
  {
   "cell_type": "code",
   "execution_count": 0,
   "metadata": {
    "application/vnd.databricks.v1+cell": {
     "cellMetadata": {
      "byteLimit": 2048000,
      "rowLimit": 10000
     },
     "inputWidgets": {},
     "nuid": "01bd3e7b-befb-4deb-a5f5-047a4e74fdba",
     "showTitle": false,
     "tableResultSettingsMap": {},
     "title": ""
    }
   },
   "outputs": [
    {
     "output_type": "display_data",
     "data": {
      "text/html": [
       "<style scoped>\n",
       "  .table-result-container {\n",
       "    max-height: 300px;\n",
       "    overflow: auto;\n",
       "  }\n",
       "  table, th, td {\n",
       "    border: 1px solid black;\n",
       "    border-collapse: collapse;\n",
       "  }\n",
       "  th, td {\n",
       "    padding: 5px;\n",
       "  }\n",
       "  th {\n",
       "    text-align: left;\n",
       "  }\n",
       "</style><div class='table-result-container'><table class='table-result'><thead style='background-color: white'><tr><th>order_id</th><th>product</th><th>category</th><th>quantity</th><th>price</th><th>region</th><th>sale_date</th></tr></thead><tbody><tr><td>1001</td><td>Laptop</td><td>Electronics</td><td>2</td><td>55000</td><td>North</td><td>2024-01-10</td></tr><tr><td>1002</td><td>Mobile</td><td>Electronics</td><td>3</td><td>25000</td><td>South</td><td>2024-01-12</td></tr><tr><td>1003</td><td>Headphones</td><td>Electronics</td><td>5</td><td>3000</td><td>East</td><td>2024-01-15</td></tr><tr><td>1004</td><td>Chair</td><td>Furniture</td><td>4</td><td>5000</td><td>West</td><td>2024-02-05</td></tr><tr><td>1005</td><td>Book</td><td>Stationery</td><td>10</td><td>700</td><td>North</td><td>2024-02-08</td></tr><tr><td>1006</td><td>Shoes</td><td>Fashion</td><td>3</td><td>2500</td><td>South</td><td>2024-02-20</td></tr><tr><td>1007</td><td>Table</td><td>Furniture</td><td>2</td><td>7000</td><td>West</td><td>2024-03-01</td></tr><tr><td>1008</td><td>Pen</td><td>Stationery</td><td>20</td><td>50</td><td>East</td><td>2024-03-10</td></tr><tr><td>1009</td><td>Laptop</td><td>Electronics</td><td>1</td><td>55000</td><td>North</td><td>2024-03-15</td></tr><tr><td>1010</td><td>Mobile</td><td>Electronics</td><td>2</td><td>25000</td><td>South</td><td>2024-03-18</td></tr></tbody></table></div>"
      ]
     },
     "metadata": {
      "application/vnd.databricks.v1+output": {
       "addedWidgets": {},
       "aggData": [],
       "aggError": "",
       "aggOverflow": false,
       "aggSchema": [],
       "aggSeriesLimitReached": false,
       "aggType": "",
       "arguments": {},
       "columnCustomDisplayInfos": {},
       "data": [
        [
         1001,
         "Laptop",
         "Electronics",
         2,
         55000,
         "North",
         "2024-01-10"
        ],
        [
         1002,
         "Mobile",
         "Electronics",
         3,
         25000,
         "South",
         "2024-01-12"
        ],
        [
         1003,
         "Headphones",
         "Electronics",
         5,
         3000,
         "East",
         "2024-01-15"
        ],
        [
         1004,
         "Chair",
         "Furniture",
         4,
         5000,
         "West",
         "2024-02-05"
        ],
        [
         1005,
         "Book",
         "Stationery",
         10,
         700,
         "North",
         "2024-02-08"
        ],
        [
         1006,
         "Shoes",
         "Fashion",
         3,
         2500,
         "South",
         "2024-02-20"
        ],
        [
         1007,
         "Table",
         "Furniture",
         2,
         7000,
         "West",
         "2024-03-01"
        ],
        [
         1008,
         "Pen",
         "Stationery",
         20,
         50,
         "East",
         "2024-03-10"
        ],
        [
         1009,
         "Laptop",
         "Electronics",
         1,
         55000,
         "North",
         "2024-03-15"
        ],
        [
         1010,
         "Mobile",
         "Electronics",
         2,
         25000,
         "South",
         "2024-03-18"
        ]
       ],
       "datasetInfos": [],
       "dbfsResultPath": null,
       "isJsonSchema": true,
       "metadata": {},
       "overflow": false,
       "plotOptions": {
        "customPlotOptions": {},
        "displayType": "table",
        "pivotAggregation": null,
        "pivotColumns": null,
        "xColumns": null,
        "yColumns": null
       },
       "removedWidgets": [],
       "schema": [
        {
         "metadata": "{}",
         "name": "order_id",
         "type": "\"integer\""
        },
        {
         "metadata": "{}",
         "name": "product",
         "type": "\"string\""
        },
        {
         "metadata": "{}",
         "name": "category",
         "type": "\"string\""
        },
        {
         "metadata": "{}",
         "name": "quantity",
         "type": "\"integer\""
        },
        {
         "metadata": "{}",
         "name": "price",
         "type": "\"integer\""
        },
        {
         "metadata": "{}",
         "name": "region",
         "type": "\"string\""
        },
        {
         "metadata": "{\"__detected_date_formats\": \"yyyy-M-d\"}",
         "name": "sale_date",
         "type": "\"date\""
        }
       ],
       "type": "table"
      }
     },
     "output_type": "display_data"
    }
   ],
   "source": [
    "df = spark.read.csv(\"/FileStore/tables/sales_data.csv\", header=True, inferSchema=True)\n",
    "display(df)"
   ]
  },
  {
   "cell_type": "code",
   "execution_count": 0,
   "metadata": {
    "application/vnd.databricks.v1+cell": {
     "cellMetadata": {
      "byteLimit": 2048000,
      "rowLimit": 10000
     },
     "inputWidgets": {},
     "nuid": "ded0c266-e3ed-45b8-bb41-fd17ab7510e4",
     "showTitle": false,
     "tableResultSettingsMap": {},
     "title": ""
    }
   },
   "outputs": [
    {
     "output_type": "display_data",
     "data": {
      "text/html": [
       "<style scoped>\n",
       "  .table-result-container {\n",
       "    max-height: 300px;\n",
       "    overflow: auto;\n",
       "  }\n",
       "  table, th, td {\n",
       "    border: 1px solid black;\n",
       "    border-collapse: collapse;\n",
       "  }\n",
       "  th, td {\n",
       "    padding: 5px;\n",
       "  }\n",
       "  th {\n",
       "    text-align: left;\n",
       "  }\n",
       "</style><div class='table-result-container'><table class='table-result'><thead style='background-color: white'><tr><th>order_id</th><th>product</th><th>category</th><th>quantity</th><th>price</th><th>region</th><th>sale_date</th></tr></thead><tbody><tr><td>1001</td><td>Laptop</td><td>Electronics</td><td>2</td><td>55000</td><td>North</td><td>2024-01-10</td></tr><tr><td>1002</td><td>Mobile</td><td>Electronics</td><td>3</td><td>25000</td><td>South</td><td>2024-01-12</td></tr><tr><td>1003</td><td>Headphones</td><td>Electronics</td><td>5</td><td>3000</td><td>East</td><td>2024-01-15</td></tr><tr><td>1004</td><td>Chair</td><td>Furniture</td><td>4</td><td>5000</td><td>West</td><td>2024-02-05</td></tr><tr><td>1005</td><td>Book</td><td>Stationery</td><td>10</td><td>700</td><td>North</td><td>2024-02-08</td></tr><tr><td>1006</td><td>Shoes</td><td>Fashion</td><td>3</td><td>2500</td><td>South</td><td>2024-02-20</td></tr><tr><td>1007</td><td>Table</td><td>Furniture</td><td>2</td><td>7000</td><td>West</td><td>2024-03-01</td></tr><tr><td>1008</td><td>Pen</td><td>Stationery</td><td>20</td><td>50</td><td>East</td><td>2024-03-10</td></tr><tr><td>1009</td><td>Laptop</td><td>Electronics</td><td>1</td><td>55000</td><td>North</td><td>2024-03-15</td></tr><tr><td>1010</td><td>Mobile</td><td>Electronics</td><td>2</td><td>25000</td><td>South</td><td>2024-03-18</td></tr></tbody></table></div>"
      ]
     },
     "metadata": {
      "application/vnd.databricks.v1+output": {
       "addedWidgets": {},
       "aggData": [],
       "aggError": "",
       "aggOverflow": false,
       "aggSchema": [],
       "aggSeriesLimitReached": false,
       "aggType": "",
       "arguments": {},
       "columnCustomDisplayInfos": {},
       "data": [
        [
         1001,
         "Laptop",
         "Electronics",
         2,
         55000,
         "North",
         "2024-01-10"
        ],
        [
         1002,
         "Mobile",
         "Electronics",
         3,
         25000,
         "South",
         "2024-01-12"
        ],
        [
         1003,
         "Headphones",
         "Electronics",
         5,
         3000,
         "East",
         "2024-01-15"
        ],
        [
         1004,
         "Chair",
         "Furniture",
         4,
         5000,
         "West",
         "2024-02-05"
        ],
        [
         1005,
         "Book",
         "Stationery",
         10,
         700,
         "North",
         "2024-02-08"
        ],
        [
         1006,
         "Shoes",
         "Fashion",
         3,
         2500,
         "South",
         "2024-02-20"
        ],
        [
         1007,
         "Table",
         "Furniture",
         2,
         7000,
         "West",
         "2024-03-01"
        ],
        [
         1008,
         "Pen",
         "Stationery",
         20,
         50,
         "East",
         "2024-03-10"
        ],
        [
         1009,
         "Laptop",
         "Electronics",
         1,
         55000,
         "North",
         "2024-03-15"
        ],
        [
         1010,
         "Mobile",
         "Electronics",
         2,
         25000,
         "South",
         "2024-03-18"
        ]
       ],
       "datasetInfos": [],
       "dbfsResultPath": null,
       "isJsonSchema": true,
       "metadata": {},
       "overflow": false,
       "plotOptions": {
        "customPlotOptions": {},
        "displayType": "table",
        "pivotAggregation": null,
        "pivotColumns": null,
        "xColumns": null,
        "yColumns": null
       },
       "removedWidgets": [],
       "schema": [
        {
         "metadata": "{}",
         "name": "order_id",
         "type": "\"integer\""
        },
        {
         "metadata": "{}",
         "name": "product",
         "type": "\"string\""
        },
        {
         "metadata": "{}",
         "name": "category",
         "type": "\"string\""
        },
        {
         "metadata": "{}",
         "name": "quantity",
         "type": "\"integer\""
        },
        {
         "metadata": "{}",
         "name": "price",
         "type": "\"integer\""
        },
        {
         "metadata": "{}",
         "name": "region",
         "type": "\"string\""
        },
        {
         "metadata": "{\"__detected_date_formats\": \"yyyy-M-d\"}",
         "name": "sale_date",
         "type": "\"date\""
        }
       ],
       "type": "table"
      }
     },
     "output_type": "display_data"
    },
    {
     "output_type": "stream",
     "name": "stdout",
     "output_type": "stream",
     "text": [
      "Total number of records: 10\n"
     ]
    }
   ],
   "source": [
    "from pyspark.sql.functions import col\n",
    "\n",
    "# Display all columns and count the total number of records\n",
    "display(df)\n",
    "print(\"Total number of records:\", df.count())\n"
   ]
  },
  {
   "cell_type": "code",
   "execution_count": 0,
   "metadata": {
    "application/vnd.databricks.v1+cell": {
     "cellMetadata": {
      "byteLimit": 2048000,
      "rowLimit": 10000
     },
     "inputWidgets": {},
     "nuid": "a0253850-2b31-4c05-be76-7860ae8901f9",
     "showTitle": false,
     "tableResultSettingsMap": {},
     "title": ""
    }
   },
   "outputs": [
    {
     "output_type": "display_data",
     "data": {
      "text/html": [
       "<style scoped>\n",
       "  .table-result-container {\n",
       "    max-height: 300px;\n",
       "    overflow: auto;\n",
       "  }\n",
       "  table, th, td {\n",
       "    border: 1px solid black;\n",
       "    border-collapse: collapse;\n",
       "  }\n",
       "  th, td {\n",
       "    padding: 5px;\n",
       "  }\n",
       "  th {\n",
       "    text-align: left;\n",
       "  }\n",
       "</style><div class='table-result-container'><table class='table-result'><thead style='background-color: white'><tr><th>product</th><th>region</th><th>price</th></tr></thead><tbody><tr><td>Laptop</td><td>North</td><td>55000</td></tr><tr><td>Mobile</td><td>South</td><td>25000</td></tr><tr><td>Headphones</td><td>East</td><td>3000</td></tr><tr><td>Chair</td><td>West</td><td>5000</td></tr><tr><td>Book</td><td>North</td><td>700</td></tr><tr><td>Shoes</td><td>South</td><td>2500</td></tr><tr><td>Table</td><td>West</td><td>7000</td></tr><tr><td>Pen</td><td>East</td><td>50</td></tr><tr><td>Laptop</td><td>North</td><td>55000</td></tr><tr><td>Mobile</td><td>South</td><td>25000</td></tr></tbody></table></div>"
      ]
     },
     "metadata": {
      "application/vnd.databricks.v1+output": {
       "addedWidgets": {},
       "aggData": [],
       "aggError": "",
       "aggOverflow": false,
       "aggSchema": [],
       "aggSeriesLimitReached": false,
       "aggType": "",
       "arguments": {},
       "columnCustomDisplayInfos": {},
       "data": [
        [
         "Laptop",
         "North",
         55000
        ],
        [
         "Mobile",
         "South",
         25000
        ],
        [
         "Headphones",
         "East",
         3000
        ],
        [
         "Chair",
         "West",
         5000
        ],
        [
         "Book",
         "North",
         700
        ],
        [
         "Shoes",
         "South",
         2500
        ],
        [
         "Table",
         "West",
         7000
        ],
        [
         "Pen",
         "East",
         50
        ],
        [
         "Laptop",
         "North",
         55000
        ],
        [
         "Mobile",
         "South",
         25000
        ]
       ],
       "datasetInfos": [],
       "dbfsResultPath": null,
       "isJsonSchema": true,
       "metadata": {},
       "overflow": false,
       "plotOptions": {
        "customPlotOptions": {},
        "displayType": "table",
        "pivotAggregation": null,
        "pivotColumns": null,
        "xColumns": null,
        "yColumns": null
       },
       "removedWidgets": [],
       "schema": [
        {
         "metadata": "{}",
         "name": "product",
         "type": "\"string\""
        },
        {
         "metadata": "{}",
         "name": "region",
         "type": "\"string\""
        },
        {
         "metadata": "{}",
         "name": "price",
         "type": "\"integer\""
        }
       ],
       "type": "table"
      }
     },
     "output_type": "display_data"
    }
   ],
   "source": [
    "#  Show only the product, region, and price columns\n",
    "display(df.select(\"product\", \"region\", \"price\"))\n"
   ]
  },
  {
   "cell_type": "code",
   "execution_count": 0,
   "metadata": {
    "application/vnd.databricks.v1+cell": {
     "cellMetadata": {
      "byteLimit": 2048000,
      "rowLimit": 10000
     },
     "inputWidgets": {},
     "nuid": "64f90cf6-fea5-4081-9c2f-752c1802c2c7",
     "showTitle": false,
     "tableResultSettingsMap": {},
     "title": ""
    }
   },
   "outputs": [
    {
     "output_type": "display_data",
     "data": {
      "text/html": [
       "<style scoped>\n",
       "  .table-result-container {\n",
       "    max-height: 300px;\n",
       "    overflow: auto;\n",
       "  }\n",
       "  table, th, td {\n",
       "    border: 1px solid black;\n",
       "    border-collapse: collapse;\n",
       "  }\n",
       "  th, td {\n",
       "    padding: 5px;\n",
       "  }\n",
       "  th {\n",
       "    text-align: left;\n",
       "  }\n",
       "</style><div class='table-result-container'><table class='table-result'><thead style='background-color: white'><tr><th>order_id</th><th>product</th><th>category</th><th>quantity</th><th>price</th><th>region</th><th>sale_date</th></tr></thead><tbody><tr><td>1001</td><td>Laptop</td><td>Electronics</td><td>2</td><td>55000</td><td>North</td><td>2024-01-10</td></tr><tr><td>1005</td><td>Book</td><td>Stationery</td><td>10</td><td>700</td><td>North</td><td>2024-02-08</td></tr><tr><td>1009</td><td>Laptop</td><td>Electronics</td><td>1</td><td>55000</td><td>North</td><td>2024-03-15</td></tr></tbody></table></div>"
      ]
     },
     "metadata": {
      "application/vnd.databricks.v1+output": {
       "addedWidgets": {},
       "aggData": [],
       "aggError": "",
       "aggOverflow": false,
       "aggSchema": [],
       "aggSeriesLimitReached": false,
       "aggType": "",
       "arguments": {},
       "columnCustomDisplayInfos": {},
       "data": [
        [
         1001,
         "Laptop",
         "Electronics",
         2,
         55000,
         "North",
         "2024-01-10"
        ],
        [
         1005,
         "Book",
         "Stationery",
         10,
         700,
         "North",
         "2024-02-08"
        ],
        [
         1009,
         "Laptop",
         "Electronics",
         1,
         55000,
         "North",
         "2024-03-15"
        ]
       ],
       "datasetInfos": [],
       "dbfsResultPath": null,
       "isJsonSchema": true,
       "metadata": {},
       "overflow": false,
       "plotOptions": {
        "customPlotOptions": {},
        "displayType": "table",
        "pivotAggregation": null,
        "pivotColumns": null,
        "xColumns": null,
        "yColumns": null
       },
       "removedWidgets": [],
       "schema": [
        {
         "metadata": "{}",
         "name": "order_id",
         "type": "\"integer\""
        },
        {
         "metadata": "{}",
         "name": "product",
         "type": "\"string\""
        },
        {
         "metadata": "{}",
         "name": "category",
         "type": "\"string\""
        },
        {
         "metadata": "{}",
         "name": "quantity",
         "type": "\"integer\""
        },
        {
         "metadata": "{}",
         "name": "price",
         "type": "\"integer\""
        },
        {
         "metadata": "{}",
         "name": "region",
         "type": "\"string\""
        },
        {
         "metadata": "{\"__detected_date_formats\": \"yyyy-M-d\"}",
         "name": "sale_date",
         "type": "\"date\""
        }
       ],
       "type": "table"
      }
     },
     "output_type": "display_data"
    }
   ],
   "source": [
    "#  Filter rows where the region is \"North\"\n",
    "north_df = df.filter(col(\"region\") == \"North\") \n",
    "display(north_df)\n"
   ]
  },
  {
   "cell_type": "code",
   "execution_count": 0,
   "metadata": {
    "application/vnd.databricks.v1+cell": {
     "cellMetadata": {
      "byteLimit": 2048000,
      "rowLimit": 10000
     },
     "inputWidgets": {},
     "nuid": "fb1f87d1-4a38-4f4e-8e2b-804bff477d93",
     "showTitle": false,
     "tableResultSettingsMap": {},
     "title": ""
    }
   },
   "outputs": [
    {
     "output_type": "display_data",
     "data": {
      "text/html": [
       "<style scoped>\n",
       "  .table-result-container {\n",
       "    max-height: 300px;\n",
       "    overflow: auto;\n",
       "  }\n",
       "  table, th, td {\n",
       "    border: 1px solid black;\n",
       "    border-collapse: collapse;\n",
       "  }\n",
       "  th, td {\n",
       "    padding: 5px;\n",
       "  }\n",
       "  th {\n",
       "    text-align: left;\n",
       "  }\n",
       "</style><div class='table-result-container'><table class='table-result'><thead style='background-color: white'><tr><th>category</th></tr></thead><tbody><tr><td>Furniture</td></tr><tr><td>Stationery</td></tr><tr><td>Electronics</td></tr><tr><td>Fashion</td></tr></tbody></table></div>"
      ]
     },
     "metadata": {
      "application/vnd.databricks.v1+output": {
       "addedWidgets": {},
       "aggData": [],
       "aggError": "",
       "aggOverflow": false,
       "aggSchema": [],
       "aggSeriesLimitReached": false,
       "aggType": "",
       "arguments": {},
       "columnCustomDisplayInfos": {},
       "data": [
        [
         "Furniture"
        ],
        [
         "Stationery"
        ],
        [
         "Electronics"
        ],
        [
         "Fashion"
        ]
       ],
       "datasetInfos": [],
       "dbfsResultPath": null,
       "isJsonSchema": true,
       "metadata": {},
       "overflow": false,
       "plotOptions": {
        "customPlotOptions": {},
        "displayType": "table",
        "pivotAggregation": null,
        "pivotColumns": null,
        "xColumns": null,
        "yColumns": null
       },
       "removedWidgets": [],
       "schema": [
        {
         "metadata": "{}",
         "name": "category",
         "type": "\"string\""
        }
       ],
       "type": "table"
      }
     },
     "output_type": "display_data"
    }
   ],
   "source": [
    "#  Display only the distinct product categories\n",
    "distinct_categories = df.select(\"category\").distinct()\n",
    "display(distinct_categories)\n"
   ]
  },
  {
   "cell_type": "code",
   "execution_count": 0,
   "metadata": {
    "application/vnd.databricks.v1+cell": {
     "cellMetadata": {
      "byteLimit": 2048000,
      "rowLimit": 10000
     },
     "inputWidgets": {},
     "nuid": "f6124b50-f4eb-42a3-b279-3d706b50f853",
     "showTitle": false,
     "tableResultSettingsMap": {},
     "title": ""
    }
   },
   "outputs": [
    {
     "output_type": "stream",
     "name": "stdout",
     "output_type": "stream",
     "text": [
      "Number of unique regions: 4\n"
     ]
    }
   ],
   "source": [
    "# Find how many unique regions are present in the dataset\n",
    "unique_regions_count = df.select(\"region\").distinct().count()\n",
    "print(\"Number of unique regions:\", unique_regions_count)\n"
   ]
  }
 ],
 "metadata": {
  "application/vnd.databricks.v1+notebook": {
   "computePreferences": null,
   "dashboards": [],
   "environmentMetadata": {
    "base_environment": "",
    "environment_version": "3"
   },
   "inputWidgetPreferences": null,
   "language": "python",
   "notebookMetadata": {
    "pythonIndentUnit": 4
   },
   "notebookName": "Untitled Notebook 2025-10-06 16:00:56",
   "widgets": {}
  },
  "language_info": {
   "name": "python"
  }
 },
 "nbformat": 4,
 "nbformat_minor": 0
}