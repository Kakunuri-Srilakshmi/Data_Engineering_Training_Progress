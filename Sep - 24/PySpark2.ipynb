{
  "nbformat": 4,
  "nbformat_minor": 0,
  "metadata": {
    "colab": {
      "provenance": []
    },
    "kernelspec": {
      "name": "python3",
      "display_name": "Python 3"
    },
    "language_info": {
      "name": "python"
    }
  },
  "cells": [
    {
      "cell_type": "markdown",
      "source": [
        "### **Task 2 - Customers & Orders**"
      ],
      "metadata": {
        "id": "uA1siAk9faVs"
      }
    },
    {
      "cell_type": "code",
      "execution_count": 1,
      "metadata": {
        "id": "SWDE3Tn0Cxle"
      },
      "outputs": [],
      "source": [
        "from pyspark.sql import SparkSession\n",
        "from pyspark.sql import functions as F\n",
        "\n",
        "# Step 1: Create Spark Session\n",
        "spark = SparkSession.builder.appName(\"DataFrame-Exercises\").getOrCreate()"
      ]
    },
    {
      "cell_type": "code",
      "source": [
        "customers_data = [\n",
        "    (1, \"Rahul Sharma\", \"Bangalore\", 28),\n",
        "    (2, \"Priya Singh\", \"Delhi\", 32),\n",
        "    (3, \"Aman Kumar\", \"Hyderabad\", 25),\n",
        "    (4, \"Sneha Reddy\", \"Chennai\", 35),\n",
        "    (5, \"Arjun Mehta\", \"Mumbai\", 30),\n",
        "    (6, \"Divya Nair\", \"Delhi\", 29)\n",
        "]\n",
        "customers_cols = [\"customer_id\", \"name\", \"city\", \"age\"]\n",
        "customers_df = spark.createDataFrame(customers_data, customers_cols)\n",
        "\n",
        "# Orders Data\n",
        "orders_data = [\n",
        "    (101, 1, \"Laptop\", 55000),\n",
        "    (102, 2, \"Mobile\", 25000),\n",
        "    (103, 1, \"Headphones\", 3000),\n",
        "    (104, 3, \"Chair\", 5000),\n",
        "    (105, 5, \"Book\", 700),\n",
        "    (106, 2, \"Tablet\", 20000),\n",
        "    (107, 6, \"Shoes\", 2500),\n",
        "    (108, 7, \"Camera\", 30000)  # Order with non-existent customer\n",
        "]\n",
        "orders_cols = [\"order_id\", \"customer_id\", \"product\", \"amount\"]\n",
        "orders_df = spark.createDataFrame(orders_data, orders_cols)\n",
        "\n",
        "print(\"=== Customers Data ===\")\n",
        "customers_df.show()\n",
        "print(\"=== Orders Data ===\")\n",
        "orders_df.show()"
      ],
      "metadata": {
        "colab": {
          "base_uri": "https://localhost:8080/"
        },
        "id": "j03VVGlLC7Qt",
        "outputId": "f445b8c6-3a4e-4050-89e7-5c641021d964"
      },
      "execution_count": 2,
      "outputs": [
        {
          "output_type": "stream",
          "name": "stdout",
          "text": [
            "=== Customers Data ===\n",
            "+-----------+------------+---------+---+\n",
            "|customer_id|        name|     city|age|\n",
            "+-----------+------------+---------+---+\n",
            "|          1|Rahul Sharma|Bangalore| 28|\n",
            "|          2| Priya Singh|    Delhi| 32|\n",
            "|          3|  Aman Kumar|Hyderabad| 25|\n",
            "|          4| Sneha Reddy|  Chennai| 35|\n",
            "|          5| Arjun Mehta|   Mumbai| 30|\n",
            "|          6|  Divya Nair|    Delhi| 29|\n",
            "+-----------+------------+---------+---+\n",
            "\n",
            "=== Orders Data ===\n",
            "+--------+-----------+----------+------+\n",
            "|order_id|customer_id|   product|amount|\n",
            "+--------+-----------+----------+------+\n",
            "|     101|          1|    Laptop| 55000|\n",
            "|     102|          2|    Mobile| 25000|\n",
            "|     103|          1|Headphones|  3000|\n",
            "|     104|          3|     Chair|  5000|\n",
            "|     105|          5|      Book|   700|\n",
            "|     106|          2|    Tablet| 20000|\n",
            "|     107|          6|     Shoes|  2500|\n",
            "|     108|          7|    Camera| 30000|\n",
            "+--------+-----------+----------+------+\n",
            "\n"
          ]
        }
      ]
    },
    {
      "cell_type": "markdown",
      "source": [
        "### **Basic Operations**"
      ],
      "metadata": {
        "id": "kRD0Y0nTDj9m"
      }
    },
    {
      "cell_type": "code",
      "source": [
        "# 1. Select only name and city\n",
        "customers_df.select(\"name\", \"city\").show()\n",
        "\n",
        "# 2. Filter customers older than 30\n",
        "customers_df.filter(customers_df.age > 30).show()\n",
        "\n",
        "# 3. Count how many customers are from \"Delhi\"\n",
        "customers_df.filter(customers_df.city == \"Delhi\").count()\n",
        "\n",
        "# 4. Find distinct cities in the customer list\n",
        "customers_df.select(\"city\").distinct().show()\n"
      ],
      "metadata": {
        "colab": {
          "base_uri": "https://localhost:8080/"
        },
        "id": "Zvbigh_5DTq7",
        "outputId": "9e5cad43-18f4-435c-acab-f24ec0c7eccd"
      },
      "execution_count": 3,
      "outputs": [
        {
          "output_type": "stream",
          "name": "stdout",
          "text": [
            "+------------+---------+\n",
            "|        name|     city|\n",
            "+------------+---------+\n",
            "|Rahul Sharma|Bangalore|\n",
            "| Priya Singh|    Delhi|\n",
            "|  Aman Kumar|Hyderabad|\n",
            "| Sneha Reddy|  Chennai|\n",
            "| Arjun Mehta|   Mumbai|\n",
            "|  Divya Nair|    Delhi|\n",
            "+------------+---------+\n",
            "\n",
            "+-----------+-----------+-------+---+\n",
            "|customer_id|       name|   city|age|\n",
            "+-----------+-----------+-------+---+\n",
            "|          2|Priya Singh|  Delhi| 32|\n",
            "|          4|Sneha Reddy|Chennai| 35|\n",
            "+-----------+-----------+-------+---+\n",
            "\n",
            "+---------+\n",
            "|     city|\n",
            "+---------+\n",
            "|Bangalore|\n",
            "|    Delhi|\n",
            "|Hyderabad|\n",
            "|  Chennai|\n",
            "|   Mumbai|\n",
            "+---------+\n",
            "\n"
          ]
        }
      ]
    },
    {
      "cell_type": "markdown",
      "source": [
        "### **Aggregations**"
      ],
      "metadata": {
        "id": "kZCbK4ZbD4rH"
      }
    },
    {
      "cell_type": "code",
      "source": [
        "from pyspark.sql import functions as F\n",
        "\n",
        "# 5. Average age of customers\n",
        "customers_df.agg(F.avg(\"age\")).show()\n",
        "\n",
        "# 6. Maximum and minimum order amount\n",
        "orders_df.agg(F.max(\"amount\"), F.min(\"amount\")).show()\n",
        "\n",
        "# 7. Count number of orders placed by each customer\n",
        "orders_df.groupBy(\"customer_id\").count().show()\n",
        "\n",
        "# 8. Total spending of each customer\n",
        "orders_df.groupBy(\"customer_id\").agg(F.sum(\"amount\").alias(\"total_spent\")).show()\n"
      ],
      "metadata": {
        "colab": {
          "base_uri": "https://localhost:8080/"
        },
        "id": "VzlWzw2SDix3",
        "outputId": "35837240-1519-491a-8319-05c31f38386c"
      },
      "execution_count": 4,
      "outputs": [
        {
          "output_type": "stream",
          "name": "stdout",
          "text": [
            "+------------------+\n",
            "|          avg(age)|\n",
            "+------------------+\n",
            "|29.833333333333332|\n",
            "+------------------+\n",
            "\n",
            "+-----------+-----------+\n",
            "|max(amount)|min(amount)|\n",
            "+-----------+-----------+\n",
            "|      55000|        700|\n",
            "+-----------+-----------+\n",
            "\n",
            "+-----------+-----+\n",
            "|customer_id|count|\n",
            "+-----------+-----+\n",
            "|          1|    2|\n",
            "|          3|    1|\n",
            "|          2|    2|\n",
            "|          7|    1|\n",
            "|          6|    1|\n",
            "|          5|    1|\n",
            "+-----------+-----+\n",
            "\n",
            "+-----------+-----------+\n",
            "|customer_id|total_spent|\n",
            "+-----------+-----------+\n",
            "|          1|      58000|\n",
            "|          3|       5000|\n",
            "|          2|      45000|\n",
            "|          7|      30000|\n",
            "|          6|       2500|\n",
            "|          5|        700|\n",
            "+-----------+-----------+\n",
            "\n"
          ]
        }
      ]
    },
    {
      "cell_type": "markdown",
      "source": [
        "### **Joins**"
      ],
      "metadata": {
        "id": "8xtjVng0EEul"
      }
    },
    {
      "cell_type": "code",
      "source": [
        "# 9. Inner join (only matching customers)\n",
        "customers_df.join(orders_df, \"customer_id\", \"inner\").show()\n",
        "\n",
        "# 10. Left join (all customers, even without orders)\n",
        "customers_df.join(orders_df, \"customer_id\", \"left\").show()\n",
        "\n",
        "# 11. Customers who never placed an order\n",
        "customers_df.join(orders_df, \"customer_id\", \"left\") \\\n",
        "            .filter(orders_df.order_id.isNull()).show()\n",
        "\n",
        "# 12. Orders that belong to non-existent customers\n",
        "orders_df.join(customers_df, \"customer_id\", \"left\") \\\n",
        "         .filter(customers_df.customer_id.isNull()).show()\n"
      ],
      "metadata": {
        "colab": {
          "base_uri": "https://localhost:8080/"
        },
        "id": "3uy4VY4cD1mK",
        "outputId": "a231e38c-a4f3-455c-e50d-e880a7d01ef7"
      },
      "execution_count": 5,
      "outputs": [
        {
          "output_type": "stream",
          "name": "stdout",
          "text": [
            "+-----------+------------+---------+---+--------+----------+------+\n",
            "|customer_id|        name|     city|age|order_id|   product|amount|\n",
            "+-----------+------------+---------+---+--------+----------+------+\n",
            "|          1|Rahul Sharma|Bangalore| 28|     101|    Laptop| 55000|\n",
            "|          1|Rahul Sharma|Bangalore| 28|     103|Headphones|  3000|\n",
            "|          2| Priya Singh|    Delhi| 32|     102|    Mobile| 25000|\n",
            "|          2| Priya Singh|    Delhi| 32|     106|    Tablet| 20000|\n",
            "|          3|  Aman Kumar|Hyderabad| 25|     104|     Chair|  5000|\n",
            "|          5| Arjun Mehta|   Mumbai| 30|     105|      Book|   700|\n",
            "|          6|  Divya Nair|    Delhi| 29|     107|     Shoes|  2500|\n",
            "+-----------+------------+---------+---+--------+----------+------+\n",
            "\n",
            "+-----------+------------+---------+---+--------+----------+------+\n",
            "|customer_id|        name|     city|age|order_id|   product|amount|\n",
            "+-----------+------------+---------+---+--------+----------+------+\n",
            "|          1|Rahul Sharma|Bangalore| 28|     103|Headphones|  3000|\n",
            "|          1|Rahul Sharma|Bangalore| 28|     101|    Laptop| 55000|\n",
            "|          3|  Aman Kumar|Hyderabad| 25|     104|     Chair|  5000|\n",
            "|          2| Priya Singh|    Delhi| 32|     106|    Tablet| 20000|\n",
            "|          2| Priya Singh|    Delhi| 32|     102|    Mobile| 25000|\n",
            "|          6|  Divya Nair|    Delhi| 29|     107|     Shoes|  2500|\n",
            "|          5| Arjun Mehta|   Mumbai| 30|     105|      Book|   700|\n",
            "|          4| Sneha Reddy|  Chennai| 35|    NULL|      NULL|  NULL|\n",
            "+-----------+------------+---------+---+--------+----------+------+\n",
            "\n",
            "+-----------+-----------+-------+---+--------+-------+------+\n",
            "|customer_id|       name|   city|age|order_id|product|amount|\n",
            "+-----------+-----------+-------+---+--------+-------+------+\n",
            "|          4|Sneha Reddy|Chennai| 35|    NULL|   NULL|  NULL|\n",
            "+-----------+-----------+-------+---+--------+-------+------+\n",
            "\n",
            "+-----------+--------+-------+------+----+----+----+\n",
            "|customer_id|order_id|product|amount|name|city| age|\n",
            "+-----------+--------+-------+------+----+----+----+\n",
            "|          7|     108| Camera| 30000|NULL|NULL|NULL|\n",
            "+-----------+--------+-------+------+----+----+----+\n",
            "\n"
          ]
        }
      ]
    },
    {
      "cell_type": "markdown",
      "source": [
        "### **Sorting & Grouping**"
      ],
      "metadata": {
        "id": "sSd6t8gyEVRn"
      }
    },
    {
      "cell_type": "code",
      "source": [
        "# 13. Customers ordered by age (descending)\n",
        "customers_df.orderBy(customers_df.age.desc()).show()\n",
        "\n",
        "# 14. Top 3 highest order amounts\n",
        "orders_df.orderBy(orders_df.amount.desc()).limit(3).show()\n",
        "\n",
        "# 15. Group customers by city and find average age\n",
        "customers_df.groupBy(\"city\").agg(F.avg(\"age\")).show()\n",
        "\n",
        "# 16. Group orders by product and find total sales amount\n",
        "orders_df.groupBy(\"product\").agg(F.sum(\"amount\").alias(\"total_sales\")).show()\n"
      ],
      "metadata": {
        "colab": {
          "base_uri": "https://localhost:8080/"
        },
        "id": "HeJgv-NmEDat",
        "outputId": "f04cae2b-c790-41d8-de44-4a9c8c56808d"
      },
      "execution_count": 6,
      "outputs": [
        {
          "output_type": "stream",
          "name": "stdout",
          "text": [
            "+-----------+------------+---------+---+\n",
            "|customer_id|        name|     city|age|\n",
            "+-----------+------------+---------+---+\n",
            "|          4| Sneha Reddy|  Chennai| 35|\n",
            "|          2| Priya Singh|    Delhi| 32|\n",
            "|          5| Arjun Mehta|   Mumbai| 30|\n",
            "|          6|  Divya Nair|    Delhi| 29|\n",
            "|          1|Rahul Sharma|Bangalore| 28|\n",
            "|          3|  Aman Kumar|Hyderabad| 25|\n",
            "+-----------+------------+---------+---+\n",
            "\n",
            "+--------+-----------+-------+------+\n",
            "|order_id|customer_id|product|amount|\n",
            "+--------+-----------+-------+------+\n",
            "|     101|          1| Laptop| 55000|\n",
            "|     108|          7| Camera| 30000|\n",
            "|     102|          2| Mobile| 25000|\n",
            "+--------+-----------+-------+------+\n",
            "\n",
            "+---------+--------+\n",
            "|     city|avg(age)|\n",
            "+---------+--------+\n",
            "|Bangalore|    28.0|\n",
            "|    Delhi|    30.5|\n",
            "|Hyderabad|    25.0|\n",
            "|  Chennai|    35.0|\n",
            "|   Mumbai|    30.0|\n",
            "+---------+--------+\n",
            "\n",
            "+----------+-----------+\n",
            "|   product|total_sales|\n",
            "+----------+-----------+\n",
            "|     Chair|       5000|\n",
            "|    Laptop|      55000|\n",
            "|    Mobile|      25000|\n",
            "|Headphones|       3000|\n",
            "|      Book|        700|\n",
            "|    Camera|      30000|\n",
            "|     Shoes|       2500|\n",
            "|    Tablet|      20000|\n",
            "+----------+-----------+\n",
            "\n"
          ]
        }
      ]
    },
    {
      "cell_type": "markdown",
      "source": [
        "### **SQL Operations**"
      ],
      "metadata": {
        "id": "_FC4JJmIEpWk"
      }
    },
    {
      "cell_type": "code",
      "source": [
        "# 17. Register as temp views\n",
        "customers_df.createOrReplaceTempView(\"customers\")\n",
        "orders_df.createOrReplaceTempView(\"orders\")\n",
        "\n",
        "# 18. Total revenue by city\n",
        "spark.sql(\"\"\"\n",
        "SELECT c.city, SUM(o.amount) AS total_revenue\n",
        "FROM customers c\n",
        "JOIN orders o ON c.customer_id = o.customer_id\n",
        "GROUP BY c.city\n",
        "\"\"\").show()\n",
        "\n",
        "# 19. Top 2 customers by total spend\n",
        "spark.sql(\"\"\"\n",
        "SELECT c.name, SUM(o.amount) AS total_spent\n",
        "FROM customers c\n",
        "JOIN orders o ON c.customer_id = o.customer_id\n",
        "GROUP BY c.name\n",
        "ORDER BY total_spent DESC\n",
        "LIMIT 2\n",
        "\"\"\").show()\n",
        "\n",
        "# 20. Customers who bought products worth more than 20000\n",
        "spark.sql(\"\"\"\n",
        "SELECT c.name, SUM(o.amount) AS total_spent\n",
        "FROM customers c\n",
        "JOIN orders o ON c.customer_id = o.customer_id\n",
        "GROUP BY c.name\n",
        "HAVING total_spent > 20000\n",
        "\"\"\").show()\n"
      ],
      "metadata": {
        "colab": {
          "base_uri": "https://localhost:8080/"
        },
        "id": "7zHIo4c0ER2d",
        "outputId": "3069b58d-d0ca-4bc8-815b-0a7c5796e7b1"
      },
      "execution_count": 7,
      "outputs": [
        {
          "output_type": "stream",
          "name": "stdout",
          "text": [
            "+---------+-------------+\n",
            "|     city|total_revenue|\n",
            "+---------+-------------+\n",
            "|Bangalore|        58000|\n",
            "|   Mumbai|          700|\n",
            "|    Delhi|        47500|\n",
            "|Hyderabad|         5000|\n",
            "+---------+-------------+\n",
            "\n",
            "+------------+-----------+\n",
            "|        name|total_spent|\n",
            "+------------+-----------+\n",
            "|Rahul Sharma|      58000|\n",
            "| Priya Singh|      45000|\n",
            "+------------+-----------+\n",
            "\n",
            "+------------+-----------+\n",
            "|        name|total_spent|\n",
            "+------------+-----------+\n",
            "|Rahul Sharma|      58000|\n",
            "| Priya Singh|      45000|\n",
            "+------------+-----------+\n",
            "\n"
          ]
        }
      ]
    },
    {
      "cell_type": "markdown",
      "source": [
        " ## **Task - 3 - Work with JSON and CSV files**"
      ],
      "metadata": {
        "id": "nCO-jBQDfvWU"
      }
    },
    {
      "cell_type": "markdown",
      "source": [
        "### **JSON File**"
      ],
      "metadata": {
        "id": "JGQ6yVzEgEGI"
      }
    },
    {
      "cell_type": "code",
      "source": [
        "import json\n",
        "\n",
        "books_data = [\n",
        "  {\"id\": 1, \"title\": \"The AI Revolution\", \"author\": \"John Smith\", \"genre\": \"Technology\", \"price\": 499, \"rating\": 4.7, \"year\": 2023},\n",
        "  {\"id\": 2, \"title\": \"Mystery of the Nile\", \"author\": \"Sarah Lee\", \"genre\": \"Adventure\", \"price\": 350, \"rating\": 4.2, \"year\": 2019},\n",
        "  {\"id\": 3, \"title\": \"Python for All\", \"author\": \"Mike Brown\", \"genre\": \"Education\", \"price\": 275, \"rating\": 4.8, \"year\": 2021},\n",
        "  {\"id\": 4, \"title\": \"Secrets of Space\", \"author\": \"Nina Patel\", \"genre\": \"Science\", \"price\": 600, \"rating\": 4.5, \"year\": 2022},\n",
        "  {\"id\": 5, \"title\": \"The Last Kingdom\", \"author\": \"Robert White\", \"genre\": \"History\", \"price\": 450, \"rating\": 4.0, \"year\": 2018},\n",
        "  {\"id\": 6, \"title\": \"Mindful Living\", \"author\": \"Emma Green\", \"genre\": \"Self-Help\", \"price\": 300, \"rating\": 3.9, \"year\": 2020},\n",
        "  {\"id\": 7, \"title\": \"Future of Energy\", \"author\": \"David Clark\", \"genre\": \"Science\", \"price\": 550, \"rating\": 4.6, \"year\": 2023}\n",
        "]\n",
        "\n",
        "# Save the JSON data to a file\n",
        "with open(\"books.json\", \"w\") as f:\n",
        "    json.dump(books_data, f)\n",
        "\n",
        "print(\"=== JSON Data Saved to books.json ===\")"
      ],
      "metadata": {
        "colab": {
          "base_uri": "https://localhost:8080/"
        },
        "id": "DVzHFAJiElUb",
        "outputId": "315727b6-e761-466c-90eb-794660c5a74a"
      },
      "execution_count": 10,
      "outputs": [
        {
          "output_type": "stream",
          "name": "stdout",
          "text": [
            "=== JSON Data Saved to books.json ===\n"
          ]
        }
      ]
    },
    {
      "cell_type": "code",
      "source": [
        "from pyspark.sql import SparkSession\n",
        "from pyspark.sql.functions import col, avg, count\n",
        "import matplotlib.pyplot as plt\n",
        "\n",
        "# Create Spark Session\n",
        "spark = SparkSession.builder.appName(\"Books-JSON-Visualization\").getOrCreate()\n",
        "\n",
        "# Read JSON file\n",
        "df_json = spark.read.json(\"books.json\")\n",
        "\n",
        "print(\"=== Original JSON Data ===\")\n",
        "df_json.show()\n",
        "\n",
        "# 1. Filter: Books published after 2020\n",
        "recent_books = df_json.filter(col(\"year\") > 2020)\n",
        "\n",
        "# 2. Transformation: Increase price by 10%\n",
        "updated_prices = df_json.withColumn(\"updated_price\", col(\"price\") * 1.1)\n",
        "\n",
        "# 3. Aggregation: Average rating\n",
        "avg_rating = df_json.agg(avg(\"rating\").alias(\"avg_rating\"))\n",
        "\n",
        "# 4. Max-Min: Most expensive and cheapest book\n",
        "most_expensive = df_json.orderBy(col(\"price\").desc()).limit(1)\n",
        "cheapest = df_json.orderBy(col(\"price\").asc()).limit(1)\n",
        "\n",
        "# 5. Group by genre (count)\n",
        "genre_counts = df_json.groupBy(\"genre\").agg(count(\"*\").alias(\"count\"))\n",
        "\n",
        "# 6. Sort by rating (descending)\n",
        "sorted_by_rating = df_json.orderBy(col(\"rating\").desc())\n",
        "\n",
        "# 7. Projection: Select only title & author\n",
        "titles_authors = df_json.select(\"title\", \"author\")\n",
        "\n",
        "# 8. Filter: Books above average price\n",
        "avg_price_val = df_json.agg(avg(\"price\")).collect()[0][0]\n",
        "above_avg_books = df_json.filter(col(\"price\") > avg_price_val)\n",
        "\n",
        "print(\"\\n=== Results ===\")\n",
        "print(\"Books published after 2020:\")\n",
        "recent_books.show()\n",
        "\n",
        "print(\"Prices increased by 10%:\")\n",
        "updated_prices.show()\n",
        "\n",
        "print(\"Average rating:\")\n",
        "avg_rating.show()\n",
        "\n",
        "print(\"Most expensive book:\")\n",
        "most_expensive.show()\n",
        "\n",
        "print(\"Cheapest book:\")\n",
        "cheapest.show()\n",
        "\n",
        "print(\"Books per genre:\")\n",
        "genre_counts.show()\n",
        "\n",
        "print(\"Books sorted by rating:\")\n",
        "sorted_by_rating.show()\n",
        "\n",
        "print(\"Titles & Authors:\")\n",
        "titles_authors.show()\n",
        "\n",
        "print(\"Books above average price:\")\n",
        "above_avg_books.show()\n",
        "\n",
        "# Visualization\n",
        "# Convert necessary PySpark DataFrames to Pandas\n",
        "pdf_genre_counts = genre_counts.toPandas()\n",
        "pdf_avg_rating = df_json.select(\"genre\", \"rating\").groupBy(\"genre\").avg(\"rating\").toPandas()\n",
        "pdf_price_rating = df_json.select(\"price\", \"rating\").toPandas()\n",
        "\n",
        "# 1. Bar chart: Books per genre\n",
        "pdf_genre_counts.plot(kind=\"bar\", x=\"genre\", y=\"count\", legend=False, title=\"Books per Genre\")\n",
        "plt.ylabel(\"Count\")\n",
        "plt.show()\n",
        "\n",
        "# 2. Bar chart: Average rating per genre\n",
        "pdf_avg_rating.plot(kind=\"bar\", x=\"genre\", y=\"avg(rating)\", legend=False, color=\"orange\", title=\"Average Rating by Genre\")\n",
        "plt.ylabel(\"Average Rating\")\n",
        "plt.show()\n",
        "\n",
        "# 3. Scatter plot: Price vs Rating\n",
        "plt.scatter(pdf_price_rating[\"price\"], pdf_price_rating[\"rating\"], color=\"green\")\n",
        "plt.title(\"Price vs Rating\")\n",
        "plt.xlabel(\"Price\")\n",
        "plt.ylabel(\"Rating\")\n",
        "plt.show()\n"
      ],
      "metadata": {
        "colab": {
          "base_uri": "https://localhost:8080/",
          "height": 1000
        },
        "id": "C3QyQkXugOqr",
        "outputId": "4512b79a-a5f0-46e7-9abd-d04ff0597a45"
      },
      "execution_count": 11,
      "outputs": [
        {
          "output_type": "stream",
          "name": "stdout",
          "text": [
            "=== Original JSON Data ===\n",
            "+------------+----------+---+-----+------+-------------------+----+\n",
            "|      author|     genre| id|price|rating|              title|year|\n",
            "+------------+----------+---+-----+------+-------------------+----+\n",
            "|  John Smith|Technology|  1|  499|   4.7|  The AI Revolution|2023|\n",
            "|   Sarah Lee| Adventure|  2|  350|   4.2|Mystery of the Nile|2019|\n",
            "|  Mike Brown| Education|  3|  275|   4.8|     Python for All|2021|\n",
            "|  Nina Patel|   Science|  4|  600|   4.5|   Secrets of Space|2022|\n",
            "|Robert White|   History|  5|  450|   4.0|   The Last Kingdom|2018|\n",
            "|  Emma Green| Self-Help|  6|  300|   3.9|     Mindful Living|2020|\n",
            "| David Clark|   Science|  7|  550|   4.6|   Future of Energy|2023|\n",
            "+------------+----------+---+-----+------+-------------------+----+\n",
            "\n",
            "\n",
            "=== Results ===\n",
            "Books published after 2020:\n",
            "+-----------+----------+---+-----+------+-----------------+----+\n",
            "|     author|     genre| id|price|rating|            title|year|\n",
            "+-----------+----------+---+-----+------+-----------------+----+\n",
            "| John Smith|Technology|  1|  499|   4.7|The AI Revolution|2023|\n",
            "| Mike Brown| Education|  3|  275|   4.8|   Python for All|2021|\n",
            "| Nina Patel|   Science|  4|  600|   4.5| Secrets of Space|2022|\n",
            "|David Clark|   Science|  7|  550|   4.6| Future of Energy|2023|\n",
            "+-----------+----------+---+-----+------+-----------------+----+\n",
            "\n",
            "Prices increased by 10%:\n",
            "+------------+----------+---+-----+------+-------------------+----+------------------+\n",
            "|      author|     genre| id|price|rating|              title|year|     updated_price|\n",
            "+------------+----------+---+-----+------+-------------------+----+------------------+\n",
            "|  John Smith|Technology|  1|  499|   4.7|  The AI Revolution|2023| 548.9000000000001|\n",
            "|   Sarah Lee| Adventure|  2|  350|   4.2|Mystery of the Nile|2019|385.00000000000006|\n",
            "|  Mike Brown| Education|  3|  275|   4.8|     Python for All|2021|             302.5|\n",
            "|  Nina Patel|   Science|  4|  600|   4.5|   Secrets of Space|2022|             660.0|\n",
            "|Robert White|   History|  5|  450|   4.0|   The Last Kingdom|2018|495.00000000000006|\n",
            "|  Emma Green| Self-Help|  6|  300|   3.9|     Mindful Living|2020|             330.0|\n",
            "| David Clark|   Science|  7|  550|   4.6|   Future of Energy|2023|             605.0|\n",
            "+------------+----------+---+-----+------+-------------------+----+------------------+\n",
            "\n",
            "Average rating:\n",
            "+-----------------+\n",
            "|       avg_rating|\n",
            "+-----------------+\n",
            "|4.385714285714285|\n",
            "+-----------------+\n",
            "\n",
            "Most expensive book:\n",
            "+----------+-------+---+-----+------+----------------+----+\n",
            "|    author|  genre| id|price|rating|           title|year|\n",
            "+----------+-------+---+-----+------+----------------+----+\n",
            "|Nina Patel|Science|  4|  600|   4.5|Secrets of Space|2022|\n",
            "+----------+-------+---+-----+------+----------------+----+\n",
            "\n",
            "Cheapest book:\n",
            "+----------+---------+---+-----+------+--------------+----+\n",
            "|    author|    genre| id|price|rating|         title|year|\n",
            "+----------+---------+---+-----+------+--------------+----+\n",
            "|Mike Brown|Education|  3|  275|   4.8|Python for All|2021|\n",
            "+----------+---------+---+-----+------+--------------+----+\n",
            "\n",
            "Books per genre:\n",
            "+----------+-----+\n",
            "|     genre|count|\n",
            "+----------+-----+\n",
            "| Education|    1|\n",
            "|   Science|    2|\n",
            "| Adventure|    1|\n",
            "|   History|    1|\n",
            "| Self-Help|    1|\n",
            "|Technology|    1|\n",
            "+----------+-----+\n",
            "\n",
            "Books sorted by rating:\n",
            "+------------+----------+---+-----+------+-------------------+----+\n",
            "|      author|     genre| id|price|rating|              title|year|\n",
            "+------------+----------+---+-----+------+-------------------+----+\n",
            "|  Mike Brown| Education|  3|  275|   4.8|     Python for All|2021|\n",
            "|  John Smith|Technology|  1|  499|   4.7|  The AI Revolution|2023|\n",
            "| David Clark|   Science|  7|  550|   4.6|   Future of Energy|2023|\n",
            "|  Nina Patel|   Science|  4|  600|   4.5|   Secrets of Space|2022|\n",
            "|   Sarah Lee| Adventure|  2|  350|   4.2|Mystery of the Nile|2019|\n",
            "|Robert White|   History|  5|  450|   4.0|   The Last Kingdom|2018|\n",
            "|  Emma Green| Self-Help|  6|  300|   3.9|     Mindful Living|2020|\n",
            "+------------+----------+---+-----+------+-------------------+----+\n",
            "\n",
            "Titles & Authors:\n",
            "+-------------------+------------+\n",
            "|              title|      author|\n",
            "+-------------------+------------+\n",
            "|  The AI Revolution|  John Smith|\n",
            "|Mystery of the Nile|   Sarah Lee|\n",
            "|     Python for All|  Mike Brown|\n",
            "|   Secrets of Space|  Nina Patel|\n",
            "|   The Last Kingdom|Robert White|\n",
            "|     Mindful Living|  Emma Green|\n",
            "|   Future of Energy| David Clark|\n",
            "+-------------------+------------+\n",
            "\n",
            "Books above average price:\n",
            "+------------+----------+---+-----+------+-----------------+----+\n",
            "|      author|     genre| id|price|rating|            title|year|\n",
            "+------------+----------+---+-----+------+-----------------+----+\n",
            "|  John Smith|Technology|  1|  499|   4.7|The AI Revolution|2023|\n",
            "|  Nina Patel|   Science|  4|  600|   4.5| Secrets of Space|2022|\n",
            "|Robert White|   History|  5|  450|   4.0| The Last Kingdom|2018|\n",
            "| David Clark|   Science|  7|  550|   4.6| Future of Energy|2023|\n",
            "+------------+----------+---+-----+------+-----------------+----+\n",
            "\n"
          ]
        },
        {
          "output_type": "display_data",
          "data": {
            "text/plain": [
              "<Figure size 640x480 with 1 Axes>"
            ],
            "image/png": "[encoded data removed]"
          },
          "metadata": {}
        },
        {
          "output_type": "display_data",
          "data": {
            "text/plain": [
              "<Figure size 640x480 with 1 Axes>"
            ],
            "image/png": "[encoded data removed]"
          },
          "metadata": {}
        },
        {
          "output_type": "display_data",
          "data": {
            "text/plain": [
              "<Figure size 640x480 with 1 Axes>"
            ],
            "image/png": "[encoded data removed]"
          },
          "metadata": {}
        }
      ]
    },
    {
      "cell_type": "markdown",
      "source": [
        "## **CSV file**"
      ],
      "metadata": {
        "id": "9edWiZx3hWwI"
      }
    },
    {
      "cell_type": "code",
      "metadata": {
        "colab": {
          "base_uri": "https://localhost:8080/"
        },
        "id": "49a32d5e",
        "outputId": "7ec593a0-94e8-4665-8400-9b39fb9dcb13"
      },
      "source": [
        "# Write the data to a CSV file\n",
        "csv_data = \"\"\"id,title,author,genre,price,rating,year\n",
        "1,The AI Revolution,John Smith,Technology,499,4.7,2023\n",
        "2,Mystery of the Nile,Sarah Lee,Adventure,350,4.2,2019\n",
        "3,Python for All,Mike Brown,Education,275,4.8,2021\n",
        "4,Secrets of Space,Nina Patel,Science,600,4.5,2022\n",
        "5,The Last Kingdom,Robert White,History,450,4.0,2018\n",
        "6,Mindful Living,Emma Green,Self-Help,300,3.9,2020\n",
        "7,Future of Energy,David Clark,Science,550,4.6,2023\n",
        "\"\"\"\n",
        "\n",
        "with open(\"books.csv\", \"w\") as f:\n",
        "    f.write(csv_data)\n",
        "\n",
        "print(\"=== CSV Data Saved to books.csv ===\")"
      ],
      "execution_count": 14,
      "outputs": [
        {
          "output_type": "stream",
          "name": "stdout",
          "text": [
            "=== CSV Data Saved to books.csv ===\n"
          ]
        }
      ]
    },
    {
      "cell_type": "code",
      "source": [
        "from pyspark.sql import SparkSession\n",
        "from pyspark.sql.functions import col, avg, count\n",
        "import matplotlib.pyplot as plt\n",
        "\n",
        "# Create Spark Session\n",
        "spark = SparkSession.builder.appName(\"Books-CSV-Visualization\").getOrCreate()\n",
        "\n",
        "# Read CSV file\n",
        "df_csv = spark.read.option(\"header\", \"true\").option(\"inferSchema\", \"true\").csv(\"books.csv\")\n",
        "\n",
        "print(\"=== Original CSV Data ===\")\n",
        "df_csv.show()\n",
        "\n",
        "#  PySpark Operations\n",
        "# 1. Filter: Books with rating > 4.5\n",
        "highly_rated = df_csv.filter(col(\"rating\") > 4.5)\n",
        "\n",
        "# 2. Transformation: Apply 5% discount\n",
        "discounted = df_csv.withColumn(\"discounted_price\", col(\"price\") * 0.95)\n",
        "\n",
        "# 3. Aggregation: Average price\n",
        "avg_price = df_csv.agg(avg(\"price\").alias(\"avg_price\"))\n",
        "\n",
        "# 4. Count by genre\n",
        "genre_counts = df_csv.groupBy(\"genre\").agg(count(\"*\").alias(\"count\"))\n",
        "\n",
        "# 5. Maximum rated book\n",
        "top_rated = df_csv.orderBy(col(\"rating\").desc()).limit(1)\n",
        "\n",
        "# 6. Sort by year (newest first)\n",
        "sorted_by_year = df_csv.orderBy(col(\"year\").desc())\n",
        "\n",
        "# 7. Projection: Select only title & price\n",
        "title_price = df_csv.select(\"title\", \"price\")\n",
        "\n",
        "# 8. Add new column: Expensive? (price > 400)\n",
        "expensive_flag = df_csv.withColumn(\"expensive\", col(\"price\") > 400)\n",
        "\n",
        "# 9. Unique genres\n",
        "unique_genres = df_csv.select(\"genre\").distinct()\n",
        "\n",
        "# 10. Average rating by year\n",
        "avg_rating_by_year = df_csv.groupBy(\"year\").agg(avg(\"rating\").alias(\"avg_rating\"))\n",
        "\n",
        "# Show Results\n",
        "print(\"\\n=== Results ===\")\n",
        "print(\"Highly rated books (>4.5):\")\n",
        "highly_rated.show()\n",
        "\n",
        "print(\"Discounted Prices:\")\n",
        "discounted.show()\n",
        "\n",
        "print(\"Average price:\")\n",
        "avg_price.show()\n",
        "\n",
        "print(\"Books per genre:\")\n",
        "genre_counts.show()\n",
        "\n",
        "print(\"Top rated book:\")\n",
        "top_rated.show()\n",
        "\n",
        "print(\"Books sorted by year:\")\n",
        "sorted_by_year.show()\n",
        "\n",
        "print(\"Title & Price:\")\n",
        "title_price.show()\n",
        "\n",
        "print(\"Expensive flag:\")\n",
        "expensive_flag.show()\n",
        "\n",
        "print(\"Unique genres:\")\n",
        "unique_genres.show()\n",
        "\n",
        "print(\"Average rating by year:\")\n",
        "avg_rating_by_year.show()\n",
        "\n",
        "#  Visualization\n",
        "# Convert necessary PySpark DataFrames to Pandas\n",
        "pdf_genre_counts = genre_counts.toPandas()\n",
        "pdf_avg_rating_year = avg_rating_by_year.toPandas()\n",
        "pdf_price_rating = df_csv.select(\"price\", \"rating\").toPandas()\n",
        "\n",
        "# 1. Bar chart: Books per genre\n",
        "pdf_genre_counts.plot(kind=\"bar\", x=\"genre\", y=\"count\", legend=False, title=\"Books per Genre\")\n",
        "plt.ylabel(\"Count\")\n",
        "plt.show()\n",
        "\n",
        "# 2. Line chart: Average rating by year\n",
        "pdf_avg_rating_year.plot(kind=\"line\", x=\"year\", y=\"avg_rating\", marker=\"o\", title=\"Average Rating by Year\")\n",
        "plt.ylabel(\"Average Rating\")\n",
        "plt.show()\n",
        "\n",
        "# 3. Scatter plot: Price vs Rating\n",
        "plt.scatter(pdf_price_rating[\"price\"], pdf_price_rating[\"rating\"], color=\"red\")\n",
        "plt.title(\"Price vs Rating\")\n",
        "plt.xlabel(\"Price\")\n",
        "plt.ylabel(\"Rating\")\n",
        "plt.show()\n"
      ],
      "metadata": {
        "colab": {
          "base_uri": "https://localhost:8080/",
          "height": 1000
        },
        "id": "GhMt2vtJhfC1",
        "outputId": "70c58c04-e18f-4212-cd45-caa3b8aee3f5"
      },
      "execution_count": 15,
      "outputs": [
        {
          "output_type": "stream",
          "name": "stdout",
          "text": [
            "=== Original CSV Data ===\n",
            "+---+-------------------+------------+----------+-----+------+----+\n",
            "| id|              title|      author|     genre|price|rating|year|\n",
            "+---+-------------------+------------+----------+-----+------+----+\n",
            "|  1|  The AI Revolution|  John Smith|Technology|  499|   4.7|2023|\n",
            "|  2|Mystery of the Nile|   Sarah Lee| Adventure|  350|   4.2|2019|\n",
            "|  3|     Python for All|  Mike Brown| Education|  275|   4.8|2021|\n",
            "|  4|   Secrets of Space|  Nina Patel|   Science|  600|   4.5|2022|\n",
            "|  5|   The Last Kingdom|Robert White|   History|  450|   4.0|2018|\n",
            "|  6|     Mindful Living|  Emma Green| Self-Help|  300|   3.9|2020|\n",
            "|  7|   Future of Energy| David Clark|   Science|  550|   4.6|2023|\n",
            "+---+-------------------+------------+----------+-----+------+----+\n",
            "\n",
            "\n",
            "=== Results ===\n",
            "Highly rated books (>4.5):\n",
            "+---+-----------------+-----------+----------+-----+------+----+\n",
            "| id|            title|     author|     genre|price|rating|year|\n",
            "+---+-----------------+-----------+----------+-----+------+----+\n",
            "|  1|The AI Revolution| John Smith|Technology|  499|   4.7|2023|\n",
            "|  3|   Python for All| Mike Brown| Education|  275|   4.8|2021|\n",
            "|  7| Future of Energy|David Clark|   Science|  550|   4.6|2023|\n",
            "+---+-----------------+-----------+----------+-----+------+----+\n",
            "\n",
            "Discounted Prices:\n",
            "+---+-------------------+------------+----------+-----+------+----+------------------+\n",
            "| id|              title|      author|     genre|price|rating|year|  discounted_price|\n",
            "+---+-------------------+------------+----------+-----+------+----+------------------+\n",
            "|  1|  The AI Revolution|  John Smith|Technology|  499|   4.7|2023|474.04999999999995|\n",
            "|  2|Mystery of the Nile|   Sarah Lee| Adventure|  350|   4.2|2019|             332.5|\n",
            "|  3|     Python for All|  Mike Brown| Education|  275|   4.8|2021|            261.25|\n",
            "|  4|   Secrets of Space|  Nina Patel|   Science|  600|   4.5|2022|             570.0|\n",
            "|  5|   The Last Kingdom|Robert White|   History|  450|   4.0|2018|             427.5|\n",
            "|  6|     Mindful Living|  Emma Green| Self-Help|  300|   3.9|2020|             285.0|\n",
            "|  7|   Future of Energy| David Clark|   Science|  550|   4.6|2023|             522.5|\n",
            "+---+-------------------+------------+----------+-----+------+----+------------------+\n",
            "\n",
            "Average price:\n",
            "+---------+\n",
            "|avg_price|\n",
            "+---------+\n",
            "|    432.0|\n",
            "+---------+\n",
            "\n",
            "Books per genre:\n",
            "+----------+-----+\n",
            "|     genre|count|\n",
            "+----------+-----+\n",
            "| Education|    1|\n",
            "|   Science|    2|\n",
            "| Adventure|    1|\n",
            "|   History|    1|\n",
            "| Self-Help|    1|\n",
            "|Technology|    1|\n",
            "+----------+-----+\n",
            "\n",
            "Top rated book:\n",
            "+---+--------------+----------+---------+-----+------+----+\n",
            "| id|         title|    author|    genre|price|rating|year|\n",
            "+---+--------------+----------+---------+-----+------+----+\n",
            "|  3|Python for All|Mike Brown|Education|  275|   4.8|2021|\n",
            "+---+--------------+----------+---------+-----+------+----+\n",
            "\n",
            "Books sorted by year:\n",
            "+---+-------------------+------------+----------+-----+------+----+\n",
            "| id|              title|      author|     genre|price|rating|year|\n",
            "+---+-------------------+------------+----------+-----+------+----+\n",
            "|  1|  The AI Revolution|  John Smith|Technology|  499|   4.7|2023|\n",
            "|  7|   Future of Energy| David Clark|   Science|  550|   4.6|2023|\n",
            "|  4|   Secrets of Space|  Nina Patel|   Science|  600|   4.5|2022|\n",
            "|  3|     Python for All|  Mike Brown| Education|  275|   4.8|2021|\n",
            "|  6|     Mindful Living|  Emma Green| Self-Help|  300|   3.9|2020|\n",
            "|  2|Mystery of the Nile|   Sarah Lee| Adventure|  350|   4.2|2019|\n",
            "|  5|   The Last Kingdom|Robert White|   History|  450|   4.0|2018|\n",
            "+---+-------------------+------------+----------+-----+------+----+\n",
            "\n",
            "Title & Price:\n",
            "+-------------------+-----+\n",
            "|              title|price|\n",
            "+-------------------+-----+\n",
            "|  The AI Revolution|  499|\n",
            "|Mystery of the Nile|  350|\n",
            "|     Python for All|  275|\n",
            "|   Secrets of Space|  600|\n",
            "|   The Last Kingdom|  450|\n",
            "|     Mindful Living|  300|\n",
            "|   Future of Energy|  550|\n",
            "+-------------------+-----+\n",
            "\n",
            "Expensive flag:\n",
            "+---+-------------------+------------+----------+-----+------+----+---------+\n",
            "| id|              title|      author|     genre|price|rating|year|expensive|\n",
            "+---+-------------------+------------+----------+-----+------+----+---------+\n",
            "|  1|  The AI Revolution|  John Smith|Technology|  499|   4.7|2023|     true|\n",
            "|  2|Mystery of the Nile|   Sarah Lee| Adventure|  350|   4.2|2019|    false|\n",
            "|  3|     Python for All|  Mike Brown| Education|  275|   4.8|2021|    false|\n",
            "|  4|   Secrets of Space|  Nina Patel|   Science|  600|   4.5|2022|     true|\n",
            "|  5|   The Last Kingdom|Robert White|   History|  450|   4.0|2018|     true|\n",
            "|  6|     Mindful Living|  Emma Green| Self-Help|  300|   3.9|2020|    false|\n",
            "|  7|   Future of Energy| David Clark|   Science|  550|   4.6|2023|     true|\n",
            "+---+-------------------+------------+----------+-----+------+----+---------+\n",
            "\n",
            "Unique genres:\n",
            "+----------+\n",
            "|     genre|\n",
            "+----------+\n",
            "| Education|\n",
            "|   Science|\n",
            "| Adventure|\n",
            "|   History|\n",
            "| Self-Help|\n",
            "|Technology|\n",
            "+----------+\n",
            "\n",
            "Average rating by year:\n",
            "+----+----------+\n",
            "|year|avg_rating|\n",
            "+----+----------+\n",
            "|2018|       4.0|\n",
            "|2023|      4.65|\n",
            "|2022|       4.5|\n",
            "|2019|       4.2|\n",
            "|2020|       3.9|\n",
            "|2021|       4.8|\n",
            "+----+----------+\n",
            "\n"
          ]
        },
        {
          "output_type": "display_data",
          "data": {
            "text/plain": [
              "<Figure size 640x480 with 1 Axes>"
            ],
            "image/png": "[encoded data removed]"
          },
          "metadata": {}
        },
        {
          "output_type": "display_data",
          "data": {
            "text/plain": [
              "<Figure size 640x480 with 1 Axes>"
            ],
            "image/png": "[encoded data removed]"
          },
          "metadata": {}
        },
        {
          "output_type": "display_data",
          "data": {
            "text/plain": [
              "<Figure size 640x480 with 1 Axes>"
            ],
            "image/png": "[encoded data removed]"
          },
          "metadata": {}
        }
      ]
    },
    {
      "cell_type": "code",
      "source": [],
      "metadata": {
        "id": "WNDCDQxvi0uL"
      },
      "execution_count": null,
      "outputs": []
    }
  ]
}