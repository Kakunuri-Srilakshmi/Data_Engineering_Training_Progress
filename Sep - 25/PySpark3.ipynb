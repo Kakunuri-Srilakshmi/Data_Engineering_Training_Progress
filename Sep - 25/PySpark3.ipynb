{
  "nbformat": 4,
  "nbformat_minor": 0,
  "metadata": {
    "colab": {
      "provenance": []
    },
    "kernelspec": {
      "name": "python3",
      "display_name": "Python 3"
    },
    "language_info": {
      "name": "python"
    }
  },
  "cells": [
    {
      "cell_type": "markdown",
      "source": [
        "## **Task-1    -    E-Commerce Analytics with PySpark**"
      ],
      "metadata": {
        "id": "ffVzODxXo5wy"
      }
    },
    {
      "cell_type": "code",
      "execution_count": 1,
      "metadata": {
        "colab": {
          "base_uri": "https://localhost:8080/"
        },
        "id": "KcQP9lT9kfoz",
        "outputId": "2d2202c3-10b3-47e2-e349-432927da345a"
      },
      "outputs": [
        {
          "output_type": "stream",
          "name": "stdout",
          "text": [
            "+-----------+------------+---------+---+\n",
            "|customer_id|        name|     city|age|\n",
            "+-----------+------------+---------+---+\n",
            "|          1|Rahul Sharma|Bangalore| 28|\n",
            "|          2| Priya Singh|    Delhi| 32|\n",
            "|          3|  Aman Kumar|Hyderabad| 25|\n",
            "|          4| Sneha Reddy|  Chennai| 35|\n",
            "|          5| Arjun Mehta|   Mumbai| 30|\n",
            "|          6|  Divya Nair|    Delhi| 29|\n",
            "+-----------+------------+---------+---+\n",
            "\n",
            "+----------+------------+-----------+-----+\n",
            "|product_id|product_name|   category|price|\n",
            "+----------+------------+-----------+-----+\n",
            "|       101|      Laptop|Electronics|55000|\n",
            "|       102|      Mobile|Electronics|25000|\n",
            "|       103|  Headphones|Electronics| 3000|\n",
            "|       104|       Chair|  Furniture| 5000|\n",
            "|       105|        Book| Stationery|  700|\n",
            "|       106|       Shoes|    Fashion| 2500|\n",
            "+----------+------------+-----------+-----+\n",
            "\n",
            "+--------+-----------+----------+--------+\n",
            "|order_id|customer_id|product_id|quantity|\n",
            "+--------+-----------+----------+--------+\n",
            "|    1001|          1|       101|       1|\n",
            "|    1002|          2|       102|       2|\n",
            "|    1003|          1|       103|       3|\n",
            "|    1004|          3|       104|       1|\n",
            "|    1005|          5|       105|       5|\n",
            "|    1006|          6|       106|       2|\n",
            "|    1007|          7|       101|       1|\n",
            "+--------+-----------+----------+--------+\n",
            "\n"
          ]
        }
      ],
      "source": [
        "from pyspark.sql import SparkSession\n",
        "from pyspark.sql.functions import col, avg, count, sum, desc\n",
        "\n",
        "spark = SparkSession.builder.appName(\"ECommerce-Capstone\").getOrCreate()\n",
        "\n",
        "# Customers\n",
        "customers_data = [\n",
        "    (1, \"Rahul Sharma\", \"Bangalore\", 28),\n",
        "    (2, \"Priya Singh\", \"Delhi\", 32),\n",
        "    (3, \"Aman Kumar\", \"Hyderabad\", 25),\n",
        "    (4, \"Sneha Reddy\", \"Chennai\", 35),\n",
        "    (5, \"Arjun Mehta\", \"Mumbai\", 30),\n",
        "    (6, \"Divya Nair\", \"Delhi\", 29)\n",
        "]\n",
        "customers_cols = [\"customer_id\", \"name\", \"city\", \"age\"]\n",
        "customers_df = spark.createDataFrame(customers_data, customers_cols)\n",
        "\n",
        "# Products\n",
        "products_data = [\n",
        "    (101, \"Laptop\", \"Electronics\", 55000),\n",
        "    (102, \"Mobile\", \"Electronics\", 25000),\n",
        "    (103, \"Headphones\", \"Electronics\", 3000),\n",
        "    (104, \"Chair\", \"Furniture\", 5000),\n",
        "    (105, \"Book\", \"Stationery\", 700),\n",
        "    (106, \"Shoes\", \"Fashion\", 2500)\n",
        "]\n",
        "products_cols = [\"product_id\", \"product_name\", \"category\", \"price\"]\n",
        "products_df = spark.createDataFrame(products_data, products_cols)\n",
        "\n",
        "# Orders\n",
        "orders_data = [\n",
        "    (1001, 1, 101, 1),\n",
        "    (1002, 2, 102, 2),\n",
        "    (1003, 1, 103, 3),\n",
        "    (1004, 3, 104, 1),\n",
        "    (1005, 5, 105, 5),\n",
        "    (1006, 6, 106, 2),\n",
        "    (1007, 7, 101, 1)  # Invalid customer\n",
        "]\n",
        "orders_cols = [\"order_id\", \"customer_id\", \"product_id\", \"quantity\"]\n",
        "orders_df = spark.createDataFrame(orders_data, orders_cols)\n",
        "\n",
        "customers_df.show()\n",
        "products_df.show()\n",
        "orders_df.show()\n"
      ]
    },
    {
      "cell_type": "markdown",
      "source": [
        "### **Basic Operations**"
      ],
      "metadata": {
        "id": "uUc2d2nCnTBY"
      }
    },
    {
      "cell_type": "code",
      "source": [
        "# 1. Select all customer names and their cities\n",
        "customers_df.select(\"name\", \"city\").show()\n",
        "\n",
        "# 2. List all distinct product categories\n",
        "products_df.select(\"category\").distinct().show()\n",
        "\n",
        "# 3. Filter customers older than 30\n",
        "customers_df.filter(col(\"age\") > 30).show()\n"
      ],
      "metadata": {
        "colab": {
          "base_uri": "https://localhost:8080/"
        },
        "id": "2U3PusCYk2jd",
        "outputId": "61c283d3-9e67-47d2-c930-12248bf8e57d"
      },
      "execution_count": 2,
      "outputs": [
        {
          "output_type": "stream",
          "name": "stdout",
          "text": [
            "+------------+---------+\n",
            "|        name|     city|\n",
            "+------------+---------+\n",
            "|Rahul Sharma|Bangalore|\n",
            "| Priya Singh|    Delhi|\n",
            "|  Aman Kumar|Hyderabad|\n",
            "| Sneha Reddy|  Chennai|\n",
            "| Arjun Mehta|   Mumbai|\n",
            "|  Divya Nair|    Delhi|\n",
            "+------------+---------+\n",
            "\n",
            "+-----------+\n",
            "|   category|\n",
            "+-----------+\n",
            "|Electronics|\n",
            "| Stationery|\n",
            "|    Fashion|\n",
            "|  Furniture|\n",
            "+-----------+\n",
            "\n",
            "+-----------+-----------+-------+---+\n",
            "|customer_id|       name|   city|age|\n",
            "+-----------+-----------+-------+---+\n",
            "|          2|Priya Singh|  Delhi| 32|\n",
            "|          4|Sneha Reddy|Chennai| 35|\n",
            "+-----------+-----------+-------+---+\n",
            "\n"
          ]
        }
      ]
    },
    {
      "cell_type": "markdown",
      "source": [
        "### **Aggregations**"
      ],
      "metadata": {
        "id": "GNi2l-E4nhBn"
      }
    },
    {
      "cell_type": "code",
      "source": [
        "# 4. Total number of orders placed per customer\n",
        "orders_df.groupBy(\"customer_id\").agg(count(\"*\").alias(\"total_orders\")).show()\n",
        "\n",
        "# 5. Average age of customers per city\n",
        "customers_df.groupBy(\"city\").agg(avg(\"age\").alias(\"avg_age\")).show()\n",
        "\n",
        "# 6. Total revenue generated from each product\n",
        "orders_df.join(products_df, \"product_id\") \\\n",
        "    .withColumn(\"revenue\", col(\"quantity\") * col(\"price\")) \\\n",
        "    .groupBy(\"product_id\", \"product_name\") \\\n",
        "    .agg(sum(\"revenue\").alias(\"total_revenue\")) \\\n",
        "    .show()\n"
      ],
      "metadata": {
        "colab": {
          "base_uri": "https://localhost:8080/"
        },
        "id": "X_OoLiVBncu1",
        "outputId": "50538065-80de-4b88-db5a-ed861ba27d5d"
      },
      "execution_count": 3,
      "outputs": [
        {
          "output_type": "stream",
          "name": "stdout",
          "text": [
            "+-----------+------------+\n",
            "|customer_id|total_orders|\n",
            "+-----------+------------+\n",
            "|          1|           2|\n",
            "|          2|           1|\n",
            "|          7|           1|\n",
            "|          6|           1|\n",
            "|          5|           1|\n",
            "|          3|           1|\n",
            "+-----------+------------+\n",
            "\n",
            "+---------+-------+\n",
            "|     city|avg_age|\n",
            "+---------+-------+\n",
            "|Bangalore|   28.0|\n",
            "|    Delhi|   30.5|\n",
            "|Hyderabad|   25.0|\n",
            "|  Chennai|   35.0|\n",
            "|   Mumbai|   30.0|\n",
            "+---------+-------+\n",
            "\n",
            "+----------+------------+-------------+\n",
            "|product_id|product_name|total_revenue|\n",
            "+----------+------------+-------------+\n",
            "|       101|      Laptop|       110000|\n",
            "|       102|      Mobile|        50000|\n",
            "|       103|  Headphones|         9000|\n",
            "|       104|       Chair|         5000|\n",
            "|       105|        Book|         3500|\n",
            "|       106|       Shoes|         5000|\n",
            "+----------+------------+-------------+\n",
            "\n"
          ]
        }
      ]
    },
    {
      "cell_type": "markdown",
      "source": [
        "### **Joins**"
      ],
      "metadata": {
        "id": "6yAAxXXjnqB9"
      }
    },
    {
      "cell_type": "code",
      "source": [
        "# 7. Join customers with orders (who bought what)\n",
        "customers_df.join(orders_df, \"customer_id\").show()\n",
        "\n",
        "# 8. Orders with product name and price\n",
        "orders_df.join(products_df, \"product_id\").show()\n",
        "\n",
        "# 9. Customers who never placed an order\n",
        "customers_df.join(orders_df, \"customer_id\", \"left_anti\").show()\n",
        "\n",
        "# 10. Products that have never been ordered\n",
        "products_df.join(orders_df, \"product_id\", \"left_anti\").show()\n"
      ],
      "metadata": {
        "colab": {
          "base_uri": "https://localhost:8080/"
        },
        "id": "ZM-jywGEnmnK",
        "outputId": "dc0beac1-2d1b-4be0-b1fc-0b8b2ce6b1d4"
      },
      "execution_count": 4,
      "outputs": [
        {
          "output_type": "stream",
          "name": "stdout",
          "text": [
            "+-----------+------------+---------+---+--------+----------+--------+\n",
            "|customer_id|        name|     city|age|order_id|product_id|quantity|\n",
            "+-----------+------------+---------+---+--------+----------+--------+\n",
            "|          1|Rahul Sharma|Bangalore| 28|    1001|       101|       1|\n",
            "|          1|Rahul Sharma|Bangalore| 28|    1003|       103|       3|\n",
            "|          2| Priya Singh|    Delhi| 32|    1002|       102|       2|\n",
            "|          3|  Aman Kumar|Hyderabad| 25|    1004|       104|       1|\n",
            "|          5| Arjun Mehta|   Mumbai| 30|    1005|       105|       5|\n",
            "|          6|  Divya Nair|    Delhi| 29|    1006|       106|       2|\n",
            "+-----------+------------+---------+---+--------+----------+--------+\n",
            "\n",
            "+----------+--------+-----------+--------+------------+-----------+-----+\n",
            "|product_id|order_id|customer_id|quantity|product_name|   category|price|\n",
            "+----------+--------+-----------+--------+------------+-----------+-----+\n",
            "|       101|    1001|          1|       1|      Laptop|Electronics|55000|\n",
            "|       101|    1007|          7|       1|      Laptop|Electronics|55000|\n",
            "|       102|    1002|          2|       2|      Mobile|Electronics|25000|\n",
            "|       103|    1003|          1|       3|  Headphones|Electronics| 3000|\n",
            "|       104|    1004|          3|       1|       Chair|  Furniture| 5000|\n",
            "|       105|    1005|          5|       5|        Book| Stationery|  700|\n",
            "|       106|    1006|          6|       2|       Shoes|    Fashion| 2500|\n",
            "+----------+--------+-----------+--------+------------+-----------+-----+\n",
            "\n",
            "+-----------+-----------+-------+---+\n",
            "|customer_id|       name|   city|age|\n",
            "+-----------+-----------+-------+---+\n",
            "|          4|Sneha Reddy|Chennai| 35|\n",
            "+-----------+-----------+-------+---+\n",
            "\n",
            "+----------+------------+--------+-----+\n",
            "|product_id|product_name|category|price|\n",
            "+----------+------------+--------+-----+\n",
            "+----------+------------+--------+-----+\n",
            "\n"
          ]
        }
      ]
    },
    {
      "cell_type": "markdown",
      "source": [
        "### **Sorting & Grouping**"
      ],
      "metadata": {
        "id": "I2hprvcInzHY"
      }
    },
    {
      "cell_type": "code",
      "source": [
        "# 11. Top 3 most expensive products purchased\n",
        "orders_df.join(products_df, \"product_id\") \\\n",
        "    .orderBy(desc(\"price\")) \\\n",
        "    .select(\"product_name\", \"price\").distinct().show(3)\n",
        "\n",
        "# 12. Group orders by category and calculate total revenue per category\n",
        "orders_df.join(products_df, \"product_id\") \\\n",
        "    .withColumn(\"revenue\", col(\"quantity\") * col(\"price\")) \\\n",
        "    .groupBy(\"category\") \\\n",
        "    .agg(sum(\"revenue\").alias(\"category_revenue\")) \\\n",
        "    .show()\n",
        "\n",
        "# 13. Customers sorted by total money spent\n",
        "orders_df.join(products_df, \"product_id\") \\\n",
        "    .withColumn(\"spend\", col(\"quantity\") * col(\"price\")) \\\n",
        "    .groupBy(\"customer_id\") \\\n",
        "    .agg(sum(\"spend\").alias(\"total_spent\")) \\\n",
        "    .join(customers_df, \"customer_id\") \\\n",
        "    .orderBy(desc(\"total_spent\")) \\\n",
        "    .select(\"name\", \"total_spent\") \\\n",
        "    .show()\n"
      ],
      "metadata": {
        "colab": {
          "base_uri": "https://localhost:8080/"
        },
        "id": "YmQyvueUnvOu",
        "outputId": "c447dad0-6fc1-4989-bf3a-8ed526a8c48b"
      },
      "execution_count": 5,
      "outputs": [
        {
          "output_type": "stream",
          "name": "stdout",
          "text": [
            "+------------+-----+\n",
            "|product_name|price|\n",
            "+------------+-----+\n",
            "|        Book|  700|\n",
            "|      Mobile|25000|\n",
            "|       Chair| 5000|\n",
            "+------------+-----+\n",
            "only showing top 3 rows\n",
            "\n",
            "+-----------+----------------+\n",
            "|   category|category_revenue|\n",
            "+-----------+----------------+\n",
            "| Stationery|            3500|\n",
            "|    Fashion|            5000|\n",
            "|Electronics|          169000|\n",
            "|  Furniture|            5000|\n",
            "+-----------+----------------+\n",
            "\n",
            "+------------+-----------+\n",
            "|        name|total_spent|\n",
            "+------------+-----------+\n",
            "|Rahul Sharma|      64000|\n",
            "| Priya Singh|      50000|\n",
            "|  Aman Kumar|       5000|\n",
            "|  Divya Nair|       5000|\n",
            "| Arjun Mehta|       3500|\n",
            "+------------+-----------+\n",
            "\n"
          ]
        }
      ]
    },
    {
      "cell_type": "markdown",
      "source": [
        "### **SQL Queries**"
      ],
      "metadata": {
        "id": "iTVD9Z5mn988"
      }
    },
    {
      "cell_type": "code",
      "source": [
        "# 14. Register DataFrames as temp views\n",
        "customers_df.createOrReplaceTempView(\"customers\")\n",
        "products_df.createOrReplaceTempView(\"products\")\n",
        "orders_df.createOrReplaceTempView(\"orders\")\n",
        "\n",
        "# 15. Top 2 cities by total revenue\n",
        "spark.sql(\"\"\"\n",
        "SELECT c.city, SUM(o.quantity * p.price) AS total_revenue\n",
        "FROM orders o\n",
        "JOIN customers c ON o.customer_id = c.customer_id\n",
        "JOIN products p ON o.product_id = p.product_id\n",
        "GROUP BY c.city\n",
        "ORDER BY total_revenue DESC\n",
        "LIMIT 2\n",
        "\"\"\").show()\n",
        "\n",
        "# 16. Customers who spent more than 50,000\n",
        "spark.sql(\"\"\"\n",
        "SELECT c.name, SUM(o.quantity * p.price) AS total_spent\n",
        "FROM orders o\n",
        "JOIN customers c ON o.customer_id = c.customer_id\n",
        "JOIN products p ON o.product_id = p.product_id\n",
        "GROUP BY c.name\n",
        "HAVING total_spent > 50000\n",
        "\"\"\").show()\n",
        "\n",
        "# 17. Product category contributing the most revenue\n",
        "spark.sql(\"\"\"\n",
        "SELECT p.category, SUM(o.quantity * p.price) AS category_revenue\n",
        "FROM orders o\n",
        "JOIN products p ON o.product_id = p.product_id\n",
        "GROUP BY p.category\n",
        "ORDER BY category_revenue DESC\n",
        "LIMIT 1\n",
        "\"\"\").show()\n"
      ],
      "metadata": {
        "colab": {
          "base_uri": "https://localhost:8080/"
        },
        "id": "hHatmD1Xn3-F",
        "outputId": "ab9e69ea-f106-49fe-a7d7-4a715641a566"
      },
      "execution_count": 6,
      "outputs": [
        {
          "output_type": "stream",
          "name": "stdout",
          "text": [
            "+---------+-------------+\n",
            "|     city|total_revenue|\n",
            "+---------+-------------+\n",
            "|Bangalore|        64000|\n",
            "|    Delhi|        55000|\n",
            "+---------+-------------+\n",
            "\n",
            "+------------+-----------+\n",
            "|        name|total_spent|\n",
            "+------------+-----------+\n",
            "|Rahul Sharma|      64000|\n",
            "+------------+-----------+\n",
            "\n",
            "+-----------+----------------+\n",
            "|   category|category_revenue|\n",
            "+-----------+----------------+\n",
            "|Electronics|          169000|\n",
            "+-----------+----------------+\n",
            "\n"
          ]
        }
      ]
    },
    {
      "cell_type": "code",
      "source": [],
      "metadata": {
        "id": "iomK1Va7oHKH"
      },
      "execution_count": null,
      "outputs": []
    }
  ]
}