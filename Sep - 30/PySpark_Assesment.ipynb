{
  "nbformat": 4,
  "nbformat_minor": 0,
  "metadata": {
    "colab": {
      "provenance": []
    },
    "kernelspec": {
      "name": "python3",
      "display_name": "Python 3"
    },
    "language_info": {
      "name": "python"
    }
  },
  "cells": [
    {
      "cell_type": "markdown",
      "source": [
        "# **Task - 1 -  Movie Ratings Analytics with PySpark**\n",
        "\n"
      ],
      "metadata": {
        "id": "ZvP2OcLe_byx"
      }
    },
    {
      "cell_type": "code",
      "source": [
        "\n",
        "!pip install -q pyspark\n",
        "\n",
        "from pyspark.sql import SparkSession\n",
        "from pyspark.sql.functions import col, avg as _avg, max as _max, count as _count, desc\n",
        "spark = SparkSession.builder.appName(\"Movie-Capstone\").getOrCreate()\n",
        "sc = spark.sparkContext\n",
        "\n",
        "print(\"Spark Started:\", spark)\n"
      ],
      "metadata": {
        "colab": {
          "base_uri": "https://localhost:8080/"
        },
        "id": "P7amey4c_am5",
        "outputId": "322049b4-5a5f-4eaa-dbbb-ef2612a619fb"
      },
      "execution_count": 11,
      "outputs": [
        {
          "output_type": "stream",
          "name": "stdout",
          "text": [
            "Spark Started: <pyspark.sql.session.SparkSession object at 0x7d2c2a88c050>\n"
          ]
        }
      ]
    },
    {
      "cell_type": "markdown",
      "source": [
        "### **Prepare Data**"
      ],
      "metadata": {
        "id": "lwgfmhfDBigS"
      }
    },
    {
      "cell_type": "code",
      "source": [
        "\n",
        "\n",
        "# Users\n",
        "users_data = [\n",
        " (1, \"Rahul\", 25, \"Bangalore\"),\n",
        " (2, \"Priya\", 30, \"Delhi\"),\n",
        " (3, \"Aman\", 22, \"Hyderabad\"),\n",
        " (4, \"Sneha\", 28, \"Chennai\"),\n",
        " (5, \"Arjun\", 35, \"Mumbai\")\n",
        "]\n",
        "users_cols = [\"user_id\", \"name\", \"age\", \"city\"]\n",
        "users_df = spark.createDataFrame(users_data, users_cols)\n",
        "\n",
        "# Movies\n",
        "movies_data = [\n",
        " (101, \"Inception\", \"Sci-Fi\", 2010),\n",
        " (102, \"Avengers\", \"Action\", 2012),\n",
        " (103, \"3 Idiots\", \"Comedy\", 2009),\n",
        " (104, \"Dangal\", \"Drama\", 2016),\n",
        " (105, \"Interstellar\", \"Sci-Fi\", 2014)\n",
        "]\n",
        "movies_cols = [\"movie_id\", \"title\", \"genre\", \"year\"]\n",
        "movies_df = spark.createDataFrame(movies_data, movies_cols)\n",
        "\n",
        "# Ratings\n",
        "ratings_data = [\n",
        " (1, 101, 5),\n",
        " (2, 101, 4),\n",
        " (1, 102, 3),\n",
        " (3, 103, 4),\n",
        " (4, 104, 5),\n",
        " (2, 103, 5),\n",
        " (5, 105, 4),\n",
        " (6, 101, 5)\n",
        "]\n",
        "ratings_cols = [\"user_id\", \"movie_id\", \"rating\"]\n",
        "ratings_df = spark.createDataFrame(ratings_data, ratings_cols)\n",
        "\n",
        "print(\"Users:\")\n",
        "users_df.show()\n",
        "print(\"Movies:\")\n",
        "movies_df.show()\n",
        "print(\"Ratings:\")\n",
        "ratings_df.show()\n"
      ],
      "metadata": {
        "colab": {
          "base_uri": "https://localhost:8080/"
        },
        "id": "QwB54Mb5BVMi",
        "outputId": "005a71ba-29a6-4da0-db80-57a71dc019b5"
      },
      "execution_count": 12,
      "outputs": [
        {
          "output_type": "stream",
          "name": "stdout",
          "text": [
            "Users:\n",
            "+-------+-----+---+---------+\n",
            "|user_id| name|age|     city|\n",
            "+-------+-----+---+---------+\n",
            "|      1|Rahul| 25|Bangalore|\n",
            "|      2|Priya| 30|    Delhi|\n",
            "|      3| Aman| 22|Hyderabad|\n",
            "|      4|Sneha| 28|  Chennai|\n",
            "|      5|Arjun| 35|   Mumbai|\n",
            "+-------+-----+---+---------+\n",
            "\n",
            "Movies:\n",
            "+--------+------------+------+----+\n",
            "|movie_id|       title| genre|year|\n",
            "+--------+------------+------+----+\n",
            "|     101|   Inception|Sci-Fi|2010|\n",
            "|     102|    Avengers|Action|2012|\n",
            "|     103|    3 Idiots|Comedy|2009|\n",
            "|     104|      Dangal| Drama|2016|\n",
            "|     105|Interstellar|Sci-Fi|2014|\n",
            "+--------+------------+------+----+\n",
            "\n",
            "Ratings:\n",
            "+-------+--------+------+\n",
            "|user_id|movie_id|rating|\n",
            "+-------+--------+------+\n",
            "|      1|     101|     5|\n",
            "|      2|     101|     4|\n",
            "|      1|     102|     3|\n",
            "|      3|     103|     4|\n",
            "|      4|     104|     5|\n",
            "|      2|     103|     5|\n",
            "|      5|     105|     4|\n",
            "|      6|     101|     5|\n",
            "+-------+--------+------+\n",
            "\n"
          ]
        }
      ]
    },
    {
      "cell_type": "markdown",
      "source": [
        "### **DataFrame Basics**"
      ],
      "metadata": {
        "id": "6i1JLRQDB7l1"
      }
    },
    {
      "cell_type": "code",
      "source": [
        "# Users older than 28\n",
        "users_df.filter(col(\"age\") > 28).show()\n",
        "\n",
        "# Distinct movie genres\n",
        "movies_df.select(\"genre\").distinct().show()\n",
        "\n",
        "# Movies released after 2010\n",
        "movies_df.filter(col(\"year\") > 2010).show()\n"
      ],
      "metadata": {
        "colab": {
          "base_uri": "https://localhost:8080/"
        },
        "id": "lqMSA-_oBUiT",
        "outputId": "12bbbd73-dd9e-4f22-db0d-e6e6e3c17af3"
      },
      "execution_count": 13,
      "outputs": [
        {
          "output_type": "stream",
          "name": "stdout",
          "text": [
            "+-------+-----+---+------+\n",
            "|user_id| name|age|  city|\n",
            "+-------+-----+---+------+\n",
            "|      2|Priya| 30| Delhi|\n",
            "|      5|Arjun| 35|Mumbai|\n",
            "+-------+-----+---+------+\n",
            "\n",
            "+------+\n",
            "| genre|\n",
            "+------+\n",
            "|Action|\n",
            "|Sci-Fi|\n",
            "| Drama|\n",
            "|Comedy|\n",
            "+------+\n",
            "\n",
            "+--------+------------+------+----+\n",
            "|movie_id|       title| genre|year|\n",
            "+--------+------------+------+----+\n",
            "|     102|    Avengers|Action|2012|\n",
            "|     104|      Dangal| Drama|2016|\n",
            "|     105|Interstellar|Sci-Fi|2014|\n",
            "+--------+------------+------+----+\n",
            "\n"
          ]
        }
      ]
    },
    {
      "cell_type": "markdown",
      "source": [
        "### **Aggregations**"
      ],
      "metadata": {
        "id": "Sf8PDYdgCNGv"
      }
    },
    {
      "cell_type": "code",
      "source": [
        "# Average age of users per city\n",
        "users_df.groupBy(\"city\").agg(_avg(\"age\").alias(\"avg_age\")).show()\n",
        "\n",
        "# Average rating for each movie\n",
        "ratings_df.groupBy(\"movie_id\").agg(_avg(\"rating\").alias(\"avg_rating\")).show()\n",
        "\n",
        "# Highest-rated movie in each genre\n",
        "avg_ratings = ratings_df.groupBy(\"movie_id\").agg(_avg(\"rating\").alias(\"avg_rating\"))\n",
        "ratings_with_movies = avg_ratings.join(movies_df, on=\"movie_id\", how=\"left\")\n",
        "\n",
        "from pyspark.sql.window import Window\n",
        "from pyspark.sql.functions import row_number\n",
        "\n",
        "window = Window.partitionBy(\"genre\").orderBy(desc(\"avg_rating\"))\n",
        "highest_rated_per_genre = ratings_with_movies.withColumn(\"rank\", row_number().over(window)) \\\n",
        "    .filter(col(\"rank\") == 1)\n",
        "\n",
        "highest_rated_per_genre.select(\"genre\", \"title\", \"avg_rating\").show()\n"
      ],
      "metadata": {
        "colab": {
          "base_uri": "https://localhost:8080/"
        },
        "id": "nIwRGvBZCQb7",
        "outputId": "927a30df-ff08-4595-d4df-f65f213bd562"
      },
      "execution_count": 14,
      "outputs": [
        {
          "output_type": "stream",
          "name": "stdout",
          "text": [
            "+---------+-------+\n",
            "|     city|avg_age|\n",
            "+---------+-------+\n",
            "|Bangalore|   25.0|\n",
            "|    Delhi|   30.0|\n",
            "|  Chennai|   28.0|\n",
            "|   Mumbai|   35.0|\n",
            "|Hyderabad|   22.0|\n",
            "+---------+-------+\n",
            "\n",
            "+--------+-----------------+\n",
            "|movie_id|       avg_rating|\n",
            "+--------+-----------------+\n",
            "|     103|              4.5|\n",
            "|     101|4.666666666666667|\n",
            "|     102|              3.0|\n",
            "|     104|              5.0|\n",
            "|     105|              4.0|\n",
            "+--------+-----------------+\n",
            "\n",
            "+------+---------+-----------------+\n",
            "| genre|    title|       avg_rating|\n",
            "+------+---------+-----------------+\n",
            "|Action| Avengers|              3.0|\n",
            "|Comedy| 3 Idiots|              4.5|\n",
            "| Drama|   Dangal|              5.0|\n",
            "|Sci-Fi|Inception|4.666666666666667|\n",
            "+------+---------+-----------------+\n",
            "\n"
          ]
        }
      ]
    },
    {
      "cell_type": "markdown",
      "source": [
        "### **Joins**"
      ],
      "metadata": {
        "id": "niNGEz2nCpN5"
      }
    },
    {
      "cell_type": "code",
      "source": [
        "# Join ratings with users -> who rated what\n",
        "ratings_with_users = ratings_df.join(users_df, on=\"user_id\", how=\"inner\") \\\n",
        "    .select(\"user_id\", \"name\", \"movie_id\", \"rating\")\n",
        "ratings_with_users.show()\n",
        "\n",
        "# Join ratings with movies -> ratings with movie names\n",
        "ratings_with_movies = ratings_df.join(movies_df, on=\"movie_id\", how=\"inner\") \\\n",
        "    .select(\"user_id\", \"movie_id\", \"title\", \"genre\", \"rating\")\n",
        "ratings_with_movies.show()\n",
        "\n",
        "# Users who never rated a movie\n",
        "users_never_rated = users_df.join(ratings_df, on=\"user_id\", how=\"left_anti\")\n",
        "users_never_rated.show()\n",
        "\n",
        "# Movies that were never rated\n",
        "movies_never_rated = movies_df.join(ratings_df, on=\"movie_id\", how=\"left_anti\")\n",
        "movies_never_rated.show()\n"
      ],
      "metadata": {
        "colab": {
          "base_uri": "https://localhost:8080/"
        },
        "id": "4Fj1AYG0CqU2",
        "outputId": "bad5f68a-0534-47bc-ede6-f10569c59a65"
      },
      "execution_count": 15,
      "outputs": [
        {
          "output_type": "stream",
          "name": "stdout",
          "text": [
            "+-------+-----+--------+------+\n",
            "|user_id| name|movie_id|rating|\n",
            "+-------+-----+--------+------+\n",
            "|      1|Rahul|     101|     5|\n",
            "|      1|Rahul|     102|     3|\n",
            "|      2|Priya|     101|     4|\n",
            "|      2|Priya|     103|     5|\n",
            "|      3| Aman|     103|     4|\n",
            "|      4|Sneha|     104|     5|\n",
            "|      5|Arjun|     105|     4|\n",
            "+-------+-----+--------+------+\n",
            "\n",
            "+-------+--------+------------+------+------+\n",
            "|user_id|movie_id|       title| genre|rating|\n",
            "+-------+--------+------------+------+------+\n",
            "|      1|     101|   Inception|Sci-Fi|     5|\n",
            "|      2|     101|   Inception|Sci-Fi|     4|\n",
            "|      6|     101|   Inception|Sci-Fi|     5|\n",
            "|      1|     102|    Avengers|Action|     3|\n",
            "|      3|     103|    3 Idiots|Comedy|     4|\n",
            "|      2|     103|    3 Idiots|Comedy|     5|\n",
            "|      4|     104|      Dangal| Drama|     5|\n",
            "|      5|     105|Interstellar|Sci-Fi|     4|\n",
            "+-------+--------+------------+------+------+\n",
            "\n",
            "+-------+----+---+----+\n",
            "|user_id|name|age|city|\n",
            "+-------+----+---+----+\n",
            "+-------+----+---+----+\n",
            "\n",
            "+--------+-----+-----+----+\n",
            "|movie_id|title|genre|year|\n",
            "+--------+-----+-----+----+\n",
            "+--------+-----+-----+----+\n",
            "\n"
          ]
        }
      ]
    },
    {
      "cell_type": "markdown",
      "source": [
        "### **SQL Queries**"
      ],
      "metadata": {
        "id": "egLNfImxC_Dk"
      }
    },
    {
      "cell_type": "code",
      "source": [
        "# Register as temp views\n",
        "users_df.createOrReplaceTempView(\"users\")\n",
        "movies_df.createOrReplaceTempView(\"movies\")\n",
        "ratings_df.createOrReplaceTempView(\"ratings\")\n",
        "\n",
        "# Top 2 cities by number of ratings given\n",
        "q12 = \"\"\"\n",
        "SELECT u.city, COUNT(r.rating) AS total_ratings\n",
        "FROM ratings r\n",
        "JOIN users u ON r.user_id = u.user_id\n",
        "GROUP BY u.city\n",
        "ORDER BY total_ratings DESC\n",
        "LIMIT 2\n",
        "\"\"\"\n",
        "spark.sql(q12).show()\n",
        "\n",
        "# Users who gave at least one 5-star rating\n",
        "q13 = \"\"\"\n",
        "SELECT DISTINCT u.user_id, u.name\n",
        "FROM ratings r\n",
        "JOIN users u ON r.user_id = u.user_id\n",
        "WHERE r.rating = 5\n",
        "\"\"\"\n",
        "spark.sql(q13).show()\n",
        "\n",
        "# Most popular genre by number of ratings\n",
        "q14 = \"\"\"\n",
        "SELECT m.genre, COUNT(r.rating) AS total_ratings\n",
        "FROM ratings r\n",
        "JOIN movies m ON r.movie_id = m.movie_id\n",
        "GROUP BY m.genre\n",
        "ORDER BY total_ratings DESC\n",
        "LIMIT 1\n",
        "\"\"\"\n",
        "spark.sql(q14).show()\n"
      ],
      "metadata": {
        "colab": {
          "base_uri": "https://localhost:8080/"
        },
        "id": "38m36aiYC91j",
        "outputId": "34cf582c-0412-445b-93b6-66077bd1c68d"
      },
      "execution_count": 16,
      "outputs": [
        {
          "output_type": "stream",
          "name": "stdout",
          "text": [
            "+---------+-------------+\n",
            "|     city|total_ratings|\n",
            "+---------+-------------+\n",
            "|Bangalore|            2|\n",
            "|    Delhi|            2|\n",
            "+---------+-------------+\n",
            "\n",
            "+-------+-----+\n",
            "|user_id| name|\n",
            "+-------+-----+\n",
            "|      1|Rahul|\n",
            "|      2|Priya|\n",
            "|      4|Sneha|\n",
            "+-------+-----+\n",
            "\n",
            "+------+-------------+\n",
            "| genre|total_ratings|\n",
            "+------+-------------+\n",
            "|Sci-Fi|            4|\n",
            "+------+-------------+\n",
            "\n"
          ]
        }
      ]
    },
    {
      "cell_type": "markdown",
      "source": [
        "### **File I/O**"
      ],
      "metadata": {
        "id": "iJCDOUGvDP6I"
      }
    },
    {
      "cell_type": "code",
      "source": [
        "# Save ratings_df as CSV and reload\n",
        "ratings_path = \"/content/ratings_csv\"\n",
        "ratings_df.coalesce(1).write.mode(\"overwrite\").option(\"header\", True).csv(ratings_path)\n",
        "\n",
        "ratings_loaded = spark.read.option(\"header\", True).option(\"inferSchema\", True).csv(ratings_path)\n",
        "ratings_loaded.show()\n",
        "\n",
        "# Save movies_df as JSON and reload\n",
        "movies_path = \"/content/movies_json\"\n",
        "movies_df.coalesce(1).write.mode(\"overwrite\").json(movies_path)\n",
        "\n",
        "movies_loaded = spark.read.json(movies_path)\n",
        "movies_loaded.show()\n"
      ],
      "metadata": {
        "colab": {
          "base_uri": "https://localhost:8080/"
        },
        "id": "ST3w6oPUDS_g",
        "outputId": "cc30c684-8f4e-44d4-9e79-645ec68c24db"
      },
      "execution_count": 17,
      "outputs": [
        {
          "output_type": "stream",
          "name": "stdout",
          "text": [
            "+-------+--------+------+\n",
            "|user_id|movie_id|rating|\n",
            "+-------+--------+------+\n",
            "|      1|     101|     5|\n",
            "|      2|     101|     4|\n",
            "|      1|     102|     3|\n",
            "|      3|     103|     4|\n",
            "|      4|     104|     5|\n",
            "|      2|     103|     5|\n",
            "|      5|     105|     4|\n",
            "|      6|     101|     5|\n",
            "+-------+--------+------+\n",
            "\n",
            "+------+--------+------------+----+\n",
            "| genre|movie_id|       title|year|\n",
            "+------+--------+------------+----+\n",
            "|Sci-Fi|     101|   Inception|2010|\n",
            "|Action|     102|    Avengers|2012|\n",
            "|Comedy|     103|    3 Idiots|2009|\n",
            "| Drama|     104|      Dangal|2016|\n",
            "|Sci-Fi|     105|Interstellar|2014|\n",
            "+------+--------+------------+----+\n",
            "\n"
          ]
        }
      ]
    },
    {
      "cell_type": "markdown",
      "source": [
        "### **Visualization**"
      ],
      "metadata": {
        "id": "BijxHlA2DbFQ"
      }
    },
    {
      "cell_type": "code",
      "source": [
        "import matplotlib.pyplot as plt\n",
        "\n",
        "# Convert PySpark DataFrame -> Pandas\n",
        "avg_rating_genre = ratings_df.join(movies_df, on=\"movie_id\", how=\"left\") \\\n",
        "    .groupBy(\"genre\").agg(_avg(\"rating\").alias(\"avg_rating\")).orderBy(\"genre\")\n",
        "\n",
        "avg_rating_genre_pd = avg_rating_genre.toPandas()\n",
        "print(avg_rating_genre_pd)\n",
        "\n",
        "# Bar chart – Average rating per genre\n",
        "plt.figure()\n",
        "plt.bar(avg_rating_genre_pd['genre'], avg_rating_genre_pd['avg_rating'])\n",
        "plt.title(\"Average Rating per Genre\")\n",
        "plt.xlabel(\"Genre\")\n",
        "plt.ylabel(\"Average Rating\")\n",
        "plt.show()\n",
        "\n",
        "# Line chart – Number of ratings per movie release year\n",
        "ratings_year = ratings_df.join(movies_df, on=\"movie_id\", how=\"left\") \\\n",
        "    .groupBy(\"year\").agg(_count(\"rating\").alias(\"num_ratings\")).orderBy(\"year\")\n",
        "\n",
        "ratings_year_pd = ratings_year.toPandas()\n",
        "print(ratings_year_pd)\n",
        "\n",
        "plt.figure()\n",
        "plt.plot(ratings_year_pd['year'], ratings_year_pd['num_ratings'], marker='o')\n",
        "plt.title(\"Number of Ratings per Movie Release Year\")\n",
        "plt.xlabel(\"Year\")\n",
        "plt.ylabel(\"Number of Ratings\")\n",
        "plt.grid(True)\n",
        "plt.show()\n",
        "\n",
        "# Scatter plot – Age vs Average rating given\n",
        "user_avg_rating = ratings_df.groupBy(\"user_id\").agg(_avg(\"rating\").alias(\"avg_rating\"))\n",
        "age_vs_rating = user_avg_rating.join(users_df, on=\"user_id\", how=\"inner\") \\\n",
        "    .select(\"age\", \"avg_rating\")\n",
        "\n",
        "age_vs_rating_pd = age_vs_rating.toPandas()\n",
        "print(age_vs_rating_pd)\n",
        "\n",
        "plt.figure()\n",
        "plt.scatter(age_vs_rating_pd['age'], age_vs_rating_pd['avg_rating'])\n",
        "plt.title(\"Age vs Average Rating Given\")\n",
        "plt.xlabel(\"Age\")\n",
        "plt.ylabel(\"Average Rating\")\n",
        "plt.grid(True)\n",
        "plt.show()\n",
        "\n",
        "\n",
        "\n"
      ],
      "metadata": {
        "colab": {
          "base_uri": "https://localhost:8080/",
          "height": 1000
        },
        "id": "xLCtSAKBDd_d",
        "outputId": "6deeb314-7531-4234-be4d-c74e0fa0c433"
      },
      "execution_count": 18,
      "outputs": [
        {
          "output_type": "stream",
          "name": "stdout",
          "text": [
            "    genre  avg_rating\n",
            "0  Action         3.0\n",
            "1  Comedy         4.5\n",
            "2   Drama         5.0\n",
            "3  Sci-Fi         4.5\n"
          ]
        },
        {
          "output_type": "display_data",
          "data": {
            "text/plain": [
              "<Figure size 640x480 with 1 Axes>"
            ],
            "image/png": "[encoded data removed]"
          },
          "metadata": {}
        },
        {
          "output_type": "stream",
          "name": "stdout",
          "text": [
            "   year  num_ratings\n",
            "0  2009            2\n",
            "1  2010            3\n",
            "2  2012            1\n",
            "3  2014            1\n",
            "4  2016            1\n"
          ]
        },
        {
          "output_type": "display_data",
          "data": {
            "text/plain": [
              "<Figure size 640x480 with 1 Axes>"
            ],
            "image/png": "[encoded data removed]"
          },
          "metadata": {}
        },
        {
          "output_type": "stream",
          "name": "stdout",
          "text": [
            "   age  avg_rating\n",
            "0   25         4.0\n",
            "1   30         4.5\n",
            "2   35         4.0\n",
            "3   22         4.0\n",
            "4   28         5.0\n"
          ]
        },
        {
          "output_type": "display_data",
          "data": {
            "text/plain": [
              "<Figure size 640x480 with 1 Axes>"
            ],
            "image/png": "[encoded data removed]"
          },
          "metadata": {}
        }
      ]
    },
    {
      "cell_type": "markdown",
      "source": [
        "# **Task - 2 - Retail Sales Analytics with PySpark**"
      ],
      "metadata": {
        "id": "IHehl4Bo-u-W"
      }
    },
    {
      "cell_type": "code",
      "execution_count": 19,
      "metadata": {
        "colab": {
          "base_uri": "https://localhost:8080/"
        },
        "id": "Uzrif0Yx5N4z",
        "outputId": "421e9b2b-ec9a-4411-b0d4-ca9daa2a8afc"
      },
      "outputs": [
        {
          "output_type": "stream",
          "name": "stdout",
          "text": [
            "Spark started: <pyspark.sql.session.SparkSession object at 0x7d2c2a88c050>\n"
          ]
        }
      ],
      "source": [
        "\n",
        "!pip install -q pyspark\n",
        "\n",
        "from pyspark.sql import SparkSession\n",
        "from pyspark.sql.functions import col, sum as _sum, avg as _avg, max as _max, min as _min, count as _count, desc, month, to_date\n",
        "from pyspark.sql.types import IntegerType, DateType\n",
        "\n",
        "spark = SparkSession.builder.appName(\"Retail-Capstone\").getOrCreate()\n",
        "sc = spark.sparkContext\n",
        "\n",
        "print(\"Spark started:\", spark)\n"
      ]
    },
    {
      "cell_type": "markdown",
      "source": [
        "### **Prepare Data**"
      ],
      "metadata": {
        "id": "Ev_STnwy-jr4"
      }
    },
    {
      "cell_type": "code",
      "source": [
        "\n",
        "\n",
        "# Customers\n",
        "customers_data = [\n",
        " (1, \"Rahul Sharma\", \"Bangalore\", 28),\n",
        " (2, \"Priya Singh\", \"Delhi\", 32),\n",
        " (3, \"Aman Kumar\", \"Hyderabad\", 25),\n",
        " (4, \"Sneha Reddy\", \"Chennai\", 35),\n",
        " (5, \"Arjun Mehta\", \"Mumbai\", 30),\n",
        " (6, \"Divya Nair\", \"Delhi\", 29)\n",
        "]\n",
        "customers_cols = [\"customer_id\", \"name\", \"city\", \"age\"]\n",
        "customers_df = spark.createDataFrame(customers_data, customers_cols)\n",
        "\n",
        "# Products\n",
        "products_data = [\n",
        " (101, \"Laptop\", \"Electronics\", 55000),\n",
        " (102, \"Mobile\", \"Electronics\", 25000),\n",
        " (103, \"Headphones\", \"Electronics\", 3000),\n",
        " (104, \"Chair\", \"Furniture\", 5000),\n",
        " (105, \"Book\", \"Stationery\", 700),\n",
        " (106, \"Shoes\", \"Fashion\", 2500)\n",
        "]\n",
        "products_cols = [\"product_id\", \"product_name\", \"category\", \"price\"]\n",
        "products_df = spark.createDataFrame(products_data, products_cols)\n",
        "\n",
        "# Orders\n",
        "orders_data = [\n",
        " (1001, 1, 101, 1, \"2024-01-10\"),\n",
        " (1002, 2, 102, 2, \"2024-01-12\"),\n",
        " (1003, 1, 103, 3, \"2024-02-05\"),\n",
        " (1004, 3, 104, 1, \"2024-02-08\"),\n",
        " (1005, 5, 105, 5, \"2024-03-01\"),\n",
        " (1006, 6, 106, 2, \"2024-03-15\"),\n",
        " (1007, 7, 101, 1, \"2024-03-20\")  # non-existent customer\n",
        "]\n",
        "orders_cols = [\"order_id\", \"customer_id\", \"product_id\", \"quantity\", \"order_date\"]\n",
        "orders_df = spark.createDataFrame(orders_data, orders_cols)\n",
        "\n",
        "# Convert order_date to actual DateType\n",
        "orders_df = orders_df.withColumn(\"order_date\", to_date(col(\"order_date\"), \"yyyy-MM-dd\"))\n",
        "\n",
        "# Show schemas and small sample\n",
        "print(\"Customers schema:\")\n",
        "customers_df.printSchema()\n",
        "customers_df.show()\n",
        "\n",
        "print(\"Products schema:\")\n",
        "products_df.printSchema()\n",
        "products_df.show()\n",
        "\n",
        "print(\"Orders schema:\")\n",
        "orders_df.printSchema()\n",
        "orders_df.show()\n"
      ],
      "metadata": {
        "colab": {
          "base_uri": "https://localhost:8080/"
        },
        "id": "Xm7hmXZa5UpE",
        "outputId": "30cf8bf6-fe4d-479b-a3d2-aee7c54cf520"
      },
      "execution_count": 20,
      "outputs": [
        {
          "output_type": "stream",
          "name": "stdout",
          "text": [
            "Customers schema:\n",
            "root\n",
            " |-- customer_id: long (nullable = true)\n",
            " |-- name: string (nullable = true)\n",
            " |-- city: string (nullable = true)\n",
            " |-- age: long (nullable = true)\n",
            "\n",
            "+-----------+------------+---------+---+\n",
            "|customer_id|        name|     city|age|\n",
            "+-----------+------------+---------+---+\n",
            "|          1|Rahul Sharma|Bangalore| 28|\n",
            "|          2| Priya Singh|    Delhi| 32|\n",
            "|          3|  Aman Kumar|Hyderabad| 25|\n",
            "|          4| Sneha Reddy|  Chennai| 35|\n",
            "|          5| Arjun Mehta|   Mumbai| 30|\n",
            "|          6|  Divya Nair|    Delhi| 29|\n",
            "+-----------+------------+---------+---+\n",
            "\n",
            "Products schema:\n",
            "root\n",
            " |-- product_id: long (nullable = true)\n",
            " |-- product_name: string (nullable = true)\n",
            " |-- category: string (nullable = true)\n",
            " |-- price: long (nullable = true)\n",
            "\n",
            "+----------+------------+-----------+-----+\n",
            "|product_id|product_name|   category|price|\n",
            "+----------+------------+-----------+-----+\n",
            "|       101|      Laptop|Electronics|55000|\n",
            "|       102|      Mobile|Electronics|25000|\n",
            "|       103|  Headphones|Electronics| 3000|\n",
            "|       104|       Chair|  Furniture| 5000|\n",
            "|       105|        Book| Stationery|  700|\n",
            "|       106|       Shoes|    Fashion| 2500|\n",
            "+----------+------------+-----------+-----+\n",
            "\n",
            "Orders schema:\n",
            "root\n",
            " |-- order_id: long (nullable = true)\n",
            " |-- customer_id: long (nullable = true)\n",
            " |-- product_id: long (nullable = true)\n",
            " |-- quantity: long (nullable = true)\n",
            " |-- order_date: date (nullable = true)\n",
            "\n",
            "+--------+-----------+----------+--------+----------+\n",
            "|order_id|customer_id|product_id|quantity|order_date|\n",
            "+--------+-----------+----------+--------+----------+\n",
            "|    1001|          1|       101|       1|2024-01-10|\n",
            "|    1002|          2|       102|       2|2024-01-12|\n",
            "|    1003|          1|       103|       3|2024-02-05|\n",
            "|    1004|          3|       104|       1|2024-02-08|\n",
            "|    1005|          5|       105|       5|2024-03-01|\n",
            "|    1006|          6|       106|       2|2024-03-15|\n",
            "|    1007|          7|       101|       1|2024-03-20|\n",
            "+--------+-----------+----------+--------+----------+\n",
            "\n"
          ]
        }
      ]
    },
    {
      "cell_type": "markdown",
      "source": [
        "###  **RDD Basics**"
      ],
      "metadata": {
        "id": "cXK38oOY53Ur"
      }
    },
    {
      "cell_type": "code",
      "source": [
        "# RDD from list of numbers and basic stats\n",
        "numbers = [10, 20, 30, 40, 50]\n",
        "num_rdd = sc.parallelize(numbers)\n",
        "\n",
        "# sum, max, min, average\n",
        "total_sum = num_rdd.reduce(lambda a, b: a + b)\n",
        "max_val = num_rdd.reduce(lambda a, b: a if a > b else b)\n",
        "min_val = num_rdd.reduce(lambda a, b: a if a < b else b)\n",
        "count = num_rdd.count()\n",
        "average = total_sum / count\n",
        "\n",
        "print(\"Numbers RDD:\", numbers)\n",
        "print(\"Sum:\", total_sum)\n",
        "print(\"Max:\", max_val)\n",
        "print(\"Min:\", min_val)\n",
        "print(\"Count:\", count)\n",
        "print(\"Average:\", average)\n"
      ],
      "metadata": {
        "colab": {
          "base_uri": "https://localhost:8080/"
        },
        "id": "alhJKy3k5scM",
        "outputId": "b40b9256-56cb-479e-91fb-55e74bd7b41b"
      },
      "execution_count": 21,
      "outputs": [
        {
          "output_type": "stream",
          "name": "stdout",
          "text": [
            "Numbers RDD: [10, 20, 30, 40, 50]\n",
            "Sum: 150\n",
            "Max: 50\n",
            "Min: 10\n",
            "Count: 5\n",
            "Average: 30.0\n"
          ]
        }
      ]
    },
    {
      "cell_type": "code",
      "source": [
        "#  RDD of sentences -> word count\n",
        "sentences = [\n",
        " \"spark is great for large scale data processing\",\n",
        " \"pyspark lets you use spark with python\",\n",
        " \"word count is a classic rdd example\"\n",
        "]\n",
        "sent_rdd = sc.parallelize(sentences)\n",
        "\n",
        "# split into words, map to (word,1), reduceByKey\n",
        "words_rdd = sent_rdd.flatMap(lambda s: s.split())\n",
        "pairs = words_rdd.map(lambda w: (w.lower(), 1))\n",
        "word_counts = pairs.reduceByKey(lambda a, b: a + b)\n",
        "\n",
        "print(\"Word counts:\")\n",
        "for w, c in word_counts.collect():\n",
        "    print(w, c)\n"
      ],
      "metadata": {
        "colab": {
          "base_uri": "https://localhost:8080/"
        },
        "id": "NcGbX3KS52TN",
        "outputId": "feabda95-a08f-4ccc-e6aa-164cea4f1ee0"
      },
      "execution_count": 22,
      "outputs": [
        {
          "output_type": "stream",
          "name": "stdout",
          "text": [
            "Word counts:\n",
            "for 1\n",
            "large 1\n",
            "lets 1\n",
            "you 1\n",
            "use 1\n",
            "with 1\n",
            "python 1\n",
            "word 1\n",
            "rdd 1\n",
            "spark 2\n",
            "is 2\n",
            "great 1\n",
            "scale 1\n",
            "data 1\n",
            "processing 1\n",
            "pyspark 1\n",
            "count 1\n",
            "a 1\n",
            "classic 1\n",
            "example 1\n"
          ]
        }
      ]
    },
    {
      "cell_type": "markdown",
      "source": [
        "### **DataFrame Operations**"
      ],
      "metadata": {
        "id": "MrLORa-s6c0o"
      }
    },
    {
      "cell_type": "code",
      "source": [
        "# Show all customer names and their cities\n",
        "customers_df.select(\"name\", \"city\").show()\n",
        "\n",
        "# Find customers older than 30\n",
        "customers_df.filter(col(\"age\") > 30).show()\n",
        "\n",
        "# List distinct product categories\n",
        "products_df.select(\"category\").distinct().show()\n",
        "\n",
        "# Top 3 most expensive products\n",
        "products_df.orderBy(col(\"price\").desc()).limit(3).show()\n"
      ],
      "metadata": {
        "colab": {
          "base_uri": "https://localhost:8080/"
        },
        "id": "oJDakxgp6Jw5",
        "outputId": "e722f69a-ba1e-441d-94c7-d2fb2a677b03"
      },
      "execution_count": 23,
      "outputs": [
        {
          "output_type": "stream",
          "name": "stdout",
          "text": [
            "+------------+---------+\n",
            "|        name|     city|\n",
            "+------------+---------+\n",
            "|Rahul Sharma|Bangalore|\n",
            "| Priya Singh|    Delhi|\n",
            "|  Aman Kumar|Hyderabad|\n",
            "| Sneha Reddy|  Chennai|\n",
            "| Arjun Mehta|   Mumbai|\n",
            "|  Divya Nair|    Delhi|\n",
            "+------------+---------+\n",
            "\n",
            "+-----------+-----------+-------+---+\n",
            "|customer_id|       name|   city|age|\n",
            "+-----------+-----------+-------+---+\n",
            "|          2|Priya Singh|  Delhi| 32|\n",
            "|          4|Sneha Reddy|Chennai| 35|\n",
            "+-----------+-----------+-------+---+\n",
            "\n",
            "+-----------+\n",
            "|   category|\n",
            "+-----------+\n",
            "|Electronics|\n",
            "| Stationery|\n",
            "|    Fashion|\n",
            "|  Furniture|\n",
            "+-----------+\n",
            "\n",
            "+----------+------------+-----------+-----+\n",
            "|product_id|product_name|   category|price|\n",
            "+----------+------------+-----------+-----+\n",
            "|       101|      Laptop|Electronics|55000|\n",
            "|       102|      Mobile|Electronics|25000|\n",
            "|       104|       Chair|  Furniture| 5000|\n",
            "+----------+------------+-----------+-----+\n",
            "\n"
          ]
        }
      ]
    },
    {
      "cell_type": "markdown",
      "source": [
        "### **Aggregations**"
      ],
      "metadata": {
        "id": "ZcBLI1ZI6i9x"
      }
    },
    {
      "cell_type": "code",
      "source": [
        "# Average age of customers per city\n",
        "customers_df.groupBy(\"city\").agg(_avg(\"age\").alias(\"avg_age\")).show()\n",
        "\n",
        "# Total revenue per product = price * total_quantity_sold\n",
        "# First, aggregate total quantity sold per product from orders\n",
        "qty_per_product = orders_df.groupBy(\"product_id\").agg(_sum(\"quantity\").alias(\"total_quantity\"))\n",
        "\n",
        "# Join with products to get price, compute revenue\n",
        "revenue_per_product = qty_per_product.join(products_df, on=\"product_id\", how=\"left\") \\\n",
        "    .withColumn(\"revenue\", col(\"total_quantity\") * col(\"price\")) \\\n",
        "    .select(\"product_id\", \"product_name\", \"total_quantity\", \"price\", \"revenue\")\n",
        "\n",
        "revenue_per_product.show()\n",
        "\n",
        "# Most popular product by total quantity sold\n",
        "revenue_per_product.orderBy(col(\"total_quantity\").desc()).limit(1).show()\n"
      ],
      "metadata": {
        "colab": {
          "base_uri": "https://localhost:8080/"
        },
        "id": "YNDnwRn16Zut",
        "outputId": "83b95095-6820-49f5-ab9e-9c9a8076bdc2"
      },
      "execution_count": 24,
      "outputs": [
        {
          "output_type": "stream",
          "name": "stdout",
          "text": [
            "+---------+-------+\n",
            "|     city|avg_age|\n",
            "+---------+-------+\n",
            "|Bangalore|   28.0|\n",
            "|    Delhi|   30.5|\n",
            "|Hyderabad|   25.0|\n",
            "|  Chennai|   35.0|\n",
            "|   Mumbai|   30.0|\n",
            "+---------+-------+\n",
            "\n",
            "+----------+------------+--------------+-----+-------+\n",
            "|product_id|product_name|total_quantity|price|revenue|\n",
            "+----------+------------+--------------+-----+-------+\n",
            "|       103|  Headphones|             3| 3000|   9000|\n",
            "|       101|      Laptop|             2|55000| 110000|\n",
            "|       102|      Mobile|             2|25000|  50000|\n",
            "|       104|       Chair|             1| 5000|   5000|\n",
            "|       106|       Shoes|             2| 2500|   5000|\n",
            "|       105|        Book|             5|  700|   3500|\n",
            "+----------+------------+--------------+-----+-------+\n",
            "\n",
            "+----------+------------+--------------+-----+-------+\n",
            "|product_id|product_name|total_quantity|price|revenue|\n",
            "+----------+------------+--------------+-----+-------+\n",
            "|       105|        Book|             5|  700|   3500|\n",
            "+----------+------------+--------------+-----+-------+\n",
            "\n"
          ]
        }
      ]
    },
    {
      "cell_type": "markdown",
      "source": [
        "### **Joins**"
      ],
      "metadata": {
        "id": "wiR2W6vY6zw3"
      }
    },
    {
      "cell_type": "code",
      "source": [
        "# Join customers with orders to list each customer's purchases (inner join)\n",
        "cust_orders_inner = customers_df.join(orders_df, on=\"customer_id\", how=\"inner\") \\\n",
        "    .select(\"customer_id\", \"name\", \"order_id\", \"product_id\", \"quantity\", \"order_date\")\n",
        "cust_orders_inner.show()\n",
        "\n",
        "# Join orders with products -> order details (product name + category)\n",
        "orders_with_products = orders_df.join(products_df, on=\"product_id\", how=\"left\") \\\n",
        "    .select(\"order_id\", \"customer_id\", \"product_id\", \"product_name\", \"category\", \"quantity\", \"order_date\")\n",
        "orders_with_products.show()\n",
        "\n",
        "# Customers who never placed an order\n",
        "customers_never_ordered = customers_df.join(orders_df, on=\"customer_id\", how=\"left_anti\")\n",
        "customers_never_ordered.show()\n",
        "\n",
        "# Products that were never ordered\n",
        "products_never_ordered = products_df.join(orders_df, on=\"product_id\", how=\"left_anti\")\n",
        "products_never_ordered.show()\n"
      ],
      "metadata": {
        "colab": {
          "base_uri": "https://localhost:8080/"
        },
        "id": "zChrT27k6sBk",
        "outputId": "522cc599-069e-4c3e-ffcb-f57e8a185444"
      },
      "execution_count": 25,
      "outputs": [
        {
          "output_type": "stream",
          "name": "stdout",
          "text": [
            "+-----------+------------+--------+----------+--------+----------+\n",
            "|customer_id|        name|order_id|product_id|quantity|order_date|\n",
            "+-----------+------------+--------+----------+--------+----------+\n",
            "|          1|Rahul Sharma|    1001|       101|       1|2024-01-10|\n",
            "|          1|Rahul Sharma|    1003|       103|       3|2024-02-05|\n",
            "|          2| Priya Singh|    1002|       102|       2|2024-01-12|\n",
            "|          3|  Aman Kumar|    1004|       104|       1|2024-02-08|\n",
            "|          5| Arjun Mehta|    1005|       105|       5|2024-03-01|\n",
            "|          6|  Divya Nair|    1006|       106|       2|2024-03-15|\n",
            "+-----------+------------+--------+----------+--------+----------+\n",
            "\n",
            "+--------+-----------+----------+------------+-----------+--------+----------+\n",
            "|order_id|customer_id|product_id|product_name|   category|quantity|order_date|\n",
            "+--------+-----------+----------+------------+-----------+--------+----------+\n",
            "|    1003|          1|       103|  Headphones|Electronics|       3|2024-02-05|\n",
            "|    1001|          1|       101|      Laptop|Electronics|       1|2024-01-10|\n",
            "|    1002|          2|       102|      Mobile|Electronics|       2|2024-01-12|\n",
            "|    1004|          3|       104|       Chair|  Furniture|       1|2024-02-08|\n",
            "|    1006|          6|       106|       Shoes|    Fashion|       2|2024-03-15|\n",
            "|    1005|          5|       105|        Book| Stationery|       5|2024-03-01|\n",
            "|    1007|          7|       101|      Laptop|Electronics|       1|2024-03-20|\n",
            "+--------+-----------+----------+------------+-----------+--------+----------+\n",
            "\n",
            "+-----------+-----------+-------+---+\n",
            "|customer_id|       name|   city|age|\n",
            "+-----------+-----------+-------+---+\n",
            "|          4|Sneha Reddy|Chennai| 35|\n",
            "+-----------+-----------+-------+---+\n",
            "\n",
            "+----------+------------+--------+-----+\n",
            "|product_id|product_name|category|price|\n",
            "+----------+------------+--------+-----+\n",
            "+----------+------------+--------+-----+\n",
            "\n"
          ]
        }
      ]
    },
    {
      "cell_type": "markdown",
      "source": [
        "### **SQL Queries**"
      ],
      "metadata": {
        "id": "Ho7zUuc97RHR"
      }
    },
    {
      "cell_type": "code",
      "source": [
        "# Register DataFrames as temp views\n",
        "customers_df.createOrReplaceTempView(\"customers\")\n",
        "products_df.createOrReplaceTempView(\"products\")\n",
        "orders_df.createOrReplaceTempView(\"orders\")\n",
        "\n",
        "# Top 2 cities by total revenue\n",
        "q15 = \"\"\"\n",
        "SELECT c.city, SUM(o.quantity * p.price) AS total_revenue\n",
        "FROM orders o\n",
        "JOIN products p ON o.product_id = p.product_id\n",
        "JOIN customers c ON o.customer_id = c.customer_id\n",
        "GROUP BY c.city\n",
        "ORDER BY total_revenue DESC\n",
        "LIMIT 2\n",
        "\"\"\"\n",
        "spark.sql(q15).show()\n",
        "\n",
        "# Customers who spent more than 50,000 in total\n",
        "q16 = \"\"\"\n",
        "SELECT c.customer_id, c.name, SUM(o.quantity * p.price) AS total_spent\n",
        "FROM orders o\n",
        "JOIN products p ON o.product_id = p.product_id\n",
        "JOIN customers c ON o.customer_id = c.customer_id\n",
        "GROUP BY c.customer_id, c.name\n",
        "HAVING total_spent > 50000\n",
        "\"\"\"\n",
        "spark.sql(q16).show()\n",
        "\n",
        "# Best-selling product category by revenue\n",
        "q17 = \"\"\"\n",
        "SELECT p.category, SUM(o.quantity * p.price) AS revenue\n",
        "FROM orders o\n",
        "JOIN products p ON o.product_id = p.product_id\n",
        "GROUP BY p.category\n",
        "ORDER BY revenue DESC\n",
        "LIMIT 1\n",
        "\"\"\"\n",
        "spark.sql(q17).show()\n"
      ],
      "metadata": {
        "colab": {
          "base_uri": "https://localhost:8080/"
        },
        "id": "n6hPWdZI7Io-",
        "outputId": "0b10901d-fa2e-40ad-9210-f690e50eccb4"
      },
      "execution_count": 26,
      "outputs": [
        {
          "output_type": "stream",
          "name": "stdout",
          "text": [
            "+---------+-------------+\n",
            "|     city|total_revenue|\n",
            "+---------+-------------+\n",
            "|Bangalore|        64000|\n",
            "|    Delhi|        55000|\n",
            "+---------+-------------+\n",
            "\n",
            "+-----------+------------+-----------+\n",
            "|customer_id|        name|total_spent|\n",
            "+-----------+------------+-----------+\n",
            "|          1|Rahul Sharma|      64000|\n",
            "+-----------+------------+-----------+\n",
            "\n",
            "+-----------+-------+\n",
            "|   category|revenue|\n",
            "+-----------+-------+\n",
            "|Electronics| 169000|\n",
            "+-----------+-------+\n",
            "\n"
          ]
        }
      ]
    },
    {
      "cell_type": "markdown",
      "source": [
        "### **File I/O (CSV & JSON)**"
      ],
      "metadata": {
        "id": "Wv0oAcKP7mp9"
      }
    },
    {
      "cell_type": "code",
      "source": [
        "# Save orders_df as CSV\n",
        "orders_csv_path = \"/content/orders_csv\"\n",
        "orders_df.coalesce(1).write.mode(\"overwrite\").option(\"header\", True).csv(orders_csv_path)\n",
        "print(\"Orders saved to:\", orders_csv_path)\n",
        "\n",
        "# Load it back\n",
        "orders_loaded = spark.read.option(\"header\", True).option(\"inferSchema\", True).csv(orders_csv_path)\n",
        "orders_loaded = orders_loaded.withColumn(\"order_date\", to_date(col(\"order_date\"), \"yyyy-MM-dd\"))\n",
        "orders_loaded.printSchema()\n",
        "orders_loaded.show()\n",
        "\n",
        "# Save products_df as JSON and reload\n",
        "products_json_path = \"/content/products_json\"\n",
        "products_df.coalesce(1).write.mode(\"overwrite\").json(products_json_path)\n",
        "print(\"Products saved to:\", products_json_path)\n",
        "\n",
        "products_loaded = spark.read.json(products_json_path)\n",
        "products_loaded.printSchema()\n",
        "products_loaded.show()\n"
      ],
      "metadata": {
        "colab": {
          "base_uri": "https://localhost:8080/"
        },
        "id": "GFdI7Ixu7f-m",
        "outputId": "71288d13-a38a-4d02-82af-52ac1fd20f57"
      },
      "execution_count": 27,
      "outputs": [
        {
          "output_type": "stream",
          "name": "stdout",
          "text": [
            "Orders saved to: /content/orders_csv\n",
            "root\n",
            " |-- order_id: integer (nullable = true)\n",
            " |-- customer_id: integer (nullable = true)\n",
            " |-- product_id: integer (nullable = true)\n",
            " |-- quantity: integer (nullable = true)\n",
            " |-- order_date: date (nullable = true)\n",
            "\n",
            "+--------+-----------+----------+--------+----------+\n",
            "|order_id|customer_id|product_id|quantity|order_date|\n",
            "+--------+-----------+----------+--------+----------+\n",
            "|    1001|          1|       101|       1|2024-01-10|\n",
            "|    1002|          2|       102|       2|2024-01-12|\n",
            "|    1003|          1|       103|       3|2024-02-05|\n",
            "|    1004|          3|       104|       1|2024-02-08|\n",
            "|    1005|          5|       105|       5|2024-03-01|\n",
            "|    1006|          6|       106|       2|2024-03-15|\n",
            "|    1007|          7|       101|       1|2024-03-20|\n",
            "+--------+-----------+----------+--------+----------+\n",
            "\n",
            "Products saved to: /content/products_json\n",
            "root\n",
            " |-- category: string (nullable = true)\n",
            " |-- price: long (nullable = true)\n",
            " |-- product_id: long (nullable = true)\n",
            " |-- product_name: string (nullable = true)\n",
            "\n",
            "+-----------+-----+----------+------------+\n",
            "|   category|price|product_id|product_name|\n",
            "+-----------+-----+----------+------------+\n",
            "|Electronics|55000|       101|      Laptop|\n",
            "|Electronics|25000|       102|      Mobile|\n",
            "|Electronics| 3000|       103|  Headphones|\n",
            "|  Furniture| 5000|       104|       Chair|\n",
            "| Stationery|  700|       105|        Book|\n",
            "|    Fashion| 2500|       106|       Shoes|\n",
            "+-----------+-----+----------+------------+\n",
            "\n"
          ]
        }
      ]
    },
    {
      "cell_type": "markdown",
      "source": [
        "### **Visualization**"
      ],
      "metadata": {
        "id": "uC3Sc6wC73HM"
      }
    },
    {
      "cell_type": "code",
      "source": [
        "#  Convert PySpark DataFrame -> Pandas\n",
        "# Prepare revenue by category (PySpark), then toPandas()\n",
        "revenue_by_cat = orders_df.join(products_df, on=\"product_id\", how=\"left\") \\\n",
        "    .groupBy(\"category\") \\\n",
        "    .agg(_sum(col(\"quantity\") * col(\"price\")).alias(\"revenue\")) \\\n",
        "    .orderBy(\"category\")\n",
        "\n",
        "revenue_pd = revenue_by_cat.toPandas()\n",
        "print(revenue_pd)\n",
        "\n",
        "# Plot Revenue by Category (bar chart)\n",
        "import matplotlib.pyplot as plt\n",
        "\n",
        "plt.figure()\n",
        "plt.bar(revenue_pd['category'], revenue_pd['revenue'])\n",
        "plt.title(\"Revenue by Category\")\n",
        "plt.xlabel(\"Category\")\n",
        "plt.ylabel(\"Revenue\")\n",
        "plt.grid(True)\n",
        "plt.show()\n",
        "\n",
        "# Plot Number of Orders per Month as a line chart\n",
        "orders_by_month = orders_df.withColumn(\"month\", month(col(\"order_date\"))) \\\n",
        "    .groupBy(\"month\").agg(_count(\"order_id\").alias(\"num_orders\")).orderBy(\"month\")\n",
        "\n",
        "orders_by_month_pd = orders_by_month.toPandas()\n",
        "print(orders_by_month_pd)\n",
        "\n",
        "plt.figure()\n",
        "plt.plot(orders_by_month_pd['month'], orders_by_month_pd['num_orders'], marker='o')\n",
        "plt.title(\"Number of Orders per Month\")\n",
        "plt.xlabel(\"Month\")\n",
        "plt.ylabel(\"Number of Orders\")\n",
        "plt.xticks(orders_by_month_pd['month'])\n",
        "plt.grid(True)\n",
        "plt.show()\n",
        "\n",
        "# Plot Revenue vs Quantity as scatter plot\n",
        "# Build a DataFrame with revenue per order line = price * quantity\n",
        "order_line = orders_df.join(products_df, on=\"product_id\", how=\"left\") \\\n",
        "    .withColumn(\"line_revenue\", col(\"quantity\") * col(\"price\")) \\\n",
        "    .select(\"order_id\", \"product_id\", \"quantity\", \"line_revenue\")\n",
        "\n",
        "order_line_pd = order_line.toPandas()\n",
        "print(order_line_pd)\n",
        "\n",
        "plt.figure()\n",
        "plt.scatter(order_line_pd['quantity'], order_line_pd['line_revenue'])\n",
        "plt.title(\"Revenue vs Quantity (per order line)\")\n",
        "plt.xlabel(\"Quantity\")\n",
        "plt.ylabel(\"Revenue\")\n",
        "plt.grid(True)\n",
        "plt.show()\n",
        "\n",
        "\n"
      ],
      "metadata": {
        "colab": {
          "base_uri": "https://localhost:8080/",
          "height": 1000
        },
        "id": "KTZlpXfw7umK",
        "outputId": "4bb42022-9c02-4fb2-b871-8b986ba01bbf"
      },
      "execution_count": 28,
      "outputs": [
        {
          "output_type": "stream",
          "name": "stdout",
          "text": [
            "      category  revenue\n",
            "0  Electronics   169000\n",
            "1      Fashion     5000\n",
            "2    Furniture     5000\n",
            "3   Stationery     3500\n"
          ]
        },
        {
          "output_type": "display_data",
          "data": {
            "text/plain": [
              "<Figure size 640x480 with 1 Axes>"
            ],
            "image/png": "[encoded data removed]"
          },
          "metadata": {}
        },
        {
          "output_type": "stream",
          "name": "stdout",
          "text": [
            "   month  num_orders\n",
            "0      1           2\n",
            "1      2           2\n",
            "2      3           3\n"
          ]
        },
        {
          "output_type": "display_data",
          "data": {
            "text/plain": [
              "<Figure size 640x480 with 1 Axes>"
            ],
            "image/png": "[encoded data removed]"
          },
          "metadata": {}
        },
        {
          "output_type": "stream",
          "name": "stdout",
          "text": [
            "   order_id  product_id  quantity  line_revenue\n",
            "0      1003         103         3          9000\n",
            "1      1001         101         1         55000\n",
            "2      1002         102         2         50000\n",
            "3      1004         104         1          5000\n",
            "4      1006         106         2          5000\n",
            "5      1005         105         5          3500\n",
            "6      1007         101         1         55000\n"
          ]
        },
        {
          "output_type": "display_data",
          "data": {
            "text/plain": [
              "<Figure size 640x480 with 1 Axes>"
            ],
            "image/png": "[encoded data removed]"
          },
          "metadata": {}
        }
      ]
    },
    {
      "cell_type": "code",
      "source": [],
      "metadata": {
        "id": "6DSdAjM_8Je7"
      },
      "execution_count": null,
      "outputs": []
    }
  ]
}