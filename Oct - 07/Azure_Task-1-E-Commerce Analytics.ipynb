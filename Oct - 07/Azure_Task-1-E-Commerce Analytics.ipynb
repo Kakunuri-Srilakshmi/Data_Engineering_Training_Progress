{
 "cells": [
  {
   "cell_type": "code",
   "execution_count": 0,
   "metadata": {
    "application/vnd.databricks.v1+cell": {
     "cellMetadata": {
      "byteLimit": 2048000,
      "rowLimit": 10000
     },
     "inputWidgets": {},
     "nuid": "afe5008e-3f15-43d2-ba59-1ed4c15b7dad",
     "showTitle": false,
     "tableResultSettingsMap": {},
     "title": ""
    }
   },
   "outputs": [],
   "source": [
    "# Create Spark Session\n",
    "from pyspark.sql import SparkSession\n",
    "spark = SparkSession.builder.appName(\"ECommerceAnalysis\").getOrCreate()\n"
   ]
  },
  {
   "cell_type": "code",
   "execution_count": 0,
   "metadata": {
    "application/vnd.databricks.v1+cell": {
     "cellMetadata": {
      "byteLimit": 2048000,
      "rowLimit": 10000
     },
     "inputWidgets": {},
     "nuid": "e0ce0323-d301-47ae-98e1-0b04e0113a45",
     "showTitle": false,
     "tableResultSettingsMap": {},
     "title": ""
    }
   },
   "outputs": [
    {
     "output_type": "stream",
     "name": "stdout",
     "output_type": "stream",
     "text": [
      "Wrote 174 bytes.\nWrote 201 bytes.\nWrote 220 bytes.\n"
     ]
    },
    {
     "output_type": "execute_result",
     "data": {
      "text/plain": [
       "True"
      ]
     },
     "execution_count": 3,
     "metadata": {},
     "output_type": "execute_result"
    }
   ],
   "source": [
    "# Create CSV files directly in DBFS\n",
    "csv_customers = \"\"\"customer_id,name,city,age\n",
    "1,Rahul Sharma,Bangalore,28\n",
    "2,Priya Singh,Delhi,32\n",
    "3,Aman Kumar,Hyderabad,25\n",
    "4,Sneha Reddy,Chennai,35\n",
    "5,Arjun Mehta,Mumbai,30\n",
    "6,Divya Nair,Delhi,29\n",
    "\"\"\"\n",
    "\n",
    "csv_products = \"\"\"product_id,product_name,category,price\n",
    "101,Laptop,Electronics,55000\n",
    "102,Mobile,Electronics,25000\n",
    "103,Headphones,Electronics,3000\n",
    "104,Chair,Furniture,5000\n",
    "105,Book,Stationery,700\n",
    "106,Shoes,Fashion,2500\n",
    "\"\"\"\n",
    "\n",
    "csv_orders = \"\"\"order_id,customer_id,product_id,quantity,order_date\n",
    "1001,1,101,1,2024-01-10\n",
    "1002,2,102,2,2024-01-12\n",
    "1003,1,103,3,2024-02-05\n",
    "1004,3,104,1,2024-02-08\n",
    "1005,5,105,5,2024-03-01\n",
    "1006,6,106,2,2024-03-15\n",
    "1007,7,101,1,2024-03-20\n",
    "\"\"\"\n",
    "\n",
    "# Upload files to DBFS\n",
    "dbutils.fs.put(\"/FileStore/tables/customers.csv\", csv_customers, True)\n",
    "dbutils.fs.put(\"/FileStore/tables/products.csv\", csv_products, True)\n",
    "dbutils.fs.put(\"/FileStore/tables/orders.csv\", csv_orders, True)\n"
   ]
  },
  {
   "cell_type": "code",
   "execution_count": 0,
   "metadata": {
    "application/vnd.databricks.v1+cell": {
     "cellMetadata": {
      "byteLimit": 2048000,
      "rowLimit": 10000
     },
     "inputWidgets": {},
     "nuid": "01e5b293-fd2f-4aec-8a70-dd732c195c53",
     "showTitle": false,
     "tableResultSettingsMap": {},
     "title": ""
    }
   },
   "outputs": [
    {
     "output_type": "display_data",
     "data": {
      "text/html": [
       "<style scoped>\n",
       "  .table-result-container {\n",
       "    max-height: 300px;\n",
       "    overflow: auto;\n",
       "  }\n",
       "  table, th, td {\n",
       "    border: 1px solid black;\n",
       "    border-collapse: collapse;\n",
       "  }\n",
       "  th, td {\n",
       "    padding: 5px;\n",
       "  }\n",
       "  th {\n",
       "    text-align: left;\n",
       "  }\n",
       "</style><div class='table-result-container'><table class='table-result'><thead style='background-color: white'><tr><th>customer_id</th><th>name</th><th>city</th><th>age</th></tr></thead><tbody><tr><td>1</td><td>Rahul Sharma</td><td>Bangalore</td><td>28</td></tr><tr><td>2</td><td>Priya Singh</td><td>Delhi</td><td>32</td></tr><tr><td>3</td><td>Aman Kumar</td><td>Hyderabad</td><td>25</td></tr><tr><td>4</td><td>Sneha Reddy</td><td>Chennai</td><td>35</td></tr><tr><td>5</td><td>Arjun Mehta</td><td>Mumbai</td><td>30</td></tr><tr><td>6</td><td>Divya Nair</td><td>Delhi</td><td>29</td></tr></tbody></table></div>"
      ]
     },
     "metadata": {
      "application/vnd.databricks.v1+output": {
       "addedWidgets": {},
       "aggData": [],
       "aggError": "",
       "aggOverflow": false,
       "aggSchema": [],
       "aggSeriesLimitReached": false,
       "aggType": "",
       "arguments": {},
       "columnCustomDisplayInfos": {},
       "data": [
        [
         1,
         "Rahul Sharma",
         "Bangalore",
         28
        ],
        [
         2,
         "Priya Singh",
         "Delhi",
         32
        ],
        [
         3,
         "Aman Kumar",
         "Hyderabad",
         25
        ],
        [
         4,
         "Sneha Reddy",
         "Chennai",
         35
        ],
        [
         5,
         "Arjun Mehta",
         "Mumbai",
         30
        ],
        [
         6,
         "Divya Nair",
         "Delhi",
         29
        ]
       ],
       "datasetInfos": [],
       "dbfsResultPath": null,
       "isJsonSchema": true,
       "metadata": {},
       "overflow": false,
       "plotOptions": {
        "customPlotOptions": {},
        "displayType": "table",
        "pivotAggregation": null,
        "pivotColumns": null,
        "xColumns": null,
        "yColumns": null
       },
       "removedWidgets": [],
       "schema": [
        {
         "metadata": "{}",
         "name": "customer_id",
         "type": "\"integer\""
        },
        {
         "metadata": "{}",
         "name": "name",
         "type": "\"string\""
        },
        {
         "metadata": "{}",
         "name": "city",
         "type": "\"string\""
        },
        {
         "metadata": "{}",
         "name": "age",
         "type": "\"integer\""
        }
       ],
       "type": "table"
      }
     },
     "output_type": "display_data"
    },
    {
     "output_type": "display_data",
     "data": {
      "text/html": [
       "<style scoped>\n",
       "  .table-result-container {\n",
       "    max-height: 300px;\n",
       "    overflow: auto;\n",
       "  }\n",
       "  table, th, td {\n",
       "    border: 1px solid black;\n",
       "    border-collapse: collapse;\n",
       "  }\n",
       "  th, td {\n",
       "    padding: 5px;\n",
       "  }\n",
       "  th {\n",
       "    text-align: left;\n",
       "  }\n",
       "</style><div class='table-result-container'><table class='table-result'><thead style='background-color: white'><tr><th>product_id</th><th>product_name</th><th>category</th><th>price</th></tr></thead><tbody><tr><td>101</td><td>Laptop</td><td>Electronics</td><td>55000</td></tr><tr><td>102</td><td>Mobile</td><td>Electronics</td><td>25000</td></tr><tr><td>103</td><td>Headphones</td><td>Electronics</td><td>3000</td></tr><tr><td>104</td><td>Chair</td><td>Furniture</td><td>5000</td></tr><tr><td>105</td><td>Book</td><td>Stationery</td><td>700</td></tr><tr><td>106</td><td>Shoes</td><td>Fashion</td><td>2500</td></tr></tbody></table></div>"
      ]
     },
     "metadata": {
      "application/vnd.databricks.v1+output": {
       "addedWidgets": {},
       "aggData": [],
       "aggError": "",
       "aggOverflow": false,
       "aggSchema": [],
       "aggSeriesLimitReached": false,
       "aggType": "",
       "arguments": {},
       "columnCustomDisplayInfos": {},
       "data": [
        [
         101,
         "Laptop",
         "Electronics",
         55000
        ],
        [
         102,
         "Mobile",
         "Electronics",
         25000
        ],
        [
         103,
         "Headphones",
         "Electronics",
         3000
        ],
        [
         104,
         "Chair",
         "Furniture",
         5000
        ],
        [
         105,
         "Book",
         "Stationery",
         700
        ],
        [
         106,
         "Shoes",
         "Fashion",
         2500
        ]
       ],
       "datasetInfos": [],
       "dbfsResultPath": null,
       "isJsonSchema": true,
       "metadata": {},
       "overflow": false,
       "plotOptions": {
        "customPlotOptions": {},
        "displayType": "table",
        "pivotAggregation": null,
        "pivotColumns": null,
        "xColumns": null,
        "yColumns": null
       },
       "removedWidgets": [],
       "schema": [
        {
         "metadata": "{}",
         "name": "product_id",
         "type": "\"integer\""
        },
        {
         "metadata": "{}",
         "name": "product_name",
         "type": "\"string\""
        },
        {
         "metadata": "{}",
         "name": "category",
         "type": "\"string\""
        },
        {
         "metadata": "{}",
         "name": "price",
         "type": "\"integer\""
        }
       ],
       "type": "table"
      }
     },
     "output_type": "display_data"
    },
    {
     "output_type": "display_data",
     "data": {
      "text/html": [
       "<style scoped>\n",
       "  .table-result-container {\n",
       "    max-height: 300px;\n",
       "    overflow: auto;\n",
       "  }\n",
       "  table, th, td {\n",
       "    border: 1px solid black;\n",
       "    border-collapse: collapse;\n",
       "  }\n",
       "  th, td {\n",
       "    padding: 5px;\n",
       "  }\n",
       "  th {\n",
       "    text-align: left;\n",
       "  }\n",
       "</style><div class='table-result-container'><table class='table-result'><thead style='background-color: white'><tr><th>order_id</th><th>customer_id</th><th>product_id</th><th>quantity</th><th>order_date</th></tr></thead><tbody><tr><td>1001</td><td>1</td><td>101</td><td>1</td><td>2024-01-10</td></tr><tr><td>1002</td><td>2</td><td>102</td><td>2</td><td>2024-01-12</td></tr><tr><td>1003</td><td>1</td><td>103</td><td>3</td><td>2024-02-05</td></tr><tr><td>1004</td><td>3</td><td>104</td><td>1</td><td>2024-02-08</td></tr><tr><td>1005</td><td>5</td><td>105</td><td>5</td><td>2024-03-01</td></tr><tr><td>1006</td><td>6</td><td>106</td><td>2</td><td>2024-03-15</td></tr><tr><td>1007</td><td>7</td><td>101</td><td>1</td><td>2024-03-20</td></tr></tbody></table></div>"
      ]
     },
     "metadata": {
      "application/vnd.databricks.v1+output": {
       "addedWidgets": {},
       "aggData": [],
       "aggError": "",
       "aggOverflow": false,
       "aggSchema": [],
       "aggSeriesLimitReached": false,
       "aggType": "",
       "arguments": {},
       "columnCustomDisplayInfos": {},
       "data": [
        [
         1001,
         1,
         101,
         1,
         "2024-01-10"
        ],
        [
         1002,
         2,
         102,
         2,
         "2024-01-12"
        ],
        [
         1003,
         1,
         103,
         3,
         "2024-02-05"
        ],
        [
         1004,
         3,
         104,
         1,
         "2024-02-08"
        ],
        [
         1005,
         5,
         105,
         5,
         "2024-03-01"
        ],
        [
         1006,
         6,
         106,
         2,
         "2024-03-15"
        ],
        [
         1007,
         7,
         101,
         1,
         "2024-03-20"
        ]
       ],
       "datasetInfos": [],
       "dbfsResultPath": null,
       "isJsonSchema": true,
       "metadata": {},
       "overflow": false,
       "plotOptions": {
        "customPlotOptions": {},
        "displayType": "table",
        "pivotAggregation": null,
        "pivotColumns": null,
        "xColumns": null,
        "yColumns": null
       },
       "removedWidgets": [],
       "schema": [
        {
         "metadata": "{}",
         "name": "order_id",
         "type": "\"integer\""
        },
        {
         "metadata": "{}",
         "name": "customer_id",
         "type": "\"integer\""
        },
        {
         "metadata": "{}",
         "name": "product_id",
         "type": "\"integer\""
        },
        {
         "metadata": "{}",
         "name": "quantity",
         "type": "\"integer\""
        },
        {
         "metadata": "{\"__detected_date_formats\": \"yyyy-M-d\"}",
         "name": "order_date",
         "type": "\"date\""
        }
       ],
       "type": "table"
      }
     },
     "output_type": "display_data"
    }
   ],
   "source": [
    "# Read CSV files into DataFrames\n",
    "customers_df = spark.read.csv(\"/FileStore/tables/customers.csv\", header=True, inferSchema=True)\n",
    "products_df = spark.read.csv(\"/FileStore/tables/products.csv\", header=True, inferSchema=True)\n",
    "orders_df = spark.read.csv(\"/FileStore/tables/orders.csv\", header=True, inferSchema=True)\n",
    "\n",
    "# Display all three DataFrames\n",
    "display(customers_df)\n",
    "display(products_df)\n",
    "display(orders_df)\n"
   ]
  },
  {
   "cell_type": "code",
   "execution_count": 0,
   "metadata": {
    "application/vnd.databricks.v1+cell": {
     "cellMetadata": {
      "byteLimit": 2048000,
      "rowLimit": 10000
     },
     "inputWidgets": {},
     "nuid": "76eb7595-a9a3-4c39-8434-c9de7749ab0e",
     "showTitle": false,
     "tableResultSettingsMap": {},
     "title": ""
    }
   },
   "outputs": [
    {
     "output_type": "display_data",
     "data": {
      "text/html": [
       "<style scoped>\n",
       "  .table-result-container {\n",
       "    max-height: 300px;\n",
       "    overflow: auto;\n",
       "  }\n",
       "  table, th, td {\n",
       "    border: 1px solid black;\n",
       "    border-collapse: collapse;\n",
       "  }\n",
       "  th, td {\n",
       "    padding: 5px;\n",
       "  }\n",
       "  th {\n",
       "    text-align: left;\n",
       "  }\n",
       "</style><div class='table-result-container'><table class='table-result'><thead style='background-color: white'><tr><th>order_id</th><th>customer_id</th><th>product_id</th><th>product_name</th><th>quantity</th><th>price</th><th>total_price</th><th>order_date</th><th>order_month</th></tr></thead><tbody><tr><td>1001</td><td>1</td><td>101</td><td>Laptop</td><td>1</td><td>55000</td><td>55000</td><td>2024-01-10</td><td>1</td></tr><tr><td>1002</td><td>2</td><td>102</td><td>Mobile</td><td>2</td><td>25000</td><td>50000</td><td>2024-01-12</td><td>1</td></tr><tr><td>1003</td><td>1</td><td>103</td><td>Headphones</td><td>3</td><td>3000</td><td>9000</td><td>2024-02-05</td><td>2</td></tr><tr><td>1004</td><td>3</td><td>104</td><td>Chair</td><td>1</td><td>5000</td><td>5000</td><td>2024-02-08</td><td>2</td></tr><tr><td>1005</td><td>5</td><td>105</td><td>Book</td><td>5</td><td>700</td><td>3500</td><td>2024-03-01</td><td>3</td></tr><tr><td>1006</td><td>6</td><td>106</td><td>Shoes</td><td>2</td><td>2500</td><td>5000</td><td>2024-03-15</td><td>3</td></tr><tr><td>1007</td><td>7</td><td>101</td><td>Laptop</td><td>1</td><td>55000</td><td>55000</td><td>2024-03-20</td><td>3</td></tr></tbody></table></div>"
      ]
     },
     "metadata": {
      "application/vnd.databricks.v1+output": {
       "addedWidgets": {},
       "aggData": [],
       "aggError": "",
       "aggOverflow": false,
       "aggSchema": [],
       "aggSeriesLimitReached": false,
       "aggType": "",
       "arguments": {},
       "columnCustomDisplayInfos": {},
       "data": [
        [
         1001,
         1,
         101,
         "Laptop",
         1,
         55000,
         55000,
         "2024-01-10",
         1
        ],
        [
         1002,
         2,
         102,
         "Mobile",
         2,
         25000,
         50000,
         "2024-01-12",
         1
        ],
        [
         1003,
         1,
         103,
         "Headphones",
         3,
         3000,
         9000,
         "2024-02-05",
         2
        ],
        [
         1004,
         3,
         104,
         "Chair",
         1,
         5000,
         5000,
         "2024-02-08",
         2
        ],
        [
         1005,
         5,
         105,
         "Book",
         5,
         700,
         3500,
         "2024-03-01",
         3
        ],
        [
         1006,
         6,
         106,
         "Shoes",
         2,
         2500,
         5000,
         "2024-03-15",
         3
        ],
        [
         1007,
         7,
         101,
         "Laptop",
         1,
         55000,
         55000,
         "2024-03-20",
         3
        ]
       ],
       "datasetInfos": [],
       "dbfsResultPath": null,
       "isJsonSchema": true,
       "metadata": {},
       "overflow": false,
       "plotOptions": {
        "customPlotOptions": {},
        "displayType": "table",
        "pivotAggregation": null,
        "pivotColumns": null,
        "xColumns": null,
        "yColumns": null
       },
       "removedWidgets": [],
       "schema": [
        {
         "metadata": "{}",
         "name": "order_id",
         "type": "\"integer\""
        },
        {
         "metadata": "{}",
         "name": "customer_id",
         "type": "\"integer\""
        },
        {
         "metadata": "{}",
         "name": "product_id",
         "type": "\"integer\""
        },
        {
         "metadata": "{}",
         "name": "product_name",
         "type": "\"string\""
        },
        {
         "metadata": "{}",
         "name": "quantity",
         "type": "\"integer\""
        },
        {
         "metadata": "{}",
         "name": "price",
         "type": "\"integer\""
        },
        {
         "metadata": "{}",
         "name": "total_price",
         "type": "\"integer\""
        },
        {
         "metadata": "{}",
         "name": "order_date",
         "type": "\"date\""
        },
        {
         "metadata": "{}",
         "name": "order_month",
         "type": "\"integer\""
        }
       ],
       "type": "table"
      }
     },
     "output_type": "display_data"
    }
   ],
   "source": [
    "# Add total_price column and extract month from order_date\n",
    "from pyspark.sql.functions import col, month, to_date\n",
    "\n",
    "# Join orders and products to access price\n",
    "joined_df = orders_df.join(products_df, on=\"product_id\", how=\"left\")\n",
    "\n",
    "# Add new columns: total_price and order_month\n",
    "orders_total_df = joined_df.withColumn(\"total_price\", col(\"quantity\") * col(\"price\")) \\\n",
    "                           .withColumn(\"order_date\", to_date(col(\"order_date\"), \"yyyy-MM-dd\")) \\\n",
    "                           .withColumn(\"order_month\", month(col(\"order_date\")))\n",
    "\n",
    "# Display the updated DataFrame\n",
    "display(orders_total_df.select(\"order_id\",\"customer_id\",\"product_id\",\"product_name\",\"quantity\",\"price\",\"total_price\",\"order_date\",\"order_month\"))\n"
   ]
  },
  {
   "cell_type": "code",
   "execution_count": 0,
   "metadata": {
    "application/vnd.databricks.v1+cell": {
     "cellMetadata": {
      "byteLimit": 2048000,
      "rowLimit": 10000
     },
     "inputWidgets": {},
     "nuid": "7b3902a1-90c6-4a27-9773-021dd0d75b0d",
     "showTitle": false,
     "tableResultSettingsMap": {},
     "title": ""
    }
   },
   "outputs": [
    {
     "output_type": "display_data",
     "data": {
      "text/html": [
       "<style scoped>\n",
       "  .table-result-container {\n",
       "    max-height: 300px;\n",
       "    overflow: auto;\n",
       "  }\n",
       "  table, th, td {\n",
       "    border: 1px solid black;\n",
       "    border-collapse: collapse;\n",
       "  }\n",
       "  th, td {\n",
       "    padding: 5px;\n",
       "  }\n",
       "  th {\n",
       "    text-align: left;\n",
       "  }\n",
       "</style><div class='table-result-container'><table class='table-result'><thead style='background-color: white'><tr><th>product_id</th><th>order_id</th><th>customer_id</th><th>quantity</th><th>order_date</th><th>product_name</th><th>category</th><th>price</th><th>total_price</th><th>order_month</th></tr></thead><tbody><tr><td>101</td><td>1001</td><td>1</td><td>1</td><td>2024-01-10</td><td>Laptop</td><td>Electronics</td><td>55000</td><td>55000</td><td>1</td></tr><tr><td>101</td><td>1007</td><td>7</td><td>1</td><td>2024-03-20</td><td>Laptop</td><td>Electronics</td><td>55000</td><td>55000</td><td>3</td></tr><tr><td>102</td><td>1002</td><td>2</td><td>2</td><td>2024-01-12</td><td>Mobile</td><td>Electronics</td><td>25000</td><td>50000</td><td>1</td></tr></tbody></table></div>"
      ]
     },
     "metadata": {
      "application/vnd.databricks.v1+output": {
       "addedWidgets": {},
       "aggData": [],
       "aggError": "",
       "aggOverflow": false,
       "aggSchema": [],
       "aggSeriesLimitReached": false,
       "aggType": "",
       "arguments": {},
       "columnCustomDisplayInfos": {},
       "data": [
        [
         101,
         1001,
         1,
         1,
         "2024-01-10",
         "Laptop",
         "Electronics",
         55000,
         55000,
         1
        ],
        [
         101,
         1007,
         7,
         1,
         "2024-03-20",
         "Laptop",
         "Electronics",
         55000,
         55000,
         3
        ],
        [
         102,
         1002,
         2,
         2,
         "2024-01-12",
         "Mobile",
         "Electronics",
         25000,
         50000,
         1
        ]
       ],
       "datasetInfos": [],
       "dbfsResultPath": null,
       "isJsonSchema": true,
       "metadata": {},
       "overflow": false,
       "plotOptions": {
        "customPlotOptions": {},
        "displayType": "table",
        "pivotAggregation": null,
        "pivotColumns": null,
        "xColumns": null,
        "yColumns": null
       },
       "removedWidgets": [],
       "schema": [
        {
         "metadata": "{}",
         "name": "product_id",
         "type": "\"integer\""
        },
        {
         "metadata": "{}",
         "name": "order_id",
         "type": "\"integer\""
        },
        {
         "metadata": "{}",
         "name": "customer_id",
         "type": "\"integer\""
        },
        {
         "metadata": "{}",
         "name": "quantity",
         "type": "\"integer\""
        },
        {
         "metadata": "{}",
         "name": "order_date",
         "type": "\"date\""
        },
        {
         "metadata": "{}",
         "name": "product_name",
         "type": "\"string\""
        },
        {
         "metadata": "{}",
         "name": "category",
         "type": "\"string\""
        },
        {
         "metadata": "{}",
         "name": "price",
         "type": "\"integer\""
        },
        {
         "metadata": "{}",
         "name": "total_price",
         "type": "\"integer\""
        },
        {
         "metadata": "{}",
         "name": "order_month",
         "type": "\"integer\""
        }
       ],
       "type": "table"
      }
     },
     "output_type": "display_data"
    }
   ],
   "source": [
    "# Filter orders above 40,000 and sort descending\n",
    "high_value_orders = orders_total_df.filter(col(\"total_price\") > 40000).orderBy(col(\"total_price\").desc())\n",
    "display(high_value_orders)\n"
   ]
  },
  {
   "cell_type": "code",
   "execution_count": 0,
   "metadata": {
    "application/vnd.databricks.v1+cell": {
     "cellMetadata": {
      "byteLimit": 2048000,
      "rowLimit": 10000
     },
     "inputWidgets": {},
     "nuid": "6d686c87-c64c-4752-93dc-ad03f8bd4449",
     "showTitle": false,
     "tableResultSettingsMap": {},
     "title": ""
    }
   },
   "outputs": [
    {
     "output_type": "display_data",
     "data": {
      "text/html": [
       "<style scoped>\n",
       "  .table-result-container {\n",
       "    max-height: 300px;\n",
       "    overflow: auto;\n",
       "  }\n",
       "  table, th, td {\n",
       "    border: 1px solid black;\n",
       "    border-collapse: collapse;\n",
       "  }\n",
       "  th, td {\n",
       "    padding: 5px;\n",
       "  }\n",
       "  th {\n",
       "    text-align: left;\n",
       "  }\n",
       "</style><div class='table-result-container'><table class='table-result'><thead style='background-color: white'><tr><th>city</th><th>total_revenue</th></tr></thead><tbody><tr><td>null</td><td>55000</td></tr><tr><td>Bangalore</td><td>64000</td></tr><tr><td>Delhi</td><td>55000</td></tr><tr><td>Mumbai</td><td>3500</td></tr><tr><td>Hyderabad</td><td>5000</td></tr></tbody></table></div>"
      ]
     },
     "metadata": {
      "application/vnd.databricks.v1+output": {
       "addedWidgets": {},
       "aggData": [],
       "aggError": "",
       "aggOverflow": false,
       "aggSchema": [],
       "aggSeriesLimitReached": false,
       "aggType": "",
       "arguments": {},
       "columnCustomDisplayInfos": {},
       "data": [
        [
         null,
         55000
        ],
        [
         "Bangalore",
         64000
        ],
        [
         "Delhi",
         55000
        ],
        [
         "Mumbai",
         3500
        ],
        [
         "Hyderabad",
         5000
        ]
       ],
       "datasetInfos": [],
       "dbfsResultPath": null,
       "isJsonSchema": true,
       "metadata": {},
       "overflow": false,
       "plotOptions": {
        "customPlotOptions": {},
        "displayType": "table",
        "pivotAggregation": null,
        "pivotColumns": null,
        "xColumns": null,
        "yColumns": null
       },
       "removedWidgets": [],
       "schema": [
        {
         "metadata": "{}",
         "name": "city",
         "type": "\"string\""
        },
        {
         "metadata": "{}",
         "name": "total_revenue",
         "type": "\"long\""
        }
       ],
       "type": "table"
      }
     },
     "output_type": "display_data"
    },
    {
     "output_type": "display_data",
     "data": {
      "text/html": [
       "<style scoped>\n",
       "  .table-result-container {\n",
       "    max-height: 300px;\n",
       "    overflow: auto;\n",
       "  }\n",
       "  table, th, td {\n",
       "    border: 1px solid black;\n",
       "    border-collapse: collapse;\n",
       "  }\n",
       "  th, td {\n",
       "    padding: 5px;\n",
       "  }\n",
       "  th {\n",
       "    text-align: left;\n",
       "  }\n",
       "</style><div class='table-result-container'><table class='table-result'><thead style='background-color: white'><tr><th>city</th><th>avg_age</th></tr></thead><tbody><tr><td>Bangalore</td><td>28.0</td></tr><tr><td>Chennai</td><td>35.0</td></tr><tr><td>Delhi</td><td>30.5</td></tr><tr><td>Mumbai</td><td>30.0</td></tr><tr><td>Hyderabad</td><td>25.0</td></tr></tbody></table></div>"
      ]
     },
     "metadata": {
      "application/vnd.databricks.v1+output": {
       "addedWidgets": {},
       "aggData": [],
       "aggError": "",
       "aggOverflow": false,
       "aggSchema": [],
       "aggSeriesLimitReached": false,
       "aggType": "",
       "arguments": {},
       "columnCustomDisplayInfos": {},
       "data": [
        [
         "Bangalore",
         28.0
        ],
        [
         "Chennai",
         35.0
        ],
        [
         "Delhi",
         30.5
        ],
        [
         "Mumbai",
         30.0
        ],
        [
         "Hyderabad",
         25.0
        ]
       ],
       "datasetInfos": [],
       "dbfsResultPath": null,
       "isJsonSchema": true,
       "metadata": {},
       "overflow": false,
       "plotOptions": {
        "customPlotOptions": {},
        "displayType": "table",
        "pivotAggregation": null,
        "pivotColumns": null,
        "xColumns": null,
        "yColumns": null
       },
       "removedWidgets": [],
       "schema": [
        {
         "metadata": "{}",
         "name": "city",
         "type": "\"string\""
        },
        {
         "metadata": "{}",
         "name": "avg_age",
         "type": "\"double\""
        }
       ],
       "type": "table"
      }
     },
     "output_type": "display_data"
    },
    {
     "output_type": "display_data",
     "data": {
      "text/html": [
       "<style scoped>\n",
       "  .table-result-container {\n",
       "    max-height: 300px;\n",
       "    overflow: auto;\n",
       "  }\n",
       "  table, th, td {\n",
       "    border: 1px solid black;\n",
       "    border-collapse: collapse;\n",
       "  }\n",
       "  th, td {\n",
       "    padding: 5px;\n",
       "  }\n",
       "  th {\n",
       "    text-align: left;\n",
       "  }\n",
       "</style><div class='table-result-container'><table class='table-result'><thead style='background-color: white'><tr><th>category</th><th>total_revenue</th></tr></thead><tbody><tr><td>Electronics</td><td>169000</td></tr><tr><td>Furniture</td><td>5000</td></tr><tr><td>Stationery</td><td>3500</td></tr><tr><td>Fashion</td><td>5000</td></tr></tbody></table></div>"
      ]
     },
     "metadata": {
      "application/vnd.databricks.v1+output": {
       "addedWidgets": {},
       "aggData": [],
       "aggError": "",
       "aggOverflow": false,
       "aggSchema": [],
       "aggSeriesLimitReached": false,
       "aggType": "",
       "arguments": {},
       "columnCustomDisplayInfos": {},
       "data": [
        [
         "Electronics",
         169000
        ],
        [
         "Furniture",
         5000
        ],
        [
         "Stationery",
         3500
        ],
        [
         "Fashion",
         5000
        ]
       ],
       "datasetInfos": [],
       "dbfsResultPath": null,
       "isJsonSchema": true,
       "metadata": {},
       "overflow": false,
       "plotOptions": {
        "customPlotOptions": {},
        "displayType": "table",
        "pivotAggregation": null,
        "pivotColumns": null,
        "xColumns": null,
        "yColumns": null
       },
       "removedWidgets": [],
       "schema": [
        {
         "metadata": "{}",
         "name": "category",
         "type": "\"string\""
        },
        {
         "metadata": "{}",
         "name": "total_revenue",
         "type": "\"long\""
        }
       ],
       "type": "table"
      }
     },
     "output_type": "display_data"
    },
    {
     "output_type": "display_data",
     "data": {
      "text/html": [
       "<style scoped>\n",
       "  .table-result-container {\n",
       "    max-height: 300px;\n",
       "    overflow: auto;\n",
       "  }\n",
       "  table, th, td {\n",
       "    border: 1px solid black;\n",
       "    border-collapse: collapse;\n",
       "  }\n",
       "  th, td {\n",
       "    padding: 5px;\n",
       "  }\n",
       "  th {\n",
       "    text-align: left;\n",
       "  }\n",
       "</style><div class='table-result-container'><table class='table-result'><thead style='background-color: white'><tr><th>customer_id</th><th>name</th><th>total_spent</th></tr></thead><tbody><tr><td>1</td><td>Rahul Sharma</td><td>64000</td></tr><tr><td>7</td><td>null</td><td>55000</td></tr><tr><td>2</td><td>Priya Singh</td><td>50000</td></tr></tbody></table></div>"
      ]
     },
     "metadata": {
      "application/vnd.databricks.v1+output": {
       "addedWidgets": {},
       "aggData": [],
       "aggError": "",
       "aggOverflow": false,
       "aggSchema": [],
       "aggSeriesLimitReached": false,
       "aggType": "",
       "arguments": {},
       "columnCustomDisplayInfos": {},
       "data": [
        [
         1,
         "Rahul Sharma",
         64000
        ],
        [
         7,
         null,
         55000
        ],
        [
         2,
         "Priya Singh",
         50000
        ]
       ],
       "datasetInfos": [],
       "dbfsResultPath": null,
       "isJsonSchema": true,
       "metadata": {},
       "overflow": false,
       "plotOptions": {
        "customPlotOptions": {},
        "displayType": "table",
        "pivotAggregation": null,
        "pivotColumns": null,
        "xColumns": null,
        "yColumns": null
       },
       "removedWidgets": [],
       "schema": [
        {
         "metadata": "{}",
         "name": "customer_id",
         "type": "\"integer\""
        },
        {
         "metadata": "{}",
         "name": "name",
         "type": "\"string\""
        },
        {
         "metadata": "{}",
         "name": "total_spent",
         "type": "\"long\""
        }
       ],
       "type": "table"
      }
     },
     "output_type": "display_data"
    }
   ],
   "source": [
    "# Aggregations\n",
    "\n",
    "# Join orders with customers to include city info\n",
    "orders_products = orders_total_df\n",
    "orders_with_customers = orders_products.join(customers_df, on=\"customer_id\", how=\"left\")\n",
    "\n",
    "# Total revenue per city\n",
    "revenue_per_city = orders_with_customers.groupBy(\"city\").sum(\"total_price\").withColumnRenamed(\"sum(total_price)\", \"total_revenue\")\n",
    "display(revenue_per_city)\n",
    "\n",
    "# Average age of customers per city\n",
    "avg_age_per_city = customers_df.groupBy(\"city\").avg(\"age\").withColumnRenamed(\"avg(age)\", \"avg_age\")\n",
    "display(avg_age_per_city)\n",
    "\n",
    "# Total revenue per category\n",
    "revenue_per_category = orders_products.groupBy(\"category\").sum(\"total_price\").withColumnRenamed(\"sum(total_price)\", \"total_revenue\")\n",
    "display(revenue_per_category)\n",
    "\n",
    "# Top 3 customers by total spending\n",
    "spending_per_customer = orders_with_customers.groupBy(\"customer_id\",\"name\").sum(\"total_price\") \\\n",
    "                      .withColumnRenamed(\"sum(total_price)\",\"total_spent\") \\\n",
    "                      .orderBy(col(\"total_spent\").desc())\n",
    "display(spending_per_customer.limit(3))\n"
   ]
  },
  {
   "cell_type": "code",
   "execution_count": 0,
   "metadata": {
    "application/vnd.databricks.v1+cell": {
     "cellMetadata": {
      "byteLimit": 2048000,
      "rowLimit": 10000
     },
     "inputWidgets": {},
     "nuid": "94a9f99f-b356-4dd4-b2fd-b288266f8ed9",
     "showTitle": false,
     "tableResultSettingsMap": {},
     "title": ""
    }
   },
   "outputs": [
    {
     "output_type": "display_data",
     "data": {
      "text/html": [
       "<style scoped>\n",
       "  .table-result-container {\n",
       "    max-height: 300px;\n",
       "    overflow: auto;\n",
       "  }\n",
       "  table, th, td {\n",
       "    border: 1px solid black;\n",
       "    border-collapse: collapse;\n",
       "  }\n",
       "  th, td {\n",
       "    padding: 5px;\n",
       "  }\n",
       "  th {\n",
       "    text-align: left;\n",
       "  }\n",
       "</style><div class='table-result-container'><table class='table-result'><thead style='background-color: white'><tr><th>customer_id</th><th>order_id</th><th>product_id</th><th>quantity</th><th>order_date</th><th>name</th><th>city</th><th>age</th></tr></thead><tbody><tr><td>1</td><td>1001</td><td>101</td><td>1</td><td>2024-01-10</td><td>Rahul Sharma</td><td>Bangalore</td><td>28</td></tr><tr><td>2</td><td>1002</td><td>102</td><td>2</td><td>2024-01-12</td><td>Priya Singh</td><td>Delhi</td><td>32</td></tr><tr><td>1</td><td>1003</td><td>103</td><td>3</td><td>2024-02-05</td><td>Rahul Sharma</td><td>Bangalore</td><td>28</td></tr><tr><td>3</td><td>1004</td><td>104</td><td>1</td><td>2024-02-08</td><td>Aman Kumar</td><td>Hyderabad</td><td>25</td></tr><tr><td>5</td><td>1005</td><td>105</td><td>5</td><td>2024-03-01</td><td>Arjun Mehta</td><td>Mumbai</td><td>30</td></tr><tr><td>6</td><td>1006</td><td>106</td><td>2</td><td>2024-03-15</td><td>Divya Nair</td><td>Delhi</td><td>29</td></tr></tbody></table></div>"
      ]
     },
     "metadata": {
      "application/vnd.databricks.v1+output": {
       "addedWidgets": {},
       "aggData": [],
       "aggError": "",
       "aggOverflow": false,
       "aggSchema": [],
       "aggSeriesLimitReached": false,
       "aggType": "",
       "arguments": {},
       "columnCustomDisplayInfos": {},
       "data": [
        [
         1,
         1001,
         101,
         1,
         "2024-01-10",
         "Rahul Sharma",
         "Bangalore",
         28
        ],
        [
         2,
         1002,
         102,
         2,
         "2024-01-12",
         "Priya Singh",
         "Delhi",
         32
        ],
        [
         1,
         1003,
         103,
         3,
         "2024-02-05",
         "Rahul Sharma",
         "Bangalore",
         28
        ],
        [
         3,
         1004,
         104,
         1,
         "2024-02-08",
         "Aman Kumar",
         "Hyderabad",
         25
        ],
        [
         5,
         1005,
         105,
         5,
         "2024-03-01",
         "Arjun Mehta",
         "Mumbai",
         30
        ],
        [
         6,
         1006,
         106,
         2,
         "2024-03-15",
         "Divya Nair",
         "Delhi",
         29
        ]
       ],
       "datasetInfos": [],
       "dbfsResultPath": null,
       "isJsonSchema": true,
       "metadata": {},
       "overflow": false,
       "plotOptions": {
        "customPlotOptions": {},
        "displayType": "table",
        "pivotAggregation": null,
        "pivotColumns": null,
        "xColumns": null,
        "yColumns": null
       },
       "removedWidgets": [],
       "schema": [
        {
         "metadata": "{}",
         "name": "customer_id",
         "type": "\"integer\""
        },
        {
         "metadata": "{}",
         "name": "order_id",
         "type": "\"integer\""
        },
        {
         "metadata": "{}",
         "name": "product_id",
         "type": "\"integer\""
        },
        {
         "metadata": "{}",
         "name": "quantity",
         "type": "\"integer\""
        },
        {
         "metadata": "{\"__detected_date_formats\": \"yyyy-M-d\"}",
         "name": "order_date",
         "type": "\"date\""
        },
        {
         "metadata": "{}",
         "name": "name",
         "type": "\"string\""
        },
        {
         "metadata": "{}",
         "name": "city",
         "type": "\"string\""
        },
        {
         "metadata": "{}",
         "name": "age",
         "type": "\"integer\""
        }
       ],
       "type": "table"
      }
     },
     "output_type": "display_data"
    },
    {
     "output_type": "display_data",
     "data": {
      "text/html": [
       "<style scoped>\n",
       "  .table-result-container {\n",
       "    max-height: 300px;\n",
       "    overflow: auto;\n",
       "  }\n",
       "  table, th, td {\n",
       "    border: 1px solid black;\n",
       "    border-collapse: collapse;\n",
       "  }\n",
       "  th, td {\n",
       "    padding: 5px;\n",
       "  }\n",
       "  th {\n",
       "    text-align: left;\n",
       "  }\n",
       "</style><div class='table-result-container'><table class='table-result'><thead style='background-color: white'><tr><th>customer_id</th><th>name</th><th>city</th><th>age</th><th>order_id</th><th>product_id</th><th>quantity</th><th>order_date</th></tr></thead><tbody><tr><td>1</td><td>Rahul Sharma</td><td>Bangalore</td><td>28</td><td>1003</td><td>103</td><td>3</td><td>2024-02-05</td></tr><tr><td>4</td><td>Sneha Reddy</td><td>Chennai</td><td>35</td><td>null</td><td>null</td><td>null</td><td>null</td></tr><tr><td>6</td><td>Divya Nair</td><td>Delhi</td><td>29</td><td>1006</td><td>106</td><td>2</td><td>2024-03-15</td></tr><tr><td>3</td><td>Aman Kumar</td><td>Hyderabad</td><td>25</td><td>1004</td><td>104</td><td>1</td><td>2024-02-08</td></tr><tr><td>2</td><td>Priya Singh</td><td>Delhi</td><td>32</td><td>1002</td><td>102</td><td>2</td><td>2024-01-12</td></tr><tr><td>5</td><td>Arjun Mehta</td><td>Mumbai</td><td>30</td><td>1005</td><td>105</td><td>5</td><td>2024-03-01</td></tr><tr><td>1</td><td>Rahul Sharma</td><td>Bangalore</td><td>28</td><td>1001</td><td>101</td><td>1</td><td>2024-01-10</td></tr></tbody></table></div>"
      ]
     },
     "metadata": {
      "application/vnd.databricks.v1+output": {
       "addedWidgets": {},
       "aggData": [],
       "aggError": "",
       "aggOverflow": false,
       "aggSchema": [],
       "aggSeriesLimitReached": false,
       "aggType": "",
       "arguments": {},
       "columnCustomDisplayInfos": {},
       "data": [
        [
         1,
         "Rahul Sharma",
         "Bangalore",
         28,
         1003,
         103,
         3,
         "2024-02-05"
        ],
        [
         4,
         "Sneha Reddy",
         "Chennai",
         35,
         null,
         null,
         null,
         null
        ],
        [
         6,
         "Divya Nair",
         "Delhi",
         29,
         1006,
         106,
         2,
         "2024-03-15"
        ],
        [
         3,
         "Aman Kumar",
         "Hyderabad",
         25,
         1004,
         104,
         1,
         "2024-02-08"
        ],
        [
         2,
         "Priya Singh",
         "Delhi",
         32,
         1002,
         102,
         2,
         "2024-01-12"
        ],
        [
         5,
         "Arjun Mehta",
         "Mumbai",
         30,
         1005,
         105,
         5,
         "2024-03-01"
        ],
        [
         1,
         "Rahul Sharma",
         "Bangalore",
         28,
         1001,
         101,
         1,
         "2024-01-10"
        ]
       ],
       "datasetInfos": [],
       "dbfsResultPath": null,
       "isJsonSchema": true,
       "metadata": {},
       "overflow": false,
       "plotOptions": {
        "customPlotOptions": {},
        "displayType": "table",
        "pivotAggregation": null,
        "pivotColumns": null,
        "xColumns": null,
        "yColumns": null
       },
       "removedWidgets": [],
       "schema": [
        {
         "metadata": "{}",
         "name": "customer_id",
         "type": "\"integer\""
        },
        {
         "metadata": "{}",
         "name": "name",
         "type": "\"string\""
        },
        {
         "metadata": "{}",
         "name": "city",
         "type": "\"string\""
        },
        {
         "metadata": "{}",
         "name": "age",
         "type": "\"integer\""
        },
        {
         "metadata": "{}",
         "name": "order_id",
         "type": "\"integer\""
        },
        {
         "metadata": "{}",
         "name": "product_id",
         "type": "\"integer\""
        },
        {
         "metadata": "{}",
         "name": "quantity",
         "type": "\"integer\""
        },
        {
         "metadata": "{\"__detected_date_formats\": \"yyyy-M-d\"}",
         "name": "order_date",
         "type": "\"date\""
        }
       ],
       "type": "table"
      }
     },
     "output_type": "display_data"
    },
    {
     "output_type": "display_data",
     "data": {
      "text/html": [
       "<style scoped>\n",
       "  .table-result-container {\n",
       "    max-height: 300px;\n",
       "    overflow: auto;\n",
       "  }\n",
       "  table, th, td {\n",
       "    border: 1px solid black;\n",
       "    border-collapse: collapse;\n",
       "  }\n",
       "  th, td {\n",
       "    padding: 5px;\n",
       "  }\n",
       "  th {\n",
       "    text-align: left;\n",
       "  }\n",
       "</style><div class='table-result-container'><table class='table-result'><thead style='background-color: white'><tr><th>product_id</th><th>order_id</th><th>customer_id</th><th>quantity</th><th>order_date</th><th>product_name</th><th>category</th><th>price</th></tr></thead><tbody><tr><td>102</td><td>1002</td><td>2</td><td>2</td><td>2024-01-12</td><td>Mobile</td><td>Electronics</td><td>25000</td></tr><tr><td>101</td><td>1007</td><td>7</td><td>1</td><td>2024-03-20</td><td>Laptop</td><td>Electronics</td><td>55000</td></tr><tr><td>104</td><td>1004</td><td>3</td><td>1</td><td>2024-02-08</td><td>Chair</td><td>Furniture</td><td>5000</td></tr><tr><td>103</td><td>1003</td><td>1</td><td>3</td><td>2024-02-05</td><td>Headphones</td><td>Electronics</td><td>3000</td></tr><tr><td>105</td><td>1005</td><td>5</td><td>5</td><td>2024-03-01</td><td>Book</td><td>Stationery</td><td>700</td></tr><tr><td>106</td><td>1006</td><td>6</td><td>2</td><td>2024-03-15</td><td>Shoes</td><td>Fashion</td><td>2500</td></tr><tr><td>101</td><td>1001</td><td>1</td><td>1</td><td>2024-01-10</td><td>Laptop</td><td>Electronics</td><td>55000</td></tr></tbody></table></div>"
      ]
     },
     "metadata": {
      "application/vnd.databricks.v1+output": {
       "addedWidgets": {},
       "aggData": [],
       "aggError": "",
       "aggOverflow": false,
       "aggSchema": [],
       "aggSeriesLimitReached": false,
       "aggType": "",
       "arguments": {},
       "columnCustomDisplayInfos": {},
       "data": [
        [
         102,
         1002,
         2,
         2,
         "2024-01-12",
         "Mobile",
         "Electronics",
         25000
        ],
        [
         101,
         1007,
         7,
         1,
         "2024-03-20",
         "Laptop",
         "Electronics",
         55000
        ],
        [
         104,
         1004,
         3,
         1,
         "2024-02-08",
         "Chair",
         "Furniture",
         5000
        ],
        [
         103,
         1003,
         1,
         3,
         "2024-02-05",
         "Headphones",
         "Electronics",
         3000
        ],
        [
         105,
         1005,
         5,
         5,
         "2024-03-01",
         "Book",
         "Stationery",
         700
        ],
        [
         106,
         1006,
         6,
         2,
         "2024-03-15",
         "Shoes",
         "Fashion",
         2500
        ],
        [
         101,
         1001,
         1,
         1,
         "2024-01-10",
         "Laptop",
         "Electronics",
         55000
        ]
       ],
       "datasetInfos": [],
       "dbfsResultPath": null,
       "isJsonSchema": true,
       "metadata": {},
       "overflow": false,
       "plotOptions": {
        "customPlotOptions": {},
        "displayType": "table",
        "pivotAggregation": null,
        "pivotColumns": null,
        "xColumns": null,
        "yColumns": null
       },
       "removedWidgets": [],
       "schema": [
        {
         "metadata": "{}",
         "name": "product_id",
         "type": "\"integer\""
        },
        {
         "metadata": "{}",
         "name": "order_id",
         "type": "\"integer\""
        },
        {
         "metadata": "{}",
         "name": "customer_id",
         "type": "\"integer\""
        },
        {
         "metadata": "{}",
         "name": "quantity",
         "type": "\"integer\""
        },
        {
         "metadata": "{\"__detected_date_formats\": \"yyyy-M-d\"}",
         "name": "order_date",
         "type": "\"date\""
        },
        {
         "metadata": "{}",
         "name": "product_name",
         "type": "\"string\""
        },
        {
         "metadata": "{}",
         "name": "category",
         "type": "\"string\""
        },
        {
         "metadata": "{}",
         "name": "price",
         "type": "\"integer\""
        }
       ],
       "type": "table"
      }
     },
     "output_type": "display_data"
    },
    {
     "output_type": "display_data",
     "data": {
      "text/html": [
       "<style scoped>\n",
       "  .table-result-container {\n",
       "    max-height: 300px;\n",
       "    overflow: auto;\n",
       "  }\n",
       "  table, th, td {\n",
       "    border: 1px solid black;\n",
       "    border-collapse: collapse;\n",
       "  }\n",
       "  th, td {\n",
       "    padding: 5px;\n",
       "  }\n",
       "  th {\n",
       "    text-align: left;\n",
       "  }\n",
       "</style><div class='table-result-container'><table class='table-result'><thead style='background-color: white'><tr><th>customer_id</th><th>name</th><th>city</th><th>age</th></tr></thead><tbody><tr><td>4</td><td>Sneha Reddy</td><td>Chennai</td><td>35</td></tr></tbody></table></div>"
      ]
     },
     "metadata": {
      "application/vnd.databricks.v1+output": {
       "addedWidgets": {},
       "aggData": [],
       "aggError": "",
       "aggOverflow": false,
       "aggSchema": [],
       "aggSeriesLimitReached": false,
       "aggType": "",
       "arguments": {},
       "columnCustomDisplayInfos": {},
       "data": [
        [
         4,
         "Sneha Reddy",
         "Chennai",
         35
        ]
       ],
       "datasetInfos": [],
       "dbfsResultPath": null,
       "isJsonSchema": true,
       "metadata": {},
       "overflow": false,
       "plotOptions": {
        "customPlotOptions": {},
        "displayType": "table",
        "pivotAggregation": null,
        "pivotColumns": null,
        "xColumns": null,
        "yColumns": null
       },
       "removedWidgets": [],
       "schema": [
        {
         "metadata": "{}",
         "name": "customer_id",
         "type": "\"integer\""
        },
        {
         "metadata": "{}",
         "name": "name",
         "type": "\"string\""
        },
        {
         "metadata": "{}",
         "name": "city",
         "type": "\"string\""
        },
        {
         "metadata": "{}",
         "name": "age",
         "type": "\"integer\""
        }
       ],
       "type": "table"
      }
     },
     "output_type": "display_data"
    },
    {
     "output_type": "display_data",
     "data": {
      "text/html": [
       "<style scoped>\n",
       "  .table-result-container {\n",
       "    max-height: 300px;\n",
       "    overflow: auto;\n",
       "  }\n",
       "  table, th, td {\n",
       "    border: 1px solid black;\n",
       "    border-collapse: collapse;\n",
       "  }\n",
       "  th, td {\n",
       "    padding: 5px;\n",
       "  }\n",
       "  th {\n",
       "    text-align: left;\n",
       "  }\n",
       "</style><div class='table-result-container'><table class='table-result'><thead style='background-color: white'><tr><th>product_id</th><th>product_name</th><th>category</th><th>price</th></tr></thead><tbody></tbody></table></div>"
      ]
     },
     "metadata": {
      "application/vnd.databricks.v1+output": {
       "addedWidgets": {},
       "aggData": [],
       "aggError": "",
       "aggOverflow": false,
       "aggSchema": [],
       "aggSeriesLimitReached": false,
       "aggType": "",
       "arguments": {},
       "columnCustomDisplayInfos": {},
       "data": [],
       "datasetInfos": [],
       "dbfsResultPath": null,
       "isJsonSchema": true,
       "metadata": {},
       "overflow": false,
       "plotOptions": {
        "customPlotOptions": {},
        "displayType": "table",
        "pivotAggregation": null,
        "pivotColumns": null,
        "xColumns": null,
        "yColumns": null
       },
       "removedWidgets": [],
       "schema": [
        {
         "metadata": "{}",
         "name": "product_id",
         "type": "\"integer\""
        },
        {
         "metadata": "{}",
         "name": "product_name",
         "type": "\"string\""
        },
        {
         "metadata": "{}",
         "name": "category",
         "type": "\"string\""
        },
        {
         "metadata": "{}",
         "name": "price",
         "type": "\"integer\""
        }
       ],
       "type": "table"
      }
     },
     "output_type": "display_data"
    }
   ],
   "source": [
    "# Different types of joins and identifying missing records\n",
    "\n",
    "# Inner Join (orders + customers)\n",
    "inner_orders_customers = orders_df.join(customers_df, on=\"customer_id\", how=\"inner\")\n",
    "\n",
    "# Left Join (customers + orders)\n",
    "left_customers_orders  = customers_df.join(orders_df, on=\"customer_id\", how=\"left\")\n",
    "\n",
    "# Right Join (orders + products)\n",
    "right_orders_products  = orders_df.join(products_df, on=\"product_id\", how=\"right\")\n",
    "\n",
    "# Display results\n",
    "display(inner_orders_customers)\n",
    "display(left_customers_orders)\n",
    "display(right_orders_products)\n",
    "\n",
    "# Customers with no orders\n",
    "customers_with_orders = orders_df.select(\"customer_id\").distinct()\n",
    "customers_no_orders = customers_df.join(customers_with_orders, on=\"customer_id\", how=\"left_anti\")\n",
    "display(customers_no_orders)\n",
    "\n",
    "# Products that were never ordered\n",
    "products_ordered = orders_df.select(\"product_id\").distinct()\n",
    "products_never_ordered = products_df.join(products_ordered, on=\"product_id\", how=\"left_anti\")\n",
    "display(products_never_ordered)\n"
   ]
  },
  {
   "cell_type": "code",
   "execution_count": 0,
   "metadata": {
    "application/vnd.databricks.v1+cell": {
     "cellMetadata": {
      "byteLimit": 2048000,
      "rowLimit": 10000
     },
     "inputWidgets": {},
     "nuid": "1e0d164d-2cbd-4ff0-b2e0-7784a353bb80",
     "showTitle": false,
     "tableResultSettingsMap": {},
     "title": ""
    }
   },
   "outputs": [],
   "source": [
    "# Create Temporary SQL Views\n",
    "customers_df.createOrReplaceTempView(\"customers\")\n",
    "products_df.createOrReplaceTempView(\"products\")\n",
    "orders_total_df.createOrReplaceTempView(\"orders\")\n"
   ]
  },
  {
   "cell_type": "code",
   "execution_count": 0,
   "metadata": {
    "application/vnd.databricks.v1+cell": {
     "cellMetadata": {
      "byteLimit": 2048000,
      "implicitDf": true,
      "rowLimit": 10000
     },
     "inputWidgets": {},
     "nuid": "fbb2392c-656d-4ff5-83ac-161d51f4f7cb",
     "showTitle": false,
     "tableResultSettingsMap": {},
     "title": ""
    }
   },
   "outputs": [
    {
     "output_type": "display_data",
     "data": {
      "text/html": [
       "<style scoped>\n",
       "  .table-result-container {\n",
       "    max-height: 300px;\n",
       "    overflow: auto;\n",
       "  }\n",
       "  table, th, td {\n",
       "    border: 1px solid black;\n",
       "    border-collapse: collapse;\n",
       "  }\n",
       "  th, td {\n",
       "    padding: 5px;\n",
       "  }\n",
       "  th {\n",
       "    text-align: left;\n",
       "  }\n",
       "</style><div class='table-result-container'><table class='table-result'><thead style='background-color: white'><tr><th>city</th><th>total_revenue</th></tr></thead><tbody><tr><td>Bangalore</td><td>64000</td></tr><tr><td>Delhi</td><td>55000</td></tr></tbody></table></div>"
      ]
     },
     "metadata": {
      "application/vnd.databricks.v1+output": {
       "addedWidgets": {},
       "aggData": [],
       "aggError": "",
       "aggOverflow": false,
       "aggSchema": [],
       "aggSeriesLimitReached": false,
       "aggType": "",
       "arguments": {},
       "columnCustomDisplayInfos": {},
       "data": [
        [
         "Bangalore",
         64000
        ],
        [
         "Delhi",
         55000
        ]
       ],
       "datasetInfos": [
        {
         "name": "_sqldf",
         "schema": {
          "fields": [
           {
            "metadata": {},
            "name": "city",
            "nullable": true,
            "type": "string"
           },
           {
            "metadata": {},
            "name": "total_revenue",
            "nullable": true,
            "type": "long"
           }
          ],
          "type": "struct"
         },
         "tableIdentifier": null,
         "typeStr": "pyspark.sql.connect.dataframe.DataFrame"
        }
       ],
       "dbfsResultPath": null,
       "isJsonSchema": true,
       "metadata": {
        "createTempViewForImplicitDf": true,
        "dataframeName": "_sqldf",
        "executionCount": 23
       },
       "overflow": false,
       "plotOptions": {
        "customPlotOptions": {},
        "displayType": "table",
        "pivotAggregation": null,
        "pivotColumns": null,
        "xColumns": null,
        "yColumns": null
       },
       "removedWidgets": [],
       "schema": [
        {
         "metadata": "{}",
         "name": "city",
         "type": "\"string\""
        },
        {
         "metadata": "{}",
         "name": "total_revenue",
         "type": "\"long\""
        }
       ],
       "type": "table"
      }
     },
     "output_type": "display_data"
    }
   ],
   "source": [
    "%sql\n",
    "-- Top 2 cities by total revenue\n",
    "\n",
    "SELECT c.city, SUM(o.total_price) AS total_revenue\n",
    "FROM orders o\n",
    "JOIN customers c ON o.customer_id = c.customer_id\n",
    "GROUP BY c.city\n",
    "ORDER BY total_revenue DESC\n",
    "LIMIT 2;\n"
   ]
  },
  {
   "cell_type": "code",
   "execution_count": 0,
   "metadata": {
    "application/vnd.databricks.v1+cell": {
     "cellMetadata": {
      "byteLimit": 2048000,
      "implicitDf": true,
      "rowLimit": 10000
     },
     "inputWidgets": {},
     "nuid": "9782320c-0ce2-447c-a4dc-2742cd1bea9f",
     "showTitle": false,
     "tableResultSettingsMap": {},
     "title": ""
    }
   },
   "outputs": [
    {
     "output_type": "display_data",
     "data": {
      "text/html": [
       "<style scoped>\n",
       "  .table-result-container {\n",
       "    max-height: 300px;\n",
       "    overflow: auto;\n",
       "  }\n",
       "  table, th, td {\n",
       "    border: 1px solid black;\n",
       "    border-collapse: collapse;\n",
       "  }\n",
       "  th, td {\n",
       "    padding: 5px;\n",
       "  }\n",
       "  th {\n",
       "    text-align: left;\n",
       "  }\n",
       "</style><div class='table-result-container'><table class='table-result'><thead style='background-color: white'><tr><th>category</th><th>revenue</th></tr></thead><tbody><tr><td>Electronics</td><td>169000</td></tr></tbody></table></div>"
      ]
     },
     "metadata": {
      "application/vnd.databricks.v1+output": {
       "addedWidgets": {},
       "aggData": [],
       "aggError": "",
       "aggOverflow": false,
       "aggSchema": [],
       "aggSeriesLimitReached": false,
       "aggType": "",
       "arguments": {},
       "columnCustomDisplayInfos": {},
       "data": [
        [
         "Electronics",
         169000
        ]
       ],
       "datasetInfos": [
        {
         "name": "_sqldf",
         "schema": {
          "fields": [
           {
            "metadata": {},
            "name": "category",
            "nullable": true,
            "type": "string"
           },
           {
            "metadata": {},
            "name": "revenue",
            "nullable": true,
            "type": "long"
           }
          ],
          "type": "struct"
         },
         "tableIdentifier": null,
         "typeStr": "pyspark.sql.connect.dataframe.DataFrame"
        }
       ],
       "dbfsResultPath": null,
       "isJsonSchema": true,
       "metadata": {
        "createTempViewForImplicitDf": true,
        "dataframeName": "_sqldf",
        "executionCount": 26
       },
       "overflow": false,
       "plotOptions": {
        "customPlotOptions": {},
        "displayType": "table",
        "pivotAggregation": null,
        "pivotColumns": null,
        "xColumns": null,
        "yColumns": null
       },
       "removedWidgets": [],
       "schema": [
        {
         "metadata": "{}",
         "name": "category",
         "type": "\"string\""
        },
        {
         "metadata": "{}",
         "name": "revenue",
         "type": "\"long\""
        }
       ],
       "type": "table"
      }
     },
     "output_type": "display_data"
    }
   ],
   "source": [
    "%sql\n",
    "--  Most popular category by revenue\n",
    "\n",
    "SELECT p.category, SUM(o.total_price) AS revenue\n",
    "FROM orders o\n",
    "JOIN products p ON o.product_id = p.product_id\n",
    "GROUP BY p.category\n",
    "ORDER BY revenue DESC\n",
    "LIMIT 1;\n"
   ]
  },
  {
   "cell_type": "code",
   "execution_count": 0,
   "metadata": {
    "application/vnd.databricks.v1+cell": {
     "cellMetadata": {
      "byteLimit": 2048000,
      "implicitDf": true,
      "rowLimit": 10000
     },
     "inputWidgets": {},
     "nuid": "00fc729d-0aff-4db5-95d6-40b8997d1685",
     "showTitle": false,
     "tableResultSettingsMap": {},
     "title": ""
    }
   },
   "outputs": [
    {
     "output_type": "display_data",
     "data": {
      "text/html": [
       "<style scoped>\n",
       "  .table-result-container {\n",
       "    max-height: 300px;\n",
       "    overflow: auto;\n",
       "  }\n",
       "  table, th, td {\n",
       "    border: 1px solid black;\n",
       "    border-collapse: collapse;\n",
       "  }\n",
       "  th, td {\n",
       "    padding: 5px;\n",
       "  }\n",
       "  th {\n",
       "    text-align: left;\n",
       "  }\n",
       "</style><div class='table-result-container'><table class='table-result'><thead style='background-color: white'><tr><th>customer_id</th><th>name</th><th>total_spent</th></tr></thead><tbody><tr><td>1</td><td>Rahul Sharma</td><td>64000</td></tr></tbody></table></div>"
      ]
     },
     "metadata": {
      "application/vnd.databricks.v1+output": {
       "addedWidgets": {},
       "aggData": [],
       "aggError": "",
       "aggOverflow": false,
       "aggSchema": [],
       "aggSeriesLimitReached": false,
       "aggType": "",
       "arguments": {},
       "columnCustomDisplayInfos": {},
       "data": [
        [
         1,
         "Rahul Sharma",
         64000
        ]
       ],
       "datasetInfos": [
        {
         "name": "_sqldf",
         "schema": {
          "fields": [
           {
            "metadata": {},
            "name": "customer_id",
            "nullable": true,
            "type": "integer"
           },
           {
            "metadata": {},
            "name": "name",
            "nullable": true,
            "type": "string"
           },
           {
            "metadata": {},
            "name": "total_spent",
            "nullable": true,
            "type": "long"
           }
          ],
          "type": "struct"
         },
         "tableIdentifier": null,
         "typeStr": "pyspark.sql.connect.dataframe.DataFrame"
        }
       ],
       "dbfsResultPath": null,
       "isJsonSchema": true,
       "metadata": {
        "createTempViewForImplicitDf": true,
        "dataframeName": "_sqldf",
        "executionCount": 27
       },
       "overflow": false,
       "plotOptions": {
        "customPlotOptions": {},
        "displayType": "table",
        "pivotAggregation": null,
        "pivotColumns": null,
        "xColumns": null,
        "yColumns": null
       },
       "removedWidgets": [],
       "schema": [
        {
         "metadata": "{}",
         "name": "customer_id",
         "type": "\"integer\""
        },
        {
         "metadata": "{}",
         "name": "name",
         "type": "\"string\""
        },
        {
         "metadata": "{}",
         "name": "total_spent",
         "type": "\"long\""
        }
       ],
       "type": "table"
      }
     },
     "output_type": "display_data"
    }
   ],
   "source": [
    "%sql\n",
    "-- Customers who spent more than 50,000\n",
    "\n",
    "SELECT o.customer_id, c.name, SUM(o.total_price) AS total_spent\n",
    "FROM orders o\n",
    "JOIN customers c ON o.customer_id = c.customer_id\n",
    "GROUP BY o.customer_id, c.name\n",
    "HAVING SUM(o.total_price) > 50000\n",
    "ORDER BY total_spent DESC;\n"
   ]
  },
  {
   "cell_type": "code",
   "execution_count": 0,
   "metadata": {
    "application/vnd.databricks.v1+cell": {
     "cellMetadata": {
      "byteLimit": 2048000,
      "implicitDf": true,
      "rowLimit": 10000
     },
     "inputWidgets": {},
     "nuid": "4cc21a7e-3f0b-4273-b0c6-faf0de0ed55a",
     "showTitle": false,
     "tableResultSettingsMap": {},
     "title": ""
    }
   },
   "outputs": [
    {
     "output_type": "display_data",
     "data": {
      "text/html": [
       "<style scoped>\n",
       "  .table-result-container {\n",
       "    max-height: 300px;\n",
       "    overflow: auto;\n",
       "  }\n",
       "  table, th, td {\n",
       "    border: 1px solid black;\n",
       "    border-collapse: collapse;\n",
       "  }\n",
       "  th, td {\n",
       "    padding: 5px;\n",
       "  }\n",
       "  th {\n",
       "    text-align: left;\n",
       "  }\n",
       "</style><div class='table-result-container'><table class='table-result'><thead style='background-color: white'><tr><th>month</th><th>monthly_revenue</th></tr></thead><tbody><tr><td>1</td><td>105000</td></tr><tr><td>2</td><td>14000</td></tr><tr><td>3</td><td>63500</td></tr></tbody></table></div>"
      ]
     },
     "metadata": {
      "application/vnd.databricks.v1+output": {
       "addedWidgets": {},
       "aggData": [],
       "aggError": "",
       "aggOverflow": false,
       "aggSchema": [],
       "aggSeriesLimitReached": false,
       "aggType": "",
       "arguments": {},
       "columnCustomDisplayInfos": {},
       "data": [
        [
         1,
         105000
        ],
        [
         2,
         14000
        ],
        [
         3,
         63500
        ]
       ],
       "datasetInfos": [
        {
         "name": "_sqldf",
         "schema": {
          "fields": [
           {
            "metadata": {},
            "name": "month",
            "nullable": true,
            "type": "integer"
           },
           {
            "metadata": {},
            "name": "monthly_revenue",
            "nullable": true,
            "type": "long"
           }
          ],
          "type": "struct"
         },
         "tableIdentifier": null,
         "typeStr": "pyspark.sql.connect.dataframe.DataFrame"
        }
       ],
       "dbfsResultPath": null,
       "isJsonSchema": true,
       "metadata": {
        "createTempViewForImplicitDf": true,
        "dataframeName": "_sqldf",
        "executionCount": 28
       },
       "overflow": false,
       "plotOptions": {
        "customPlotOptions": {},
        "displayType": "table",
        "pivotAggregation": null,
        "pivotColumns": null,
        "xColumns": null,
        "yColumns": null
       },
       "removedWidgets": [],
       "schema": [
        {
         "metadata": "{}",
         "name": "month",
         "type": "\"integer\""
        },
        {
         "metadata": "{}",
         "name": "monthly_revenue",
         "type": "\"long\""
        }
       ],
       "type": "table"
      }
     },
     "output_type": "display_data"
    }
   ],
   "source": [
    "%sql\n",
    "-- Monthly sales trend\n",
    "\n",
    "SELECT month(order_date) AS month, SUM(total_price) AS monthly_revenue\n",
    "FROM orders\n",
    "GROUP BY month\n",
    "ORDER BY month;\n"
   ]
  },
  {
   "cell_type": "code",
   "execution_count": 0,
   "metadata": {
    "application/vnd.databricks.v1+cell": {
     "cellMetadata": {
      "byteLimit": 2048000,
      "rowLimit": 10000
     },
     "inputWidgets": {},
     "nuid": "6638a75f-91ef-45dc-8626-b90673a365a9",
     "showTitle": false,
     "tableResultSettingsMap": {},
     "title": ""
    }
   },
   "outputs": [
    {
     "output_type": "display_data",
     "data": {
      "text/html": [
       "<style scoped>\n",
       "  .table-result-container {\n",
       "    max-height: 300px;\n",
       "    overflow: auto;\n",
       "  }\n",
       "  table, th, td {\n",
       "    border: 1px solid black;\n",
       "    border-collapse: collapse;\n",
       "  }\n",
       "  th, td {\n",
       "    padding: 5px;\n",
       "  }\n",
       "  th {\n",
       "    text-align: left;\n",
       "  }\n",
       "</style><div class='table-result-container'><table class='table-result'><thead style='background-color: white'><tr><th>path</th><th>name</th><th>size</th><th>modificationTime</th></tr></thead><tbody><tr><td>dbfs:/FileStore/tables/orders_summary/_SUCCESS</td><td>_SUCCESS</td><td>0</td><td>1759845011000</td></tr><tr><td>dbfs:/FileStore/tables/orders_summary/_committed_4332621355902353409</td><td>_committed_4332621355902353409</td><td>113</td><td>1759845011000</td></tr><tr><td>dbfs:/FileStore/tables/orders_summary/_started_4332621355902353409</td><td>_started_4332621355902353409</td><td>0</td><td>1759845011000</td></tr><tr><td>dbfs:/FileStore/tables/orders_summary/part-00000-tid-4332621355902353409-81d119ca-065e-4f92-9b47-12d4439a4ace-184-1-c000.csv</td><td>part-00000-tid-4332621355902353409-81d119ca-065e-4f92-9b47-12d4439a4ace-184-1-c000.csv</td><td>487</td><td>1759845011000</td></tr></tbody></table></div>"
      ]
     },
     "metadata": {
      "application/vnd.databricks.v1+output": {
       "addedWidgets": {},
       "aggData": [],
       "aggError": "",
       "aggOverflow": false,
       "aggSchema": [],
       "aggSeriesLimitReached": false,
       "aggType": "",
       "arguments": {},
       "columnCustomDisplayInfos": {},
       "data": [
        [
         "dbfs:/FileStore/tables/orders_summary/_SUCCESS",
         "_SUCCESS",
         0,
         1759845011000
        ],
        [
         "dbfs:/FileStore/tables/orders_summary/_committed_4332621355902353409",
         "_committed_4332621355902353409",
         113,
         1759845011000
        ],
        [
         "dbfs:/FileStore/tables/orders_summary/_started_4332621355902353409",
         "_started_4332621355902353409",
         0,
         1759845011000
        ],
        [
         "dbfs:/FileStore/tables/orders_summary/part-00000-tid-4332621355902353409-81d119ca-065e-4f92-9b47-12d4439a4ace-184-1-c000.csv",
         "part-00000-tid-4332621355902353409-81d119ca-065e-4f92-9b47-12d4439a4ace-184-1-c000.csv",
         487,
         1759845011000
        ]
       ],
       "datasetInfos": [],
       "dbfsResultPath": null,
       "isJsonSchema": true,
       "metadata": {},
       "overflow": false,
       "plotOptions": {
        "customPlotOptions": {},
        "displayType": "table",
        "pivotAggregation": null,
        "pivotColumns": null,
        "xColumns": null,
        "yColumns": null
       },
       "removedWidgets": [],
       "schema": [
        {
         "metadata": "{}",
         "name": "path",
         "type": "\"string\""
        },
        {
         "metadata": "{}",
         "name": "name",
         "type": "\"string\""
        },
        {
         "metadata": "{}",
         "name": "size",
         "type": "\"long\""
        },
        {
         "metadata": "{}",
         "name": "modificationTime",
         "type": "\"long\""
        }
       ],
       "type": "table"
      }
     },
     "output_type": "display_data"
    },
    {
     "output_type": "display_data",
     "data": {
      "text/html": [
       "<style scoped>\n",
       "  .table-result-container {\n",
       "    max-height: 300px;\n",
       "    overflow: auto;\n",
       "  }\n",
       "  table, th, td {\n",
       "    border: 1px solid black;\n",
       "    border-collapse: collapse;\n",
       "  }\n",
       "  th, td {\n",
       "    padding: 5px;\n",
       "  }\n",
       "  th {\n",
       "    text-align: left;\n",
       "  }\n",
       "</style><div class='table-result-container'><table class='table-result'><thead style='background-color: white'><tr><th>product_id</th><th>order_id</th><th>customer_id</th><th>quantity</th><th>order_date</th><th>product_name</th><th>category</th><th>price</th><th>total_price</th><th>order_month</th></tr></thead><tbody><tr><td>101</td><td>1001</td><td>1</td><td>1</td><td>2024-01-10</td><td>Laptop</td><td>Electronics</td><td>55000</td><td>55000</td><td>1</td></tr><tr><td>102</td><td>1002</td><td>2</td><td>2</td><td>2024-01-12</td><td>Mobile</td><td>Electronics</td><td>25000</td><td>50000</td><td>1</td></tr><tr><td>103</td><td>1003</td><td>1</td><td>3</td><td>2024-02-05</td><td>Headphones</td><td>Electronics</td><td>3000</td><td>9000</td><td>2</td></tr><tr><td>104</td><td>1004</td><td>3</td><td>1</td><td>2024-02-08</td><td>Chair</td><td>Furniture</td><td>5000</td><td>5000</td><td>2</td></tr><tr><td>105</td><td>1005</td><td>5</td><td>5</td><td>2024-03-01</td><td>Book</td><td>Stationery</td><td>700</td><td>3500</td><td>3</td></tr><tr><td>106</td><td>1006</td><td>6</td><td>2</td><td>2024-03-15</td><td>Shoes</td><td>Fashion</td><td>2500</td><td>5000</td><td>3</td></tr><tr><td>101</td><td>1007</td><td>7</td><td>1</td><td>2024-03-20</td><td>Laptop</td><td>Electronics</td><td>55000</td><td>55000</td><td>3</td></tr></tbody></table></div>"
      ]
     },
     "metadata": {
      "application/vnd.databricks.v1+output": {
       "addedWidgets": {},
       "aggData": [],
       "aggError": "",
       "aggOverflow": false,
       "aggSchema": [],
       "aggSeriesLimitReached": false,
       "aggType": "",
       "arguments": {},
       "columnCustomDisplayInfos": {},
       "data": [
        [
         101,
         1001,
         1,
         1,
         "2024-01-10",
         "Laptop",
         "Electronics",
         55000,
         55000,
         1
        ],
        [
         102,
         1002,
         2,
         2,
         "2024-01-12",
         "Mobile",
         "Electronics",
         25000,
         50000,
         1
        ],
        [
         103,
         1003,
         1,
         3,
         "2024-02-05",
         "Headphones",
         "Electronics",
         3000,
         9000,
         2
        ],
        [
         104,
         1004,
         3,
         1,
         "2024-02-08",
         "Chair",
         "Furniture",
         5000,
         5000,
         2
        ],
        [
         105,
         1005,
         5,
         5,
         "2024-03-01",
         "Book",
         "Stationery",
         700,
         3500,
         3
        ],
        [
         106,
         1006,
         6,
         2,
         "2024-03-15",
         "Shoes",
         "Fashion",
         2500,
         5000,
         3
        ],
        [
         101,
         1007,
         7,
         1,
         "2024-03-20",
         "Laptop",
         "Electronics",
         55000,
         55000,
         3
        ]
       ],
       "datasetInfos": [],
       "dbfsResultPath": null,
       "isJsonSchema": true,
       "metadata": {},
       "overflow": false,
       "plotOptions": {
        "customPlotOptions": {},
        "displayType": "table",
        "pivotAggregation": null,
        "pivotColumns": null,
        "xColumns": null,
        "yColumns": null
       },
       "removedWidgets": [],
       "schema": [
        {
         "metadata": "{}",
         "name": "product_id",
         "type": "\"integer\""
        },
        {
         "metadata": "{}",
         "name": "order_id",
         "type": "\"integer\""
        },
        {
         "metadata": "{}",
         "name": "customer_id",
         "type": "\"integer\""
        },
        {
         "metadata": "{}",
         "name": "quantity",
         "type": "\"integer\""
        },
        {
         "metadata": "{\"__detected_date_formats\": \"yyyy-M-d\"}",
         "name": "order_date",
         "type": "\"date\""
        },
        {
         "metadata": "{}",
         "name": "product_name",
         "type": "\"string\""
        },
        {
         "metadata": "{}",
         "name": "category",
         "type": "\"string\""
        },
        {
         "metadata": "{}",
         "name": "price",
         "type": "\"integer\""
        },
        {
         "metadata": "{}",
         "name": "total_price",
         "type": "\"integer\""
        },
        {
         "metadata": "{}",
         "name": "order_month",
         "type": "\"integer\""
        }
       ],
       "type": "table"
      }
     },
     "output_type": "display_data"
    }
   ],
   "source": [
    "# Save and read back the summary DataFrame\n",
    "orders_total_df.write.mode(\"overwrite\").option(\"header\", True).csv(\"/FileStore/tables/orders_summary\")\n",
    "\n",
    "# List saved files\n",
    "display(dbutils.fs.ls(\"/FileStore/tables/orders_summary\"))\n",
    "\n",
    "# Read back the saved CSV\n",
    "summary_df = spark.read.csv(\"/FileStore/tables/orders_summary\", header=True, inferSchema=True)\n",
    "display(summary_df)\n"
   ]
  },
  {
   "cell_type": "code",
   "execution_count": 0,
   "metadata": {
    "application/vnd.databricks.v1+cell": {
     "cellMetadata": {
      "byteLimit": 2048000,
      "rowLimit": 10000
     },
     "inputWidgets": {},
     "nuid": "0944681f-abb9-4166-a1d1-93efbc906d24",
     "showTitle": false,
     "tableResultSettingsMap": {},
     "title": ""
    }
   },
   "outputs": [
    {
     "output_type": "display_data",
     "data": {
      "image/png": "[encoded data removed]",
      "text/plain": [
       "<Figure size 600x400 with 1 Axes>"
      ]
     },
     "metadata": {},
     "output_type": "display_data"
    }
   ],
   "source": [
    "# Visualization (Matplotlib)\n",
    "import matplotlib.pyplot as plt\n",
    "\n",
    "# Group total sales by category\n",
    "category_df = orders_products.groupBy(\"category\").sum(\"total_price\").withColumnRenamed(\"sum(total_price)\",\"revenue\")\n",
    "p_cat = category_df.toPandas()\n",
    "\n",
    "# Plot total revenue by category\n",
    "plt.figure(figsize=(6,4))\n",
    "plt.bar(p_cat[\"category\"], p_cat[\"revenue\"])\n",
    "plt.title(\"Total Sales by Category\")\n",
    "plt.xlabel(\"Category\")\n",
    "plt.ylabel(\"Revenue (INR)\")\n",
    "plt.tight_layout()\n",
    "plt.show()\n"
   ]
  },
  {
   "cell_type": "code",
   "execution_count": 0,
   "metadata": {
    "application/vnd.databricks.v1+cell": {
     "cellMetadata": {
      "byteLimit": 2048000,
      "rowLimit": 10000
     },
     "inputWidgets": {},
     "nuid": "5ad6df19-fac9-46e4-bcd7-caf9acd9d94e",
     "showTitle": false,
     "tableResultSettingsMap": {},
     "title": ""
    }
   },
   "outputs": [
    {
     "output_type": "display_data",
     "data": {
      "text/html": [
       "<style scoped>\n",
       "  .table-result-container {\n",
       "    max-height: 300px;\n",
       "    overflow: auto;\n",
       "  }\n",
       "  table, th, td {\n",
       "    border: 1px solid black;\n",
       "    border-collapse: collapse;\n",
       "  }\n",
       "  th, td {\n",
       "    padding: 5px;\n",
       "  }\n",
       "  th {\n",
       "    text-align: left;\n",
       "  }\n",
       "</style><div class='table-result-container'><table class='table-result'><thead style='background-color: white'><tr><th>customer_id</th><th>order_id</th><th>product_id</th><th>quantity</th><th>order_date</th></tr></thead><tbody><tr><td>7</td><td>1007</td><td>101</td><td>1</td><td>2024-03-20</td></tr></tbody></table></div>"
      ]
     },
     "metadata": {
      "application/vnd.databricks.v1+output": {
       "addedWidgets": {},
       "aggData": [],
       "aggError": "",
       "aggOverflow": false,
       "aggSchema": [],
       "aggSeriesLimitReached": false,
       "aggType": "",
       "arguments": {},
       "columnCustomDisplayInfos": {},
       "data": [
        [
         7,
         1007,
         101,
         1,
         "2024-03-20"
        ]
       ],
       "datasetInfos": [],
       "dbfsResultPath": null,
       "isJsonSchema": true,
       "metadata": {},
       "overflow": false,
       "plotOptions": {
        "customPlotOptions": {},
        "displayType": "table",
        "pivotAggregation": null,
        "pivotColumns": null,
        "xColumns": null,
        "yColumns": null
       },
       "removedWidgets": [],
       "schema": [
        {
         "metadata": "{}",
         "name": "customer_id",
         "type": "\"integer\""
        },
        {
         "metadata": "{}",
         "name": "order_id",
         "type": "\"integer\""
        },
        {
         "metadata": "{}",
         "name": "product_id",
         "type": "\"integer\""
        },
        {
         "metadata": "{}",
         "name": "quantity",
         "type": "\"integer\""
        },
        {
         "metadata": "{\"__detected_date_formats\": \"yyyy-M-d\"}",
         "name": "order_date",
         "type": "\"date\""
        }
       ],
       "type": "table"
      }
     },
     "output_type": "display_data"
    },
    {
     "output_type": "display_data",
     "data": {
      "text/html": [
       "<style scoped>\n",
       "  .table-result-container {\n",
       "    max-height: 300px;\n",
       "    overflow: auto;\n",
       "  }\n",
       "  table, th, td {\n",
       "    border: 1px solid black;\n",
       "    border-collapse: collapse;\n",
       "  }\n",
       "  th, td {\n",
       "    padding: 5px;\n",
       "  }\n",
       "  th {\n",
       "    text-align: left;\n",
       "  }\n",
       "</style><div class='table-result-container'><table class='table-result'><thead style='background-color: white'><tr><th>product_id</th><th>order_id</th><th>customer_id</th><th>quantity</th><th>order_date</th></tr></thead><tbody></tbody></table></div>"
      ]
     },
     "metadata": {
      "application/vnd.databricks.v1+output": {
       "addedWidgets": {},
       "aggData": [],
       "aggError": "",
       "aggOverflow": false,
       "aggSchema": [],
       "aggSeriesLimitReached": false,
       "aggType": "",
       "arguments": {},
       "columnCustomDisplayInfos": {},
       "data": [],
       "datasetInfos": [],
       "dbfsResultPath": null,
       "isJsonSchema": true,
       "metadata": {},
       "overflow": false,
       "plotOptions": {
        "customPlotOptions": {},
        "displayType": "table",
        "pivotAggregation": null,
        "pivotColumns": null,
        "xColumns": null,
        "yColumns": null
       },
       "removedWidgets": [],
       "schema": [
        {
         "metadata": "{}",
         "name": "product_id",
         "type": "\"integer\""
        },
        {
         "metadata": "{}",
         "name": "order_id",
         "type": "\"integer\""
        },
        {
         "metadata": "{}",
         "name": "customer_id",
         "type": "\"integer\""
        },
        {
         "metadata": "{}",
         "name": "quantity",
         "type": "\"integer\""
        },
        {
         "metadata": "{\"__detected_date_formats\": \"yyyy-M-d\"}",
         "name": "order_date",
         "type": "\"date\""
        }
       ],
       "type": "table"
      }
     },
     "output_type": "display_data"
    }
   ],
   "source": [
    "# Check for missing customers or products\n",
    "orders_missing_customer = orders_df.join(customers_df, on=\"customer_id\", how=\"left_anti\")\n",
    "display(orders_missing_customer)\n",
    "\n",
    "orders_missing_product = orders_df.join(products_df, on=\"product_id\", how=\"left_anti\")\n",
    "display(orders_missing_product)\n"
   ]
  }
 ],
 "metadata": {
  "application/vnd.databricks.v1+notebook": {
   "computePreferences": null,
   "dashboards": [],
   "environmentMetadata": {
    "base_environment": "",
    "environment_version": "3"
   },
   "inputWidgetPreferences": null,
   "language": "python",
   "notebookMetadata": {
    "mostRecentlyExecutedCommandWithImplicitDF": {
     "commandId": 5423510157784751,
     "dataframes": [
      "_sqldf"
     ]
    },
    "pythonIndentUnit": 4
   },
   "notebookName": "Azure_Task-1-E-Commerce Analytics",
   "widgets": {}
  },
  "language_info": {
   "name": "python"
  }
 },
 "nbformat": 4,
 "nbformat_minor": 0
}