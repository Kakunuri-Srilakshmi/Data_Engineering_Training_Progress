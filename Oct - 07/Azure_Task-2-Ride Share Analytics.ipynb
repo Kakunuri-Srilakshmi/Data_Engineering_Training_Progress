{
 "cells": [
  {
   "cell_type": "code",
   "execution_count": 0,
   "metadata": {
    "application/vnd.databricks.v1+cell": {
     "cellMetadata": {
      "byteLimit": 2048000,
      "rowLimit": 10000
     },
     "inputWidgets": {},
     "nuid": "2bec16d0-f528-4869-928a-7b91ac6d475c",
     "showTitle": false,
     "tableResultSettingsMap": {},
     "title": ""
    }
   },
   "outputs": [
    {
     "output_type": "stream",
     "name": "stdout",
     "output_type": "stream",
     "text": [
      "Wrote 220 bytes.\nWrote 243 bytes.\nWrote 127 bytes.\n"
     ]
    },
    {
     "output_type": "display_data",
     "data": {
      "text/html": [
       "<style scoped>\n",
       "  .table-result-container {\n",
       "    max-height: 300px;\n",
       "    overflow: auto;\n",
       "  }\n",
       "  table, th, td {\n",
       "    border: 1px solid black;\n",
       "    border-collapse: collapse;\n",
       "  }\n",
       "  th, td {\n",
       "    padding: 5px;\n",
       "  }\n",
       "  th {\n",
       "    text-align: left;\n",
       "  }\n",
       "</style><div class='table-result-container'><table class='table-result'><thead style='background-color: white'><tr><th>driver_id</th><th>driver_name</th><th>city</th><th>experience_years</th><th>rating</th></tr></thead><tbody><tr><td>1</td><td>Arun Kumar</td><td>Bangalore</td><td>4</td><td>4.6</td></tr><tr><td>2</td><td>Pooja Rao</td><td>Chennai</td><td>2</td><td>4.3</td></tr><tr><td>3</td><td>Imran Sheikh</td><td>Delhi</td><td>6</td><td>4.8</td></tr><tr><td>4</td><td>Nisha Patel</td><td>Hyderabad</td><td>1</td><td>4.0</td></tr><tr><td>5</td><td>Rajesh Naik</td><td>Mumbai</td><td>8</td><td>4.9</td></tr><tr><td>6</td><td>Sneha Menon</td><td>Bangalore</td><td>3</td><td>4.4</td></tr></tbody></table></div>"
      ]
     },
     "metadata": {
      "application/vnd.databricks.v1+output": {
       "addedWidgets": {},
       "aggData": [],
       "aggError": "",
       "aggOverflow": false,
       "aggSchema": [],
       "aggSeriesLimitReached": false,
       "aggType": "",
       "arguments": {},
       "columnCustomDisplayInfos": {},
       "data": [
        [
         1,
         "Arun Kumar",
         "Bangalore",
         4,
         4.6
        ],
        [
         2,
         "Pooja Rao",
         "Chennai",
         2,
         4.3
        ],
        [
         3,
         "Imran Sheikh",
         "Delhi",
         6,
         4.8
        ],
        [
         4,
         "Nisha Patel",
         "Hyderabad",
         1,
         4.0
        ],
        [
         5,
         "Rajesh Naik",
         "Mumbai",
         8,
         4.9
        ],
        [
         6,
         "Sneha Menon",
         "Bangalore",
         3,
         4.4
        ]
       ],
       "datasetInfos": [],
       "dbfsResultPath": null,
       "isJsonSchema": true,
       "metadata": {},
       "overflow": false,
       "plotOptions": {
        "customPlotOptions": {},
        "displayType": "table",
        "pivotAggregation": null,
        "pivotColumns": null,
        "xColumns": null,
        "yColumns": null
       },
       "removedWidgets": [],
       "schema": [
        {
         "metadata": "{}",
         "name": "driver_id",
         "type": "\"integer\""
        },
        {
         "metadata": "{}",
         "name": "driver_name",
         "type": "\"string\""
        },
        {
         "metadata": "{}",
         "name": "city",
         "type": "\"string\""
        },
        {
         "metadata": "{}",
         "name": "experience_years",
         "type": "\"integer\""
        },
        {
         "metadata": "{}",
         "name": "rating",
         "type": "\"double\""
        }
       ],
       "type": "table"
      }
     },
     "output_type": "display_data"
    },
    {
     "output_type": "display_data",
     "data": {
      "text/html": [
       "<style scoped>\n",
       "  .table-result-container {\n",
       "    max-height: 300px;\n",
       "    overflow: auto;\n",
       "  }\n",
       "  table, th, td {\n",
       "    border: 1px solid black;\n",
       "    border-collapse: collapse;\n",
       "  }\n",
       "  th, td {\n",
       "    padding: 5px;\n",
       "  }\n",
       "  th {\n",
       "    text-align: left;\n",
       "  }\n",
       "</style><div class='table-result-container'><table class='table-result'><thead style='background-color: white'><tr><th>ride_id</th><th>driver_id</th><th>distance_km</th><th>price</th><th>ride_date</th></tr></thead><tbody><tr><td>1001</td><td>1</td><td>10</td><td>250</td><td>2024-02-01</td></tr><tr><td>1002</td><td>2</td><td>7</td><td>180</td><td>2024-02-03</td></tr><tr><td>1003</td><td>3</td><td>15</td><td>500</td><td>2024-02-05</td></tr><tr><td>1004</td><td>4</td><td>5</td><td>120</td><td>2024-02-08</td></tr><tr><td>1005</td><td>1</td><td>12</td><td>300</td><td>2024-02-10</td></tr><tr><td>1006</td><td>5</td><td>20</td><td>800</td><td>2024-02-15</td></tr><tr><td>1007</td><td>6</td><td>9</td><td>230</td><td>2024-02-20</td></tr><tr><td>1008</td><td>7</td><td>11</td><td>270</td><td>2024-02-22</td></tr></tbody></table></div>"
      ]
     },
     "metadata": {
      "application/vnd.databricks.v1+output": {
       "addedWidgets": {},
       "aggData": [],
       "aggError": "",
       "aggOverflow": false,
       "aggSchema": [],
       "aggSeriesLimitReached": false,
       "aggType": "",
       "arguments": {},
       "columnCustomDisplayInfos": {},
       "data": [
        [
         1001,
         1,
         10,
         250,
         "2024-02-01"
        ],
        [
         1002,
         2,
         7,
         180,
         "2024-02-03"
        ],
        [
         1003,
         3,
         15,
         500,
         "2024-02-05"
        ],
        [
         1004,
         4,
         5,
         120,
         "2024-02-08"
        ],
        [
         1005,
         1,
         12,
         300,
         "2024-02-10"
        ],
        [
         1006,
         5,
         20,
         800,
         "2024-02-15"
        ],
        [
         1007,
         6,
         9,
         230,
         "2024-02-20"
        ],
        [
         1008,
         7,
         11,
         270,
         "2024-02-22"
        ]
       ],
       "datasetInfos": [],
       "dbfsResultPath": null,
       "isJsonSchema": true,
       "metadata": {},
       "overflow": false,
       "plotOptions": {
        "customPlotOptions": {},
        "displayType": "table",
        "pivotAggregation": null,
        "pivotColumns": null,
        "xColumns": null,
        "yColumns": null
       },
       "removedWidgets": [],
       "schema": [
        {
         "metadata": "{}",
         "name": "ride_id",
         "type": "\"integer\""
        },
        {
         "metadata": "{}",
         "name": "driver_id",
         "type": "\"integer\""
        },
        {
         "metadata": "{}",
         "name": "distance_km",
         "type": "\"integer\""
        },
        {
         "metadata": "{}",
         "name": "price",
         "type": "\"integer\""
        },
        {
         "metadata": "{\"__detected_date_formats\": \"yyyy-M-d\"}",
         "name": "ride_date",
         "type": "\"date\""
        }
       ],
       "type": "table"
      }
     },
     "output_type": "display_data"
    },
    {
     "output_type": "display_data",
     "data": {
      "text/html": [
       "<style scoped>\n",
       "  .table-result-container {\n",
       "    max-height: 300px;\n",
       "    overflow: auto;\n",
       "  }\n",
       "  table, th, td {\n",
       "    border: 1px solid black;\n",
       "    border-collapse: collapse;\n",
       "  }\n",
       "  th, td {\n",
       "    padding: 5px;\n",
       "  }\n",
       "  th {\n",
       "    text-align: left;\n",
       "  }\n",
       "</style><div class='table-result-container'><table class='table-result'><thead style='background-color: white'><tr><th>ride_id</th><th>customer_feedback</th></tr></thead><tbody><tr><td>1001</td><td>Excellent</td></tr><tr><td>1002</td><td>Good</td></tr><tr><td>1003</td><td>Excellent</td></tr><tr><td>1004</td><td>Average</td></tr><tr><td>1005</td><td>Good</td></tr><tr><td>1006</td><td>Excellent</td></tr><tr><td>1007</td><td>Average</td></tr><tr><td>1008</td><td>Good</td></tr></tbody></table></div>"
      ]
     },
     "metadata": {
      "application/vnd.databricks.v1+output": {
       "addedWidgets": {},
       "aggData": [],
       "aggError": "",
       "aggOverflow": false,
       "aggSchema": [],
       "aggSeriesLimitReached": false,
       "aggType": "",
       "arguments": {},
       "columnCustomDisplayInfos": {},
       "data": [
        [
         1001,
         "Excellent"
        ],
        [
         1002,
         "Good"
        ],
        [
         1003,
         "Excellent"
        ],
        [
         1004,
         "Average"
        ],
        [
         1005,
         "Good"
        ],
        [
         1006,
         "Excellent"
        ],
        [
         1007,
         "Average"
        ],
        [
         1008,
         "Good"
        ]
       ],
       "datasetInfos": [],
       "dbfsResultPath": null,
       "isJsonSchema": true,
       "metadata": {},
       "overflow": false,
       "plotOptions": {
        "customPlotOptions": {},
        "displayType": "table",
        "pivotAggregation": null,
        "pivotColumns": null,
        "xColumns": null,
        "yColumns": null
       },
       "removedWidgets": [],
       "schema": [
        {
         "metadata": "{}",
         "name": "ride_id",
         "type": "\"integer\""
        },
        {
         "metadata": "{}",
         "name": "customer_feedback",
         "type": "\"string\""
        }
       ],
       "type": "table"
      }
     },
     "output_type": "display_data"
    },
    {
     "output_type": "stream",
     "name": "stdout",
     "output_type": "stream",
     "text": [
      "root\n |-- driver_id: integer (nullable = true)\n |-- driver_name: string (nullable = true)\n |-- city: string (nullable = true)\n |-- experience_years: integer (nullable = true)\n |-- rating: double (nullable = true)\n\nroot\n |-- ride_id: integer (nullable = true)\n |-- driver_id: integer (nullable = true)\n |-- distance_km: integer (nullable = true)\n |-- price: integer (nullable = true)\n |-- ride_date: date (nullable = true)\n\nroot\n |-- ride_id: integer (nullable = true)\n |-- customer_feedback: string (nullable = true)\n\n+---------+-------+-----------+-----+----------+\n|driver_id|ride_id|distance_km|price| ride_date|\n+---------+-------+-----------+-----+----------+\n|        7|   1008|         11|  270|2024-02-22|\n+---------+-------+-----------+-----+----------+\n\n"
     ]
    },
    {
     "output_type": "display_data",
     "data": {
      "text/html": [
       "<style scoped>\n",
       "  .table-result-container {\n",
       "    max-height: 300px;\n",
       "    overflow: auto;\n",
       "  }\n",
       "  table, th, td {\n",
       "    border: 1px solid black;\n",
       "    border-collapse: collapse;\n",
       "  }\n",
       "  th, td {\n",
       "    padding: 5px;\n",
       "  }\n",
       "  th {\n",
       "    text-align: left;\n",
       "  }\n",
       "</style><div class='table-result-container'><table class='table-result'><thead style='background-color: white'><tr><th>city</th><th>total_revenue</th></tr></thead><tbody><tr><td>null</td><td>270</td></tr><tr><td>Bangalore</td><td>780</td></tr><tr><td>Chennai</td><td>180</td></tr><tr><td>Delhi</td><td>500</td></tr><tr><td>Mumbai</td><td>800</td></tr><tr><td>Hyderabad</td><td>120</td></tr></tbody></table></div>"
      ]
     },
     "metadata": {
      "application/vnd.databricks.v1+output": {
       "addedWidgets": {},
       "aggData": [],
       "aggError": "",
       "aggOverflow": false,
       "aggSchema": [],
       "aggSeriesLimitReached": false,
       "aggType": "",
       "arguments": {},
       "columnCustomDisplayInfos": {},
       "data": [
        [
         null,
         270
        ],
        [
         "Bangalore",
         780
        ],
        [
         "Chennai",
         180
        ],
        [
         "Delhi",
         500
        ],
        [
         "Mumbai",
         800
        ],
        [
         "Hyderabad",
         120
        ]
       ],
       "datasetInfos": [],
       "dbfsResultPath": null,
       "isJsonSchema": true,
       "metadata": {},
       "overflow": false,
       "plotOptions": {
        "customPlotOptions": {},
        "displayType": "table",
        "pivotAggregation": null,
        "pivotColumns": null,
        "xColumns": null,
        "yColumns": null
       },
       "removedWidgets": [],
       "schema": [
        {
         "metadata": "{}",
         "name": "city",
         "type": "\"string\""
        },
        {
         "metadata": "{}",
         "name": "total_revenue",
         "type": "\"long\""
        }
       ],
       "type": "table"
      }
     },
     "output_type": "display_data"
    },
    {
     "output_type": "stream",
     "name": "stdout",
     "output_type": "stream",
     "text": [
      "+---------+----------+\n|     city|avg_rating|\n+---------+----------+\n|Bangalore|       4.5|\n|  Chennai|       4.3|\n|    Delhi|       4.8|\n|   Mumbai|       4.9|\n|Hyderabad|       4.0|\n+---------+----------+\n\n+------------+---------+-----+\n| driver_name|     city|price|\n+------------+---------+-----+\n|        NULL|     NULL|  270|\n|  Arun Kumar|Bangalore|  300|\n|   Pooja Rao|  Chennai|  180|\n|Imran Sheikh|    Delhi|  500|\n| Nisha Patel|Hyderabad|  120|\n| Rajesh Naik|   Mumbai|  800|\n+------------+---------+-----+\n\n+---------+-----------+----+----------------+------+\n|driver_id|driver_name|city|experience_years|rating|\n+---------+-----------+----+----------------+------+\n+---------+-----------+----+----------------+------+\n\n+-------+---------+-----------+-----+----------+------------+---------+----------------+------+------------------+-----------------+\n|ride_id|driver_id|distance_km|price| ride_date| driver_name|     city|experience_years|rating|   earnings_per_km|customer_feedback|\n+-------+---------+-----------+-----+----------+------------+---------+----------------+------+------------------+-----------------+\n|   1001|        1|         10|  250|2024-02-01|  Arun Kumar|Bangalore|               4|   4.6|              25.0|        Excellent|\n|   1002|        2|          7|  180|2024-02-03|   Pooja Rao|  Chennai|               2|   4.3|25.714285714285715|             Good|\n|   1003|        3|         15|  500|2024-02-05|Imran Sheikh|    Delhi|               6|   4.8|33.333333333333336|        Excellent|\n|   1004|        4|          5|  120|2024-02-08| Nisha Patel|Hyderabad|               1|   4.0|              24.0|          Average|\n|   1005|        1|         12|  300|2024-02-10|  Arun Kumar|Bangalore|               4|   4.6|              25.0|             Good|\n|   1006|        5|         20|  800|2024-02-15| Rajesh Naik|   Mumbai|               8|   4.9|              40.0|        Excellent|\n|   1007|        6|          9|  230|2024-02-20| Sneha Menon|Bangalore|               3|   4.4|25.555555555555557|          Average|\n|   1008|        7|         11|  270|2024-02-22|        NULL|     NULL|            NULL|  NULL|24.545454545454547|             Good|\n+-------+---------+-----------+-----+----------+------------+---------+----------------+------+------------------+-----------------+\n\n+-----------------+----------+\n|customer_feedback|ride_count|\n+-----------------+----------+\n|          Average|         2|\n|        Excellent|         3|\n|             Good|         3|\n+-----------------+----------+\n\n+---------+---------+\n|     city|avg_price|\n+---------+---------+\n|   Mumbai|    800.0|\n|    Delhi|    500.0|\n|     NULL|    270.0|\n|Bangalore|    260.0|\n|  Chennai|    180.0|\n|Hyderabad|    120.0|\n+---------+---------+\n\n"
     ]
    },
    {
     "output_type": "display_data",
     "data": {
      "image/png": "[encoded data removed]",
      "text/plain": [
       "<Figure size 800x500 with 1 Axes>"
      ]
     },
     "metadata": {},
     "output_type": "display_data"
    }
   ],
   "source": [
    "\n",
    "from pyspark.sql import SparkSession\n",
    "from pyspark.sql.functions import col, sum as _sum, avg, count, row_number\n",
    "from pyspark.sql.window import Window\n",
    "import matplotlib.pyplot as plt\n",
    "\n",
    "# Create Spark session (Databricks auto-provides spark)\n",
    "spark = SparkSession.builder.appName(\"RideShareAnalytics\").getOrCreate()\n",
    "\n",
    "# Create CSV files directly in DBFS\n",
    "\n",
    "csv_drivers = \"\"\"driver_id,driver_name,city,experience_years,rating\n",
    "1,Arun Kumar,Bangalore,4,4.6\n",
    "2,Pooja Rao,Chennai,2,4.3\n",
    "3,Imran Sheikh,Delhi,6,4.8\n",
    "4,Nisha Patel,Hyderabad,1,4.0\n",
    "5,Rajesh Naik,Mumbai,8,4.9\n",
    "6,Sneha Menon,Bangalore,3,4.4\n",
    "\"\"\"\n",
    "\n",
    "csv_rides = \"\"\"ride_id,driver_id,distance_km,price,ride_date\n",
    "1001,1,10,250,2024-02-01\n",
    "1002,2,7,180,2024-02-03\n",
    "1003,3,15,500,2024-02-05\n",
    "1004,4,5,120,2024-02-08\n",
    "1005,1,12,300,2024-02-10\n",
    "1006,5,20,800,2024-02-15\n",
    "1007,6,9,230,2024-02-20\n",
    "1008,7,11,270,2024-02-22\n",
    "\"\"\"\n",
    "\n",
    "csv_feedback = \"\"\"ride_id,customer_feedback\n",
    "1001,Excellent\n",
    "1002,Good\n",
    "1003,Excellent\n",
    "1004,Average\n",
    "1005,Good\n",
    "1006,Excellent\n",
    "1007,Average\n",
    "1008,Good\n",
    "\"\"\"\n",
    "\n",
    "# Write CSV data to DBFS (FileStore)\n",
    "dbutils.fs.put(\"/FileStore/tables/drivers.csv\", csv_drivers, True)\n",
    "dbutils.fs.put(\"/FileStore/tables/rides.csv\", csv_rides, True)\n",
    "dbutils.fs.put(\"/FileStore/tables/feedback.csv\", csv_feedback, True)\n",
    "\n",
    "# Read CSV files into DataFrames\n",
    "\n",
    "drivers_df = spark.read.csv(\"/FileStore/tables/drivers.csv\", header=True, inferSchema=True)\n",
    "rides_df = spark.read.csv(\"/FileStore/tables/rides.csv\", header=True, inferSchema=True)\n",
    "feedback_df = spark.read.csv(\"/FileStore/tables/feedback.csv\", header=True, inferSchema=True)\n",
    "\n",
    "# Display DataFrames\n",
    "display(drivers_df)\n",
    "display(rides_df)\n",
    "display(feedback_df)\n",
    "\n",
    "# Print schemas\n",
    "drivers_df.printSchema()\n",
    "rides_df.printSchema()\n",
    "feedback_df.printSchema()\n",
    "\n",
    "# Identify rides with missing drivers\n",
    "rides_missing_drivers = rides_df.join(drivers_df, \"driver_id\", \"left_anti\")\n",
    "rides_missing_drivers.show()\n",
    "\n",
    "# Join rides and drivers to include city, experience_years, rating\n",
    "rides_drivers_df = rides_df.join(drivers_df, \"driver_id\", \"left\")\n",
    "\n",
    "# Add earnings_per_km column\n",
    "rides_drivers_df = rides_drivers_df.withColumn(\"earnings_per_km\", col(\"price\") / col(\"distance_km\"))\n",
    "\n",
    "# Calculate total revenue per city\n",
    "revenue_per_city = rides_drivers_df.groupBy(\"city\").agg(_sum(\"price\").alias(\"total_revenue\"))\n",
    "display(revenue_per_city)\n",
    "\n",
    "# Determine average rating by city\n",
    "avg_rating_city = drivers_df.groupBy(\"city\").agg(avg(\"rating\").alias(\"avg_rating\"))\n",
    "avg_rating_city.show()\n",
    "\n",
    "# Find the top earning driver in each city using window function\n",
    "windowSpec = Window.partitionBy(\"city\").orderBy(col(\"price\").desc())\n",
    "top_driver_city = rides_drivers_df.withColumn(\"rank\", row_number().over(windowSpec)).filter(col(\"rank\") == 1)\n",
    "top_driver_city.select(\"driver_name\", \"city\", \"price\").show()\n",
    "\n",
    "# Identify drivers with no rides (Left Join)\n",
    "drivers_no_rides = drivers_df.join(rides_df, \"driver_id\", \"left_anti\")\n",
    "drivers_no_rides.show()\n",
    "\n",
    "# Combine feedback dataset to mark ride performance\n",
    "rides_feedback_df = rides_drivers_df.join(feedback_df, \"ride_id\", \"left\")\n",
    "rides_feedback_df.show()\n",
    "\n",
    "# Count rides by feedback category (Excellent/Good/Average)\n",
    "feedback_count = rides_feedback_df.groupBy(\"customer_feedback\").agg(count(\"*\").alias(\"ride_count\"))\n",
    "feedback_count.show()\n",
    "\n",
    "# Using SQL view, find cities with highest average ride price\n",
    "rides_feedback_df.createOrReplaceTempView(\"rides_summary\")\n",
    "spark.sql(\"\"\"\n",
    "    SELECT city, AVG(price) AS avg_price\n",
    "    FROM rides_summary\n",
    "    GROUP BY city\n",
    "    ORDER BY avg_price DESC\n",
    "\"\"\").show()\n",
    "\n",
    "# Save final combined DataFrame to DBFS\n",
    "rides_feedback_df.write.mode(\"overwrite\").csv(\"/FileStore/tables/rides_summary.csv\")\n",
    "\n",
    "# Plot total revenue per city as a bar chart\n",
    "pdf_revenue = revenue_per_city.toPandas()\n",
    "pdf_revenue = pdf_revenue[pdf_revenue['city'].notnull()]\n",
    "\n",
    "plt.figure(figsize=(8,5))\n",
    "plt.bar(pdf_revenue['city'], pdf_revenue['total_revenue'], color='skyblue')\n",
    "plt.title('Total Revenue per City')\n",
    "plt.xlabel('City')\n",
    "plt.ylabel('Revenue')\n",
    "plt.show()\n"
   ]
  }
 ],
 "metadata": {
  "application/vnd.databricks.v1+notebook": {
   "computePreferences": null,
   "dashboards": [],
   "environmentMetadata": {
    "base_environment": "",
    "environment_version": "3"
   },
   "inputWidgetPreferences": null,
   "language": "python",
   "notebookMetadata": {
    "pythonIndentUnit": 4
   },
   "notebookName": "Azure_Task-2-Ride Share Analytics",
   "widgets": {}
  },
  "language_info": {
   "name": "python"
  }
 },
 "nbformat": 4,
 "nbformat_minor": 0
}