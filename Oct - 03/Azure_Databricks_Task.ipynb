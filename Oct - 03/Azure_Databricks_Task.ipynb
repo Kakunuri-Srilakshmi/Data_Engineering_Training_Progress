{
 "cells": [
  {
   "cell_type": "markdown",
   "metadata": {
    "application/vnd.databricks.v1+cell": {
     "cellMetadata": {},
     "inputWidgets": {},
     "nuid": "a2022538-5e2a-4671-87f9-752bc6720c8e",
     "showTitle": false,
     "tableResultSettingsMap": {},
     "title": ""
    }
   },
   "source": [
    "### **Task -  Retail Store Analysis**\n"
   ]
  },
  {
   "cell_type": "code",
   "execution_count": 0,
   "metadata": {
    "application/vnd.databricks.v1+cell": {
     "cellMetadata": {
      "byteLimit": 2048000,
      "rowLimit": 10000
     },
     "inputWidgets": {},
     "nuid": "742be23c-d7d6-4ecb-ad3d-9f9bbfaa2d01",
     "showTitle": false,
     "tableResultSettingsMap": {},
     "title": ""
    }
   },
   "outputs": [
    {
     "output_type": "stream",
     "name": "stdout",
     "output_type": "stream",
     "text": [
      "Customers DataFrame:\n+-----------+-----+---------+---+\n|customer_id| name|     city|age|\n+-----------+-----+---------+---+\n|          1|Rahul|Bangalore| 25|\n|          2|Priya|    Delhi| 32|\n|          3| Aman|Hyderabad| 29|\n|          4|Sneha|  Chennai| 35|\n+-----------+-----+---------+---+\n\nOrders DataFrame:\n+--------+-----------+----------+------+\n|order_id|customer_id|   product|amount|\n+--------+-----------+----------+------+\n|     101|          1|    Laptop| 55000|\n|     102|          2|    Mobile| 25000|\n|     103|          1|Headphones|  3000|\n|     104|          3|      Book|   700|\n|     105|          4|     Chair|  5000|\n|     106|          2|     Shoes|  2000|\n+--------+-----------+----------+------+\n\n"
     ]
    }
   ],
   "source": [
    "from pyspark.sql import SparkSession\n",
    "from pyspark.sql.functions import col, sum, avg, max\n",
    "\n",
    "#   Create Spark Session\n",
    "spark = SparkSession.builder.appName(\"RetailStoreAnalysis\").getOrCreate()\n",
    "\n",
    "#   Create DataFrames\n",
    "customers_data = [\n",
    "    (1, \"Rahul\", \"Bangalore\", 25),\n",
    "    (2, \"Priya\", \"Delhi\", 32),\n",
    "    (3, \"Aman\", \"Hyderabad\", 29),\n",
    "    (4, \"Sneha\", \"Chennai\", 35)\n",
    "]\n",
    "customers_cols = [\"customer_id\", \"name\", \"city\", \"age\"]\n",
    "\n",
    "orders_data = [\n",
    "    (101, 1, \"Laptop\", 55000),\n",
    "    (102, 2, \"Mobile\", 25000),\n",
    "    (103, 1, \"Headphones\", 3000),\n",
    "    (104, 3, \"Book\", 700),\n",
    "    (105, 4, \"Chair\", 5000),\n",
    "    (106, 2, \"Shoes\", 2000)\n",
    "]\n",
    "orders_cols = [\"order_id\", \"customer_id\", \"product\", \"amount\"]\n",
    "\n",
    "customers_df = spark.createDataFrame(customers_data, customers_cols)\n",
    "orders_df = spark.createDataFrame(orders_data, orders_cols)\n",
    "\n",
    "# Show DataFrames\n",
    "print(\"Customers DataFrame:\")\n",
    "customers_df.show()\n",
    "print(\"Orders DataFrame:\")\n",
    "orders_df.show()"
   ]
  },
  {
   "cell_type": "code",
   "execution_count": 0,
   "metadata": {
    "application/vnd.databricks.v1+cell": {
     "cellMetadata": {
      "byteLimit": 2048000,
      "rowLimit": 10000
     },
     "inputWidgets": {},
     "nuid": "1832f44e-3a0a-4c50-9fde-ae0e1ff3ee62",
     "showTitle": false,
     "tableResultSettingsMap": {},
     "title": ""
    }
   },
   "outputs": [
    {
     "output_type": "stream",
     "name": "stdout",
     "output_type": "stream",
     "text": [
      "Customers older than 30:\n+-----------+-----+-------+---+\n|customer_id| name|   city|age|\n+-----------+-----+-------+---+\n|          2|Priya|  Delhi| 32|\n|          4|Sneha|Chennai| 35|\n+-----------+-----+-------+---+\n\n"
     ]
    }
   ],
   "source": [
    "#  Show all customers who are older than 30\n",
    "print(\"Customers older than 30:\")\n",
    "customers_df.filter(col(\"age\") > 30).show()"
   ]
  },
  {
   "cell_type": "code",
   "execution_count": 0,
   "metadata": {
    "application/vnd.databricks.v1+cell": {
     "cellMetadata": {
      "byteLimit": 2048000,
      "rowLimit": 10000
     },
     "inputWidgets": {},
     "nuid": "6c4031eb-d37c-450a-b699-0fc15fb83b0d",
     "showTitle": false,
     "tableResultSettingsMap": {},
     "title": ""
    }
   },
   "outputs": [
    {
     "output_type": "stream",
     "name": "stdout",
     "output_type": "stream",
     "text": [
      "Distinct Cities:\n+---------+\n|     city|\n+---------+\n|Bangalore|\n|Hyderabad|\n|    Delhi|\n|  Chennai|\n+---------+\n\n"
     ]
    }
   ],
   "source": [
    "#  List all distinct cities where customers live\n",
    "print(\"Distinct Cities:\")\n",
    "customers_df.select(\"city\").distinct().show()"
   ]
  },
  {
   "cell_type": "code",
   "execution_count": 0,
   "metadata": {
    "application/vnd.databricks.v1+cell": {
     "cellMetadata": {
      "byteLimit": 2048000,
      "rowLimit": 10000
     },
     "inputWidgets": {},
     "nuid": "f43ea4c9-92fb-4604-82ea-4c1ea4582425",
     "showTitle": false,
     "tableResultSettingsMap": {},
     "title": ""
    }
   },
   "outputs": [
    {
     "output_type": "stream",
     "name": "stdout",
     "output_type": "stream",
     "text": [
      "Total amount spent by each customer:\n+-----------+-----------+\n|customer_id|total_spent|\n+-----------+-----------+\n|          2|      27000|\n|          3|        700|\n|          1|      58000|\n|          4|       5000|\n+-----------+-----------+\n\n"
     ]
    }
   ],
   "source": [
    "# Find the total amount spent by each customer\n",
    "print(\"Total amount spent by each customer:\")\n",
    "orders_df.groupBy(\"customer_id\").agg(sum(\"amount\").alias(\"total_spent\")).show()"
   ]
  },
  {
   "cell_type": "code",
   "execution_count": 0,
   "metadata": {
    "application/vnd.databricks.v1+cell": {
     "cellMetadata": {
      "byteLimit": 2048000,
      "rowLimit": 10000
     },
     "inputWidgets": {},
     "nuid": "05469352-676d-4c0d-bf4d-1af5173d6c39",
     "showTitle": false,
     "tableResultSettingsMap": {},
     "title": ""
    }
   },
   "outputs": [
    {
     "output_type": "stream",
     "name": "stdout",
     "output_type": "stream",
     "text": [
      "Average order amount:\n+------------------+\n|  avg_order_amount|\n+------------------+\n|15116.666666666666|\n+------------------+\n\n"
     ]
    }
   ],
   "source": [
    "# Find the average order amount across all orders\n",
    "print(\"Average order amount:\")\n",
    "orders_df.agg(avg(\"amount\").alias(\"avg_order_amount\")).show()"
   ]
  },
  {
   "cell_type": "code",
   "execution_count": 0,
   "metadata": {
    "application/vnd.databricks.v1+cell": {
     "cellMetadata": {
      "byteLimit": 2048000,
      "rowLimit": 10000
     },
     "inputWidgets": {},
     "nuid": "7f42c663-afe1-4535-9047-43b8c904a252",
     "showTitle": false,
     "tableResultSettingsMap": {},
     "title": ""
    }
   },
   "outputs": [
    {
     "output_type": "stream",
     "name": "stdout",
     "output_type": "stream",
     "text": [
      "Most expensive order:\n+--------+-----------+-------+------+\n|order_id|customer_id|product|amount|\n+--------+-----------+-------+------+\n|     101|          1| Laptop| 55000|\n+--------+-----------+-------+------+\n\n"
     ]
    }
   ],
   "source": [
    "#  Find the most expensive order placed\n",
    "print(\"Most expensive order:\")\n",
    "orders_df.orderBy(col(\"amount\").desc()).limit(1).show()"
   ]
  },
  {
   "cell_type": "code",
   "execution_count": 0,
   "metadata": {
    "application/vnd.databricks.v1+cell": {
     "cellMetadata": {
      "byteLimit": 2048000,
      "rowLimit": 10000
     },
     "inputWidgets": {},
     "nuid": "4ec97d24-c630-4d74-835e-3088614e5fb5",
     "showTitle": false,
     "tableResultSettingsMap": {},
     "title": ""
    }
   },
   "outputs": [
    {
     "output_type": "stream",
     "name": "stdout",
     "output_type": "stream",
     "text": [
      "Join customers with orders:\n+-----+---------+----------+------+\n| name|     city|   product|amount|\n+-----+---------+----------+------+\n|Rahul|Bangalore|    Laptop| 55000|\n|Priya|    Delhi|    Mobile| 25000|\n|Rahul|Bangalore|Headphones|  3000|\n| Aman|Hyderabad|      Book|   700|\n|Sneha|  Chennai|     Chair|  5000|\n|Priya|    Delhi|     Shoes|  2000|\n+-----+---------+----------+------+\n\n"
     ]
    }
   ],
   "source": [
    "#  Join customers with their orders and display name, city, product, amount\n",
    "print(\"Join customers with orders:\")\n",
    "joined_df = customers_df.join(orders_df, \"customer_id\")\n",
    "joined_df.select(\"name\", \"city\", \"product\", \"amount\").show()"
   ]
  },
  {
   "cell_type": "code",
   "execution_count": 0,
   "metadata": {
    "application/vnd.databricks.v1+cell": {
     "cellMetadata": {
      "byteLimit": 2048000,
      "rowLimit": 10000
     },
     "inputWidgets": {},
     "nuid": "1243f0b8-9d23-49df-aaaf-b28cbd230c0a",
     "showTitle": false,
     "tableResultSettingsMap": {},
     "title": ""
    }
   },
   "outputs": [
    {
     "output_type": "stream",
     "name": "stdout",
     "output_type": "stream",
     "text": [
      "City with highest total spending:\n+---------+-----------+\n|     city|total_spent|\n+---------+-----------+\n|Bangalore|      58000|\n+---------+-----------+\n\n"
     ]
    }
   ],
   "source": [
    "# Find the city with the highest total spending\n",
    "print(\"City with highest total spending:\")\n",
    "city_spending = joined_df.groupBy(\"city\").agg(sum(\"amount\").alias(\"total_spent\"))\n",
    "city_spending.orderBy(col(\"total_spent\").desc()).limit(1).show()"
   ]
  },
  {
   "cell_type": "code",
   "execution_count": 0,
   "metadata": {
    "application/vnd.databricks.v1+cell": {
     "cellMetadata": {
      "byteLimit": 2048000,
      "rowLimit": 10000
     },
     "inputWidgets": {},
     "nuid": "34f15743-dc70-4d93-94e5-78cc2a85cdd1",
     "showTitle": false,
     "tableResultSettingsMap": {},
     "title": ""
    }
   },
   "outputs": [
    {
     "output_type": "stream",
     "name": "stdout",
     "output_type": "stream",
     "text": [
      "Top 2 customers by total spend (SQL):\n+-----+-----------+\n| name|total_spent|\n+-----+-----------+\n|Rahul|      58000|\n|Priya|      27000|\n+-----+-----------+\n\n"
     ]
    }
   ],
   "source": [
    "#  Using SQL, list the top 2 customers by total spend\n",
    "print(\"Top 2 customers by total spend (SQL):\")\n",
    "customers_df.createOrReplaceTempView(\"customers\")\n",
    "orders_df.createOrReplaceTempView(\"orders\")\n",
    "\n",
    "spark.sql(\"\"\"\n",
    "SELECT c.name, SUM(o.amount) as total_spent\n",
    "FROM customers c\n",
    "JOIN orders o ON c.customer_id = o.customer_id\n",
    "GROUP BY c.name\n",
    "ORDER BY total_spent DESC\n",
    "LIMIT 2\n",
    "\"\"\").show()"
   ]
  },
  {
   "cell_type": "code",
   "execution_count": 0,
   "metadata": {
    "application/vnd.databricks.v1+cell": {
     "cellMetadata": {
      "byteLimit": 2048000,
      "rowLimit": 10000
     },
     "inputWidgets": {},
     "nuid": "67ddea78-0e60-43d6-b997-76c756bcda90",
     "showTitle": false,
     "tableResultSettingsMap": {},
     "title": ""
    }
   },
   "outputs": [
    {
     "output_type": "stream",
     "name": "stdout",
     "output_type": "stream",
     "text": [
      "+--------+-----------+----------+------+\n|order_id|customer_id|   product|amount|\n+--------+-----------+----------+------+\n|     103|          1|Headphones|  3000|\n|     101|          1|    Laptop| 55000|\n|     102|          2|    Mobile| 25000|\n|     105|          4|     Chair|  5000|\n|     106|          2|     Shoes|  2000|\n|     104|          3|      Book|   700|\n+--------+-----------+----------+------+\n\n"
     ]
    }
   ],
   "source": [
    "#  Save orders_df as CSV and load it back\n",
    "import os\n",
    "csv_path = os.path.abspath(\"orders_csv\")\n",
    "orders_df.write.mode(\"overwrite\").csv(csv_path, header=True)\n",
    "new_orders_df = spark.read.csv(csv_path, header=True, inferSchema=True)\n",
    "new_orders_df.show()\n"
   ]
  }
 ],
 "metadata": {
  "application/vnd.databricks.v1+notebook": {
   "computePreferences": null,
   "dashboards": [],
   "environmentMetadata": {
    "base_environment": "",
    "environment_version": "3"
   },
   "inputWidgetPreferences": null,
   "language": "python",
   "notebookMetadata": {
    "pythonIndentUnit": 4
   },
   "notebookName": "Azure-Databricks1",
   "widgets": {}
  },
  "language_info": {
   "name": "python"
  }
 },
 "nbformat": 4,
 "nbformat_minor": 0
}
